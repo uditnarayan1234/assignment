{
 "cells": [
  {
   "cell_type": "code",
   "execution_count": 1,
   "id": "0e1d6605-e47c-4deb-85bf-81dbf998c0c1",
   "metadata": {},
   "outputs": [],
   "source": [
    "##Q1; to make a code more structure and modular and and define the case in case of oops"
   ]
  },
  {
   "cell_type": "code",
   "execution_count": 13,
   "id": "4bceb6c8-b653-4ba9-b29e-8702e360a128",
   "metadata": {},
   "outputs": [],
   "source": [
    "class class1:\n",
    "    \n",
    "    def inner_class(self):\n",
    "        print (\"welcome to this batch\")"
   ]
  },
  {
   "cell_type": "code",
   "execution_count": 14,
   "id": "0a25644b-6372-4b94-a2a4-54311e5ee947",
   "metadata": {},
   "outputs": [],
   "source": [
    "pw = class1()"
   ]
  },
  {
   "cell_type": "code",
   "execution_count": 15,
   "id": "e29065be-091b-45ea-aff9-8bc1402b0310",
   "metadata": {},
   "outputs": [
    {
     "name": "stdout",
     "output_type": "stream",
     "text": [
      "welcome to this batch\n"
     ]
    }
   ],
   "source": [
    "pw.inner_class()"
   ]
  },
  {
   "cell_type": "code",
   "execution_count": 16,
   "id": "fc3bffe8-c1d4-4097-8703-de4a7f9fe247",
   "metadata": {},
   "outputs": [],
   "source": [
    "##Q2; four pillars of oops is \n",
    "##1-POLYMORPHISAM\n",
    "##2-ENCAPSULATION\n",
    "##3-INHERITANCE\n",
    "##4-ABSTACTION"
   ]
  },
  {
   "cell_type": "code",
   "execution_count": 17,
   "id": "fe96ea06-105e-4c25-a688-71caaf3bc230",
   "metadata": {},
   "outputs": [],
   "source": [
    "##Q3; __init__() is a construtor it is use to pass data into the class"
   ]
  },
  {
   "cell_type": "code",
   "execution_count": 20,
   "id": "d1dc661f-14f6-4f5f-acdc-87e6af520355",
   "metadata": {},
   "outputs": [],
   "source": [
    "class class2:\n",
    "    \n",
    "    def __init__(self,course_name,duration):\n",
    "        self.course_name1=course_name\n",
    "        self.duration1=duration\n",
    "        \n",
    "    def all_details(self):\n",
    "        return self.course_name1,self.duration1"
   ]
  },
  {
   "cell_type": "code",
   "execution_count": 21,
   "id": "a20b843c-a847-45f9-8bf8-89a5e09c8f74",
   "metadata": {},
   "outputs": [],
   "source": [
    "T=class2(\"Btech\", 4)"
   ]
  },
  {
   "cell_type": "code",
   "execution_count": 22,
   "id": "3b1d76d1-6e72-4730-ab45-74eb21ff0cda",
   "metadata": {},
   "outputs": [
    {
     "data": {
      "text/plain": [
       "('Btech', 4)"
      ]
     },
     "execution_count": 22,
     "metadata": {},
     "output_type": "execute_result"
    }
   ],
   "source": [
    "T.all_details()"
   ]
  },
  {
   "cell_type": "code",
   "execution_count": 23,
   "id": "c0b587f9-a6e0-4d36-9171-1dcb00b5664f",
   "metadata": {},
   "outputs": [
    {
     "data": {
      "text/plain": [
       "'Btech'"
      ]
     },
     "execution_count": 23,
     "metadata": {},
     "output_type": "execute_result"
    }
   ],
   "source": [
    "T.course_name1"
   ]
  },
  {
   "cell_type": "code",
   "execution_count": 24,
   "id": "e43e372a-7364-485c-99b6-0f9af989693a",
   "metadata": {},
   "outputs": [],
   "source": [
    "##Q4;self is a pointer which point a class"
   ]
  },
  {
   "cell_type": "code",
   "execution_count": 25,
   "id": "31003521-6916-4ba7-8636-d104c6949e50",
   "metadata": {},
   "outputs": [],
   "source": [
    "##Q5;when one class use in anather class that is called inheritance"
   ]
  },
  {
   "cell_type": "code",
   "execution_count": 26,
   "id": "5544df74-d252-4b63-a51f-f415fcc2e210",
   "metadata": {},
   "outputs": [],
   "source": [
    "class class5:\n",
    "    \n",
    "    def you_details(self):\n",
    "        print(\"You got details about pw\")"
   ]
  },
  {
   "cell_type": "code",
   "execution_count": 27,
   "id": "6dcff51c-c8cb-4a03-be73-20d2c231b250",
   "metadata": {},
   "outputs": [],
   "source": [
    "class class6(class5):\n",
    "    \n",
    "    def he_details(self):\n",
    "        print(\"You get details about data science \")"
   ]
  },
  {
   "cell_type": "code",
   "execution_count": 28,
   "id": "098a5c73-dd72-4fd6-9ee4-f130dcfd4756",
   "metadata": {},
   "outputs": [],
   "source": [
    "class class9(class6):\n",
    "    pass"
   ]
  },
  {
   "cell_type": "code",
   "execution_count": 29,
   "id": "0c551aae-02b9-4b9b-a251-296ab13c96fc",
   "metadata": {},
   "outputs": [],
   "source": [
    "class9_obj=class9()"
   ]
  },
  {
   "cell_type": "code",
   "execution_count": null,
   "id": "903f1956-23af-4de4-a6db-f1f8b207962b",
   "metadata": {},
   "outputs": [],
   "source": [
    "class9_obj."
   ]
  }
 ],
 "metadata": {
  "kernelspec": {
   "display_name": "Python 3 (ipykernel)",
   "language": "python",
   "name": "python3"
  },
  "language_info": {
   "codemirror_mode": {
    "name": "ipython",
    "version": 3
   },
   "file_extension": ".py",
   "mimetype": "text/x-python",
   "name": "python",
   "nbconvert_exporter": "python",
   "pygments_lexer": "ipython3",
   "version": "3.10.8"
  }
 },
 "nbformat": 4,
 "nbformat_minor": 5
}
