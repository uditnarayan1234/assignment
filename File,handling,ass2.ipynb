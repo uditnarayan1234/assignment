{
 "cells": [
  {
   "cell_type": "code",
   "execution_count": null,
   "id": "1e2cff95-1069-4e17-b021-570f793cfa1f",
   "metadata": {},
   "outputs": [],
   "source": [
    "##Q1;In python we store the exception super class into a class and using raise we call the function while creating a custom Exception"
   ]
  },
  {
   "cell_type": "code",
   "execution_count": null,
   "id": "2a52e57c-2271-4538-9690-16c178cae380",
   "metadata": {},
   "outputs": [],
   "source": [
    "##Q3;"
   ]
  },
  {
   "cell_type": "code",
   "execution_count": 2,
   "id": "c8286f52-a4bc-4796-a666-9f1993d707ed",
   "metadata": {},
   "outputs": [
    {
     "name": "stdout",
     "output_type": "stream",
     "text": [
      "division by zero\n"
     ]
    }
   ],
   "source": [
    "try:\n",
    "    10/0\n",
    "    \n",
    "except Exception as e:\n",
    "    print(e)"
   ]
  },
  {
   "cell_type": "code",
   "execution_count": 3,
   "id": "980941ed-8228-46f4-a5f1-1d2cdaeae9e4",
   "metadata": {},
   "outputs": [],
   "source": [
    "##Q4;when  index or key is not found in case of dictionary"
   ]
  },
  {
   "cell_type": "code",
   "execution_count": 6,
   "id": "026a0bc8-9149-435a-b89a-12345f5e7367",
   "metadata": {},
   "outputs": [
    {
     "name": "stdout",
     "output_type": "stream",
     "text": [
      "'value'\n"
     ]
    }
   ],
   "source": [
    "try:\n",
    "    d={\"name\":\"udit\", \"class\":\"data science\"}\n",
    "    print(d[\"value\"])\n",
    "except Exception as e:\n",
    "    print(e)"
   ]
  },
  {
   "cell_type": "code",
   "execution_count": 1,
   "id": "52ea2b1a-197a-46ae-b2f5-6ed2ed3fe55b",
   "metadata": {},
   "outputs": [
    {
     "name": "stdout",
     "output_type": "stream",
     "text": [
      "'key2'\n"
     ]
    }
   ],
   "source": [
    "##keyError is when index is not found in case dictionary EXAMPLE IS;\n",
    "try:\n",
    "    d={\"name\":\"kumar\", \"mentor\":\"data science masters\"}\n",
    "    print(d[\"key2\"])\n",
    "except Exception as e:\n",
    "    print(e)"
   ]
  },
  {
   "cell_type": "code",
   "execution_count": 2,
   "id": "0cd3173e-7f76-486d-a90d-2cb7f052bd71",
   "metadata": {},
   "outputs": [
    {
     "name": "stdout",
     "output_type": "stream",
     "text": [
      "not found index list index out of range\n"
     ]
    }
   ],
   "source": [
    "##IndexError is when we not found element is case of list\n",
    "try:\n",
    "    l=[8,6,7]\n",
    "    print(l[6])\n",
    "except IndexError as e:\n",
    "    print(\"not found index\",e)"
   ]
  },
  {
   "cell_type": "code",
   "execution_count": 1,
   "id": "5261abc9-d7b6-498b-8be1-04eaf5b18fde",
   "metadata": {},
   "outputs": [
    {
     "name": "stdout",
     "output_type": "stream",
     "text": [
      "No module named 'kumar'\n"
     ]
    }
   ],
   "source": [
    "##Q5;ImportError occours when a class cannot be imported \n",
    "try:\n",
    "    import kumar\n",
    "    \n",
    "except ImportError as e:\n",
    "    print(e)"
   ]
  },
  {
   "cell_type": "code",
   "execution_count": 2,
   "id": "93d4a58f-efec-4213-a23d-0954129ae292",
   "metadata": {},
   "outputs": [],
   "source": [
    "##ModuleNotFoundError occours when trying to access a module that cannot be found\n"
   ]
  },
  {
   "cell_type": "code",
   "execution_count": 1,
   "id": "32726563-1631-475a-b63a-5298c4e90ce8",
   "metadata": {},
   "outputs": [
    {
     "name": "stdout",
     "output_type": "stream",
     "text": [
      "cannot add string with int  unsupported operand type(s) for +: 'int' and 'str'\n"
     ]
    }
   ],
   "source": [
    "##Q6;\n",
    "try:\n",
    "    1+\"class\"\n",
    "    \n",
    "except TypeError as e:\n",
    "    print(\"cannot add string with int \",e)"
   ]
  },
  {
   "cell_type": "code",
   "execution_count": 2,
   "id": "787a9df2-cceb-4b8b-9070-138f678b09d0",
   "metadata": {},
   "outputs": [
    {
     "name": "stdout",
     "output_type": "stream",
     "text": [
      "'str' object has no attribute 'test2'\n"
     ]
    }
   ],
   "source": [
    "try:\n",
    "    \"kumar\".test2.txt()\n",
    "except AttributeError as e:\n",
    "    print(e)"
   ]
  },
  {
   "cell_type": "code",
   "execution_count": 4,
   "id": "b34d84c1-9eed-4d5c-a66e-1f4a996d38f8",
   "metadata": {},
   "outputs": [
    {
     "name": "stdout",
     "output_type": "stream",
     "text": [
      "convert into int\n"
     ]
    }
   ],
   "source": [
    "try:\n",
    "    int(\"sudh\")\n",
    "except:\n",
    "        print(\"convert into int\")"
   ]
  },
  {
   "cell_type": "code",
   "execution_count": null,
   "id": "791d62c4-0d46-40a0-be15-0b414254cc7a",
   "metadata": {},
   "outputs": [],
   "source": []
  }
 ],
 "metadata": {
  "kernelspec": {
   "display_name": "Python 3 (ipykernel)",
   "language": "python",
   "name": "python3"
  },
  "language_info": {
   "codemirror_mode": {
    "name": "ipython",
    "version": 3
   },
   "file_extension": ".py",
   "mimetype": "text/x-python",
   "name": "python",
   "nbconvert_exporter": "python",
   "pygments_lexer": "ipython3",
   "version": "3.10.8"
  }
 },
 "nbformat": 4,
 "nbformat_minor": 5
}
