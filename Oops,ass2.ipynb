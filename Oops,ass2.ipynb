{
 "cells": [
  {
   "cell_type": "code",
   "execution_count": 19,
   "id": "39da6242-9914-46ae-ba91-d4f62ede6625",
   "metadata": {},
   "outputs": [],
   "source": [
    "import abc\n",
    "class pwskills:\n",
    "    \n",
    "    @abc.abstractmethod\n",
    "    def student_details(self):\n",
    "        pass\n",
    "    \n",
    "    @abc.abstractmethod\n",
    "    def course_name(self):\n",
    "        pass\n",
    "    \n",
    "    @abc.abstractmethod\n",
    "    def course_value(self):\n",
    "        pass\n",
    "        "
   ]
  },
  {
   "cell_type": "code",
   "execution_count": 20,
   "id": "19afc657-e1e1-4b59-835e-e1abbe172dc5",
   "metadata": {},
   "outputs": [],
   "source": [
    "class data_science(pwskills):\n",
    "    \n",
    "    def student_details(self):\n",
    "        return \"This is the batch data\"\n",
    "        \n",
    "    def course_name(self):\n",
    "        return \"this is the impact batch\""
   ]
  },
  {
   "cell_type": "code",
   "execution_count": 21,
   "id": "a3024304-f7b2-4b2d-b510-323361a45e72",
   "metadata": {},
   "outputs": [],
   "source": [
    "class data_science(pwskills):\n",
    "    \n",
    "    def student_details(self):\n",
    "        return \"This is the batch data\"\n",
    "        \n",
    "    def course_name(self):\n",
    "        return \"this is the impact batch\""
   ]
  },
  {
   "cell_type": "code",
   "execution_count": 6,
   "id": "44bf12b8-110e-4f83-adcc-cf1c760eefb9",
   "metadata": {},
   "outputs": [],
   "source": [
    "ds=data_science()"
   ]
  },
  {
   "cell_type": "code",
   "execution_count": 7,
   "id": "0795f430-07b0-448f-b6a0-d6e3af81588e",
   "metadata": {},
   "outputs": [
    {
     "data": {
      "text/plain": [
       "'This is the batch data'"
      ]
     },
     "execution_count": 7,
     "metadata": {},
     "output_type": "execute_result"
    }
   ],
   "source": [
    "ds.student_details()"
   ]
  },
  {
   "cell_type": "code",
   "execution_count": 8,
   "id": "64f56456-c6cc-45d3-96f1-80d98027e2ad",
   "metadata": {},
   "outputs": [],
   "source": [
    "java = java_dsa()"
   ]
  },
  {
   "cell_type": "code",
   "execution_count": 9,
   "id": "ab503f29-ce82-4c6e-a4bc-96d189b29569",
   "metadata": {},
   "outputs": [
    {
     "name": "stdout",
     "output_type": "stream",
     "text": [
      "the course name is java with dsa batch\n"
     ]
    }
   ],
   "source": [
    "java.course_name()"
   ]
  },
  {
   "cell_type": "code",
   "execution_count": 10,
   "id": "01bd2df3-45a9-48a9-bcaa-1394b71cf625",
   "metadata": {},
   "outputs": [],
   "source": [
    "##Q2;abstraction is a blue print to implemetion in our own defination for acess diff diff data\n",
    "##but ENCAPSULATION is to hide the internal structure of class from user"
   ]
  },
  {
   "cell_type": "code",
   "execution_count": 12,
   "id": "583bc4f5-283e-424e-8e82-25598af0a14e",
   "metadata": {},
   "outputs": [],
   "source": [
    "##ex of encapsulation\n",
    "class class1:\n",
    "    \n",
    "    def __init__(self,name,number):\n",
    "        self.__name=name\n",
    "        self.__number=number\n",
    "        \n",
    "    def change_num(self,number):\n",
    "        self.__number =number\n",
    "        \n",
    "    def get_number(self):\n",
    "        return self.__number\n",
    "        \n",
    "        "
   ]
  },
  {
   "cell_type": "code",
   "execution_count": 13,
   "id": "37e7858d-46a4-4ae1-886f-824b3ff10319",
   "metadata": {},
   "outputs": [],
   "source": [
    "class_obj=class1(\"kumar\",13)"
   ]
  },
  {
   "cell_type": "code",
   "execution_count": 14,
   "id": "01e4b501-bd54-4cf8-b5ba-2207a907f2e4",
   "metadata": {},
   "outputs": [
    {
     "data": {
      "text/plain": [
       "'kumar'"
      ]
     },
     "execution_count": 14,
     "metadata": {},
     "output_type": "execute_result"
    }
   ],
   "source": [
    "class_obj._class1__name"
   ]
  },
  {
   "cell_type": "code",
   "execution_count": 16,
   "id": "fc663025-13f6-48f6-aacc-1d11e0105de3",
   "metadata": {},
   "outputs": [
    {
     "data": {
      "text/plain": [
       "13"
      ]
     },
     "execution_count": 16,
     "metadata": {},
     "output_type": "execute_result"
    }
   ],
   "source": [
    "class_obj._class1__number"
   ]
  },
  {
   "cell_type": "code",
   "execution_count": 17,
   "id": "53d17b19-fe76-4a73-9bef-e033d237d6e9",
   "metadata": {},
   "outputs": [],
   "source": [
    "class_obj.change_num(34)"
   ]
  },
  {
   "cell_type": "code",
   "execution_count": 18,
   "id": "4fd78cf1-7462-4aef-84eb-0a352e9ef9f4",
   "metadata": {},
   "outputs": [
    {
     "data": {
      "text/plain": [
       "34"
      ]
     },
     "execution_count": 18,
     "metadata": {},
     "output_type": "execute_result"
    }
   ],
   "source": [
    "class_obj.get_number()"
   ]
  },
  {
   "cell_type": "code",
   "execution_count": 26,
   "id": "742a2975-47a6-4ca2-adff-4324873478e0",
   "metadata": {},
   "outputs": [],
   "source": [
    "##ex of abstact class\n",
    "import abc\n",
    "class pwskills1:\n",
    "    \n",
    "    @abc.abstractmethod\n",
    "    def student_details(self):\n",
    "        pass\n",
    "    \n",
    "    @abc.abstractmethod\n",
    "    def course_name(self):\n",
    "        pass\n",
    "    \n",
    "    @abc.abstractmethod\n",
    "    def course_value(self):\n",
    "        pass\n",
    "        "
   ]
  },
  {
   "cell_type": "code",
   "execution_count": 27,
   "id": "751b798c-65d7-4796-8fe2-0ccdb81b50cb",
   "metadata": {},
   "outputs": [],
   "source": [
    "class masters(pwskills1):\n",
    "    \n",
    "    def student_details(self):\n",
    "        return \"This is the batch for masters\"\n",
    "        \n",
    "    def course_name(self):\n",
    "        return \"this is the ss batch\""
   ]
  },
  {
   "cell_type": "code",
   "execution_count": 28,
   "id": "1bc60a5e-e300-48aa-a27d-de22d29820bb",
   "metadata": {},
   "outputs": [],
   "source": [
    "class students(pwskills1):\n",
    "    \n",
    "    def student_details(self):\n",
    "        return \"This is the batch for student\"\n",
    "        \n",
    "    def course_name(self):\n",
    "        return \"this is the pp batch\""
   ]
  },
  {
   "cell_type": "code",
   "execution_count": 29,
   "id": "a1907894-f3b2-4ef4-a11f-d387f28e2891",
   "metadata": {},
   "outputs": [],
   "source": [
    "stu_obj = masters()"
   ]
  },
  {
   "cell_type": "code",
   "execution_count": 30,
   "id": "d6b79abb-f87d-4da1-a82b-52fd5f255e11",
   "metadata": {},
   "outputs": [
    {
     "data": {
      "text/plain": [
       "'this is the ss batch'"
      ]
     },
     "execution_count": 30,
     "metadata": {},
     "output_type": "execute_result"
    }
   ],
   "source": [
    "stu_obj.course_name()"
   ]
  },
  {
   "cell_type": "code",
   "execution_count": null,
   "id": "9744fdde-d989-4daf-8f96-2d540dd2c7d7",
   "metadata": {},
   "outputs": [],
   "source": [
    "##Q3;abc is abstactmethod which is used in abstact class\n",
    "## it is the build in function in python @abc.abstactmethod by using this we implemetion our own defintion"
   ]
  },
  {
   "cell_type": "code",
   "execution_count": 31,
   "id": "ada16156-ede3-4c5d-9263-893debe1ef8d",
   "metadata": {},
   "outputs": [],
   "source": [
    "##Q4; data abstaction is possible by using @abc.abstactmethod"
   ]
  },
  {
   "cell_type": "code",
   "execution_count": 32,
   "id": "3ad36beb-649a-4833-ba8e-d1dad9345b7f",
   "metadata": {},
   "outputs": [],
   "source": [
    "##Q5;we create a instance by bulid in function @abc.abstactmethod"
   ]
  },
  {
   "cell_type": "code",
   "execution_count": null,
   "id": "298f8053-e5c4-4735-b85c-d945bf8851c1",
   "metadata": {},
   "outputs": [],
   "source": []
  }
 ],
 "metadata": {
  "kernelspec": {
   "display_name": "Python 3 (ipykernel)",
   "language": "python",
   "name": "python3"
  },
  "language_info": {
   "codemirror_mode": {
    "name": "ipython",
    "version": 3
   },
   "file_extension": ".py",
   "mimetype": "text/x-python",
   "name": "python",
   "nbconvert_exporter": "python",
   "pygments_lexer": "ipython3",
   "version": "3.10.8"
  }
 },
 "nbformat": 4,
 "nbformat_minor": 5
}
