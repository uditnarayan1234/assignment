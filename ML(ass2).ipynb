{
 "cells": [
  {
   "cell_type": "code",
   "execution_count": 1,
   "id": "1d230d12-d4a7-4a2e-8b63-24db913f1043",
   "metadata": {},
   "outputs": [],
   "source": [
    "## Q1: Define overfitting and underfitting in machine learning. What are the consequences of each, and how\n",
    "## can they be mitigated?\n",
    "## underfitting model has high bias and overfitting model has high variance \n",
    "## more model  tranning results is less bias establiash dominat trend"
   ]
  },
  {
   "cell_type": "code",
   "execution_count": 2,
   "id": "941abf0c-1ca4-4bd0-97cd-d76bfd34f214",
   "metadata": {},
   "outputs": [],
   "source": [
    "## Q2: How can we reduce overfitting? Explain in brief.\n",
    "## by tarin with more data increases the traning data \n",
    "## data augmentation\n",
    "## feature selection\n",
    "## cross validiation\n",
    "## simplify the data"
   ]
  },
  {
   "cell_type": "code",
   "execution_count": 3,
   "id": "ae957cf3-23f5-42eb-991e-63832cbf50be",
   "metadata": {},
   "outputs": [],
   "source": [
    "## Q3: Explain underfitting. List scenarios where underfitting can occur in ML.\n",
    "## underfitting is the typr of error when model cannot detemine the relation between output and input\n",
    "## when the model is complex enough to represent the relation between target and feature"
   ]
  },
  {
   "cell_type": "code",
   "execution_count": 5,
   "id": "c2e85870-dac3-4baf-a02e-8da78afb8e21",
   "metadata": {},
   "outputs": [],
   "source": [
    "## Q4: Explain the bias-variance tradeoff in machine learning. What is the relationship between bias and\n",
    "## variance, and how do they affect model performance?\n",
    "\n",
    "## bias is introduced to real world problem and variance model sensitivity to traning dataset here train acc is low and \n",
    "## test is low\n",
    "## high bias low variance is overfitting and high bias high variance is underfitting here tarin is high test is low"
   ]
  },
  {
   "cell_type": "code",
   "execution_count": 6,
   "id": "59ca40c8-27e9-4589-bf51-f1656e0344fe",
   "metadata": {},
   "outputs": [],
   "source": [
    "## Q5: Discuss some common methods for detecting overfitting and underfitting in machine learning models.\n",
    "## How can you determine whether your model is overfitting or underfitting?\n",
    "## cross vadiation  learning curves feature importance\n",
    "## high bias high variance means underfitting anf low bias high variance means overfitting"
   ]
  },
  {
   "cell_type": "code",
   "execution_count": 7,
   "id": "316435a3-7621-43fd-816a-477e892771af",
   "metadata": {},
   "outputs": [],
   "source": [
    "##Q6: Compare and contrast bias and variance in machine learning. What are some examples of high bias\n",
    "##and high variance models, and how do they differ in terms of their performance?\n",
    "\n",
    "#### bias is introduced to real world problem and variance model sensitivity to traning dataset here train acc is low and \n",
    "## test is low\n",
    "## high bias low variance is overfitting and high bias high variance is underfitting here tarin is high test is low\n",
    "# polynomial regression in small data\n",
    "## perform poorly tranning and test dataset\"\n"
   ]
  },
  {
   "cell_type": "code",
   "execution_count": 8,
   "id": "cff00b8b-19cd-4fd5-9452-ac5796debfdb",
   "metadata": {},
   "outputs": [],
   "source": [
    "## Q7: What is regularization in machine learning, and how can it be used to prevent overfitting? Describe\n",
    "## some common regularization techniques and how they work.\n",
    "## it is used to prevent the overfitting adding sum term to model loss function balance betwwen traning and test data\n",
    "## regularization is applied in many ml alogo linear regression logistic regrees"
   ]
  },
  {
   "cell_type": "code",
   "execution_count": null,
   "id": "0ec1706e-b44a-47e6-8226-9227c8230390",
   "metadata": {},
   "outputs": [],
   "source": [
    "##"
   ]
  }
 ],
 "metadata": {
  "kernelspec": {
   "display_name": "Python 3 (ipykernel)",
   "language": "python",
   "name": "python3"
  },
  "language_info": {
   "codemirror_mode": {
    "name": "ipython",
    "version": 3
   },
   "file_extension": ".py",
   "mimetype": "text/x-python",
   "name": "python",
   "nbconvert_exporter": "python",
   "pygments_lexer": "ipython3",
   "version": "3.10.8"
  }
 },
 "nbformat": 4,
 "nbformat_minor": 5
}
