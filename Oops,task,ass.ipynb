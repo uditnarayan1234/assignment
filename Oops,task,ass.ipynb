{
 "cells": [
  {
   "cell_type": "code",
   "execution_count": 80,
   "id": "4065b177-e307-4b96-bc5b-e5b9024fd570",
   "metadata": {},
   "outputs": [],
   "source": [
    "##Q1;\n",
    "class vehicles:\n",
    "    \n",
    "    def __init__ (self, name_of_vehicle, max_speed, avarage_of_vehicle):\n",
    "        self.name_of_vehicle=name_of_vehicle\n",
    "        self.max_speed = max_speed\n",
    "        self.avarage_of_vehicle = avarage_of_vehicle\n",
    "        \n",
    "    def all_data(self):\n",
    "        return self.name_of_vehicle, self.max_speed, self.avarage_of_vehicle"
   ]
  },
  {
   "cell_type": "code",
   "execution_count": 81,
   "id": "00db3287-5fa6-4f81-b6fd-16bb23fa1a74",
   "metadata": {},
   "outputs": [],
   "source": [
    "v_obj=vehicles(\"scooter\", 40, \"well\")"
   ]
  },
  {
   "cell_type": "code",
   "execution_count": 82,
   "id": "556ffe63-c932-4c8e-ad8c-ff58e8e0169e",
   "metadata": {},
   "outputs": [
    {
     "data": {
      "text/plain": [
       "('scooter', 40, 'well')"
      ]
     },
     "execution_count": 82,
     "metadata": {},
     "output_type": "execute_result"
    }
   ],
   "source": [
    "v_obj.all_data()"
   ]
  },
  {
   "cell_type": "code",
   "execution_count": 83,
   "id": "73fd3300-aab8-41e5-8fc6-08551b94993d",
   "metadata": {},
   "outputs": [
    {
     "data": {
      "text/plain": [
       "'scooter'"
      ]
     },
     "execution_count": 83,
     "metadata": {},
     "output_type": "execute_result"
    }
   ],
   "source": [
    "v_obj.name_of_vehicle"
   ]
  },
  {
   "cell_type": "code",
   "execution_count": 69,
   "id": "ad06ce91-1f95-44d6-9dfa-33273dd7d722",
   "metadata": {},
   "outputs": [],
   "source": [
    "##Q3; if we have 3 class ex class1 class2 and class3 when when we can able to acess all property of class1 class2 in class3\n",
    "##that is called multiple inheritance"
   ]
  },
  {
   "cell_type": "code",
   "execution_count": 22,
   "id": "92ad8e6e-a908-46f1-93d7-7a712dd00256",
   "metadata": {},
   "outputs": [],
   "source": [
    "class class1:\n",
    "    \n",
    "    def course_name(self):\n",
    "        return \"the course name is data science\""
   ]
  },
  {
   "cell_type": "code",
   "execution_count": 23,
   "id": "f429f5c0-77ca-426a-bb71-e6031a8a0ed2",
   "metadata": {},
   "outputs": [],
   "source": [
    "class class2:\n",
    "    \n",
    "    def course_details(self):\n",
    "        return \"You are learing python in this course\""
   ]
  },
  {
   "cell_type": "code",
   "execution_count": 24,
   "id": "cd781cb3-b900-4da8-8250-260faee69460",
   "metadata": {},
   "outputs": [],
   "source": [
    "class class3(class1,class2):\n",
    "    pass"
   ]
  },
  {
   "cell_type": "code",
   "execution_count": 29,
   "id": "45c964e3-3fe5-4fce-9988-3e3f4df83c67",
   "metadata": {},
   "outputs": [],
   "source": [
    "class3_obj=class3()"
   ]
  },
  {
   "cell_type": "code",
   "execution_count": 30,
   "id": "f54c3612-c9c8-4d3d-86ff-1d236930269f",
   "metadata": {},
   "outputs": [
    {
     "data": {
      "text/plain": [
       "'the course name is data science'"
      ]
     },
     "execution_count": 30,
     "metadata": {},
     "output_type": "execute_result"
    }
   ],
   "source": [
    "class3_obj.course_name()"
   ]
  },
  {
   "cell_type": "code",
   "execution_count": 31,
   "id": "81c025c9-615e-442b-9cc8-7d4ec521468e",
   "metadata": {},
   "outputs": [
    {
     "data": {
      "text/plain": [
       "'You are learing python in this course'"
      ]
     },
     "execution_count": 31,
     "metadata": {},
     "output_type": "execute_result"
    }
   ],
   "source": [
    "class3_obj.course_details()"
   ]
  },
  {
   "cell_type": "code",
   "execution_count": 32,
   "id": "5727c107-db2f-4bee-aa5e-3a815982e075",
   "metadata": {},
   "outputs": [],
   "source": [
    "##Q4 Getter and setter is a property decorators"
   ]
  },
  {
   "cell_type": "code",
   "execution_count": 59,
   "id": "86a30bee-4de3-46cc-9aac-9e42ff49c09a",
   "metadata": {},
   "outputs": [],
   "source": [
    "class pwskills:\n",
    "    \n",
    "    def __init__(self,course_no,mentor_email):\n",
    "        self.__course_no=course_no\n",
    "        self.mentor_email=mentor_email\n",
    "        \n",
    "    @property\n",
    "    def mentor_name_acess(self):\n",
    "        return self.__course_no\n",
    "    \n",
    "    @mentor_name_acess.setter\n",
    "    def set_mentor(self, no):\n",
    "        self.__course_no=no\n",
    "        pass\n",
    "        "
   ]
  },
  {
   "cell_type": "code",
   "execution_count": 61,
   "id": "f0b2d1f1-5181-4e35-a7a3-2aa7118cecf5",
   "metadata": {},
   "outputs": [],
   "source": [
    "pw_obj=pwskills(60,\"kumar@gmail.com\")"
   ]
  },
  {
   "cell_type": "code",
   "execution_count": 62,
   "id": "75b26426-426c-4a50-874d-da17dcd1c9b5",
   "metadata": {},
   "outputs": [
    {
     "data": {
      "text/plain": [
       "'kumar@gmail.com'"
      ]
     },
     "execution_count": 62,
     "metadata": {},
     "output_type": "execute_result"
    }
   ],
   "source": [
    "pw_obj.mentor_email"
   ]
  },
  {
   "cell_type": "code",
   "execution_count": 63,
   "id": "edd2c3bf-b216-4a75-a691-6ac543b89d04",
   "metadata": {},
   "outputs": [
    {
     "data": {
      "text/plain": [
       "60"
      ]
     },
     "execution_count": 63,
     "metadata": {},
     "output_type": "execute_result"
    }
   ],
   "source": [
    "pw_obj.mentor_name_acess"
   ]
  },
  {
   "cell_type": "code",
   "execution_count": 64,
   "id": "ed4aada2-a212-4ba8-a20d-d6fea13256e3",
   "metadata": {},
   "outputs": [],
   "source": [
    "pw_obj.set_mentor = 100"
   ]
  },
  {
   "cell_type": "code",
   "execution_count": 65,
   "id": "356ab3e9-7dbe-4676-a2f0-55b95da1e9de",
   "metadata": {},
   "outputs": [
    {
     "data": {
      "text/plain": [
       "100"
      ]
     },
     "execution_count": 65,
     "metadata": {},
     "output_type": "execute_result"
    }
   ],
   "source": [
    "pw_obj.mentor_name_acess"
   ]
  },
  {
   "cell_type": "code",
   "execution_count": 71,
   "id": "cd0c80cc-8e3b-4acf-808e-cf7cd4ea4386",
   "metadata": {},
   "outputs": [],
   "source": [
    "##Q5: Here parent class and another is child class by obtain this child class obj we can acess all data from parent class as well as child class"
   ]
  },
  {
   "cell_type": "code",
   "execution_count": 72,
   "id": "c275439b-7533-4cf7-bc40-f87da715cafe",
   "metadata": {},
   "outputs": [],
   "source": [
    "class parent:\n",
    "    \n",
    "    def inner_class(self):\n",
    "        return \"This is my first class in python\""
   ]
  },
  {
   "cell_type": "code",
   "execution_count": 74,
   "id": "0405c0e8-1b61-4ac0-ab5d-1d0dde6ce607",
   "metadata": {},
   "outputs": [],
   "source": [
    "class child(parent):\n",
    "    \n",
    "    def class_inner(self):\n",
    "        return \"This is my second class in python\""
   ]
  },
  {
   "cell_type": "code",
   "execution_count": 75,
   "id": "b1b6d5d8-ef64-4ebe-b725-198d0e5ff4de",
   "metadata": {},
   "outputs": [],
   "source": [
    "child_obj = child()"
   ]
  },
  {
   "cell_type": "code",
   "execution_count": 76,
   "id": "b20e45c2-4c80-464f-8b8c-07d105944787",
   "metadata": {},
   "outputs": [
    {
     "data": {
      "text/plain": [
       "'This is my first class in python'"
      ]
     },
     "execution_count": 76,
     "metadata": {},
     "output_type": "execute_result"
    }
   ],
   "source": [
    "child_obj.inner_class()"
   ]
  },
  {
   "cell_type": "code",
   "execution_count": 77,
   "id": "4a408db6-8bf5-44f1-86d6-408fb135544c",
   "metadata": {},
   "outputs": [
    {
     "data": {
      "text/plain": [
       "'This is my second class in python'"
      ]
     },
     "execution_count": 77,
     "metadata": {},
     "output_type": "execute_result"
    }
   ],
   "source": [
    "child_obj.class_inner()"
   ]
  },
  {
   "cell_type": "code",
   "execution_count": null,
   "id": "56452def-33e6-4f79-a647-beb755386dda",
   "metadata": {},
   "outputs": [],
   "source": []
  }
 ],
 "metadata": {
  "kernelspec": {
   "display_name": "Python 3 (ipykernel)",
   "language": "python",
   "name": "python3"
  },
  "language_info": {
   "codemirror_mode": {
    "name": "ipython",
    "version": 3
   },
   "file_extension": ".py",
   "mimetype": "text/x-python",
   "name": "python",
   "nbconvert_exporter": "python",
   "pygments_lexer": "ipython3",
   "version": "3.10.8"
  }
 },
 "nbformat": 4,
 "nbformat_minor": 5
}
