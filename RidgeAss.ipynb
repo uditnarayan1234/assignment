{
 "cells": [
  {
   "cell_type": "code",
   "execution_count": 1,
   "id": "152b4807-65db-4ce4-a241-7c336c03b2b7",
   "metadata": {},
   "outputs": [],
   "source": [
    "##Q1. What is Ridge Regression, and how does it differ from ordinary least squares regression?\n",
    "\n",
    "## in ridge regression the best fit line passes through the all points of the dataset so there error will be zero\n",
    "## Here another variable is added to the cost funtion called lambda multiple by squrae of slope"
   ]
  },
  {
   "cell_type": "code",
   "execution_count": 2,
   "id": "f1b9a9ad-241a-4edb-97fe-bb51ce274d80",
   "metadata": {},
   "outputs": [],
   "source": [
    "##Q2. What are the assumptions of Ridge Regression?\n",
    "##Ridge Regression requires choosing a tuning parameter usually denoted by α, that controls the strength of the regularization.\n",
    "## its handle the multicollinaerity\n"
   ]
  },
  {
   "cell_type": "code",
   "execution_count": 3,
   "id": "260460e6-253d-4899-a67b-1de8b2c6ec18",
   "metadata": {},
   "outputs": [],
   "source": [
    "## Q3. How do you select the value of the tuning parameter (lambda) in Ridge Regression?\n",
    "\n",
    "## a larger lamda detemine the less shrinkage \n",
    "## This is a plot that shows how the coefficients change as lambda increases\n",
    "## A smaller lambda leads to less shrinkage and more variance, but also less bias. Therefore, selecting  a good value for lambda is .\n",
    "##  important for balancing the bias-variance trade-off."
   ]
  },
  {
   "cell_type": "code",
   "execution_count": 4,
   "id": "bfe7eb85-13da-45e1-aaf8-212fc2e32ddd",
   "metadata": {},
   "outputs": [],
   "source": [
    "## Q4. Can Ridge Regression be used for feature selection? If yes, how?\n",
    "## No it does not use for features selection model\n",
    "## This reduces the variance and improves the stability of the model, but also introduces some bias.\n",
    "## Using a ridge trace plot to visualize how the coefficients change as the tuning parameter λ increases"
   ]
  },
  {
   "cell_type": "code",
   "execution_count": 5,
   "id": "a90f5a00-1bf7-428e-be40-daff612c44f5",
   "metadata": {},
   "outputs": [],
   "source": [
    "## Q5. How does the Ridge Regression model perform in the presence of multicollinearity?\n",
    "##  Multicollinearity occurs when some independent variables are highly correlated with each other\n",
    "## Ridge Regression performs well in the presence of multicollinearity because it adds a penalty term to the cost \n",
    "## function that shrinks the coefficients of the correlated variables\n",
    "##However, Ridge Regression does not eliminate any variables from the model, so it may not be very interpretable or parsimonious."
   ]
  },
  {
   "cell_type": "code",
   "execution_count": 6,
   "id": "200e5d89-11dc-4883-8852-bdebe5c15806",
   "metadata": {},
   "outputs": [],
   "source": [
    "## Q6. Can Ridge Regression handle both categorical and continuous independent variables?\n",
    "## Yes, Ridge Regression can handle both categorical and continuous independent variables\n",
    "## One level of each categorical variable should be omitted from the design matrix to avoid multicollinearity.\n",
    "## The tuning parameter λ in Ridge Regression affects the shrinkage of the coefficients for both categorical and continuous variables\n",
    "##A larger λ will shrink the coefficients more and reduce the variance, but also increase the bias"
   ]
  },
  {
   "cell_type": "code",
   "execution_count": 7,
   "id": "6c0ff8ef-a491-48a3-a3fb-59e0f995eaa9",
   "metadata": {},
   "outputs": [],
   "source": [
    "## Q7. How do you interpret the coefficients of Ridge Regression?\n",
    "## The coefficients of Ridge Regression represent the average effect of each predictor variable on the response variable\n",
    "## after adjusting for the other predictors and adding a penalty term to the cost function. The penalty term shrinks the coefficients towards zero \n",
    "## so the lamda is also increses"
   ]
  },
  {
   "cell_type": "code",
   "execution_count": 8,
   "id": "9f1aa767-260b-4f8b-9003-5b4d5aa567a5",
   "metadata": {},
   "outputs": [],
   "source": [
    "## Q8. Can Ridge Regression be used for time-series data analysis? If yes, how?\n",
    "## yes it can use as a time series data analytics \n",
    "## Time-series data may also have non-stationarity, which means that the mean, variance, or covariance of the data changes over time. \n",
    "## this violates the assumption of constant variance and can affect the performance and interpretation of the regression model \n",
    "## "
   ]
  },
  {
   "cell_type": "code",
   "execution_count": null,
   "id": "a3871211-5e71-4d0e-98fe-e99719523241",
   "metadata": {},
   "outputs": [],
   "source": []
  }
 ],
 "metadata": {
  "kernelspec": {
   "display_name": "Python 3 (ipykernel)",
   "language": "python",
   "name": "python3"
  },
  "language_info": {
   "codemirror_mode": {
    "name": "ipython",
    "version": 3
   },
   "file_extension": ".py",
   "mimetype": "text/x-python",
   "name": "python",
   "nbconvert_exporter": "python",
   "pygments_lexer": "ipython3",
   "version": "3.10.8"
  }
 },
 "nbformat": 4,
 "nbformat_minor": 5
}
