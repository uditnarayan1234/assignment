{
 "cells": [
  {
   "cell_type": "code",
   "execution_count": 1,
   "id": "a7784b44-e9d5-482a-ae7b-a3a31797fc65",
   "metadata": {},
   "outputs": [],
   "source": [
    "## Q1. What is Min-Max scaling, and how is it used in data preprocessing? Provide an example to illustrate its\n",
    "##application.\n",
    "\n",
    "## min max scaling is nothing it is a feature scaling process to normalize the data \n",
    "## "
   ]
  },
  {
   "cell_type": "code",
   "execution_count": 3,
   "id": "b4e2d3b1-c75d-43d8-bfd1-87c2d2a0e6a3",
   "metadata": {},
   "outputs": [],
   "source": [
    "## Q2. What is the Unit Vector technique in feature scaling, and how does it differ from Min-Max scaling?\n",
    "##Provide an example to illustrate its application.\n",
    "\n",
    "## unit vector tech is the take the unit vector of data points to replace where mix max scaling is nothing diff b/w x-x(min)/x(max)-x(min)\n",
    "## to normalize the dataset"
   ]
  },
  {
   "cell_type": "code",
   "execution_count": 4,
   "id": "4a69ad1a-8893-487d-aa3a-151dcce6bb7d",
   "metadata": {},
   "outputs": [],
   "source": [
    "## Q3. What is PCA (Principle Component Analysis), and how is it used in dimensionality reduction? Provide an\n",
    "#example to illustrate its application.\n",
    "\n",
    "## pca is technique to when a more no of features in dataset instead of taking two features we will take one features\n",
    "## some application is image processing finace and also used in machine learning"
   ]
  },
  {
   "cell_type": "code",
   "execution_count": 5,
   "id": "121018b2-ae70-4bdd-a4d3-520230883bf7",
   "metadata": {},
   "outputs": [],
   "source": [
    "##Q4. What is the relationship between PCA and Feature Extraction, and how can PCA be used for Feature\n",
    "##Extraction? Provide an example to illustrate this concept.\n",
    "\n",
    "## pca is a process used in feature extraction.features extraction involves the orginal features of dataset and pca\n",
    "## identify the direction along the data varies the most reductionthe dimension less efficient"
   ]
  },
  {
   "cell_type": "code",
   "execution_count": 6,
   "id": "3b6816b9-decd-4600-8e6d-3416ac593aea",
   "metadata": {},
   "outputs": [],
   "source": [
    "## Q5. You are working on a project to build a recommendation system for a food delivery service. The dataset\n",
    "##contains features such as price, rating, and delivery time. Explain how you would use Min-Max scaling to\n",
    "##preprocess the data.\n",
    "\n",
    "##applying min max scalling to these both the price ratings and the delivery time is common scale its normalize the data b/w 0 to 1\n",
    "## the rescalling maintain the all features in onto the same scale"
   ]
  },
  {
   "cell_type": "code",
   "execution_count": 7,
   "id": "bf39ab9d-11e7-4997-adc7-96101a41414e",
   "metadata": {},
   "outputs": [],
   "source": [
    "## Q6. You are working on a project to build a model to predict stock prices. The dataset contains many\n",
    "#features, such as company financial data and market trends. Explain how you would use PCA to reduce the\n",
    "#dimensionality of the dataset.\n",
    "\n",
    "##  pca work as standarization the all features mean 0 and sd of 1\n",
    "## computin the covariance matrix of standarize data\n",
    "## calculating the eigan values\n",
    "## and reduce the feartures"
   ]
  },
  {
   "cell_type": "code",
   "execution_count": null,
   "id": "53682619-196e-4a87-a64e-514db4f506ce",
   "metadata": {},
   "outputs": [],
   "source": [
    "## Q8. For a dataset containing the following features: [height, weight, age, gender, blood pressure], perform\n",
    "##Feature Extraction using PCA. How many principal components would you choose to retain, and why?\n",
    "\n",
    "## to perform PCA calculate variance ratio of each principal component from this plot choose the number of p"
   ]
  }
 ],
 "metadata": {
  "kernelspec": {
   "display_name": "Python 3 (ipykernel)",
   "language": "python",
   "name": "python3"
  },
  "language_info": {
   "codemirror_mode": {
    "name": "ipython",
    "version": 3
   },
   "file_extension": ".py",
   "mimetype": "text/x-python",
   "name": "python",
   "nbconvert_exporter": "python",
   "pygments_lexer": "ipython3",
   "version": "3.10.8"
  }
 },
 "nbformat": 4,
 "nbformat_minor": 5
}
