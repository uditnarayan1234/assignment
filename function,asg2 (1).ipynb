{
 "cells": [
  {
   "cell_type": "code",
   "execution_count": 1,
   "id": "9b4edad1-e962-4f80-b5d8-12dc4907c3d8",
   "metadata": {},
   "outputs": [],
   "source": [
    "##Q2\n",
    "l=[1,2,3,4,5,6,7,8,9,10]"
   ]
  },
  {
   "cell_type": "code",
   "execution_count": 2,
   "id": "00ae9cc8-1aa4-40b7-92b8-d2c809a80441",
   "metadata": {},
   "outputs": [
    {
     "data": {
      "text/plain": [
       "[1, 4, 9, 16, 25, 36, 49, 64, 81, 100]"
      ]
     },
     "execution_count": 2,
     "metadata": {},
     "output_type": "execute_result"
    }
   ],
   "source": [
    "list(map(lambda x : x**2 ,l))"
   ]
  },
  {
   "cell_type": "code",
   "execution_count": 3,
   "id": "77efe63b-2e6d-4c96-a464-9e0d1cab1bed",
   "metadata": {},
   "outputs": [],
   "source": [
    "##Q3\n",
    "l1=[1,2,3,4,5,6,7,8,9,10]"
   ]
  },
  {
   "cell_type": "code",
   "execution_count": 4,
   "id": "56589d4e-56b2-49c9-95d5-fab14908b94b",
   "metadata": {},
   "outputs": [
    {
     "data": {
      "text/plain": [
       "['1', '2', '3', '4', '5', '6', '7', '8', '9', '10']"
      ]
     },
     "execution_count": 4,
     "metadata": {},
     "output_type": "execute_result"
    }
   ],
   "source": [
    "list(map(lambda x : str(x),l))"
   ]
  },
  {
   "cell_type": "code",
   "execution_count": 14,
   "id": "620d7e03-5f6b-4a64-9687-2293e3727c03",
   "metadata": {},
   "outputs": [],
   "source": [
    "##Q4\n",
    "def test(x,y):\n",
    "    f4=[]\n",
    "    for i in range (x,y):\n",
    "        f4.append(i)\n",
    "    return f4    \n",
    "        "
   ]
  },
  {
   "cell_type": "code",
   "execution_count": 15,
   "id": "9e3fd9ab-0dd4-4ae5-a2ce-89b4d9d700c5",
   "metadata": {},
   "outputs": [],
   "source": [
    "s1=(list(test(1,26)))"
   ]
  },
  {
   "cell_type": "code",
   "execution_count": 16,
   "id": "a8a4a3a0-e249-461e-ad02-ce7fad4a3de7",
   "metadata": {},
   "outputs": [
    {
     "data": {
      "text/plain": [
       "[1,\n",
       " 2,\n",
       " 3,\n",
       " 4,\n",
       " 5,\n",
       " 6,\n",
       " 7,\n",
       " 8,\n",
       " 9,\n",
       " 10,\n",
       " 11,\n",
       " 12,\n",
       " 13,\n",
       " 14,\n",
       " 15,\n",
       " 16,\n",
       " 17,\n",
       " 18,\n",
       " 19,\n",
       " 20,\n",
       " 21,\n",
       " 22,\n",
       " 23,\n",
       " 24,\n",
       " 25]"
      ]
     },
     "execution_count": 16,
     "metadata": {},
     "output_type": "execute_result"
    }
   ],
   "source": [
    "s1"
   ]
  },
  {
   "cell_type": "code",
   "execution_count": 9,
   "id": "4005df71-c4d0-484d-9c78-c16061365b29",
   "metadata": {},
   "outputs": [],
   "source": [
    "from functools import reduce"
   ]
  },
  {
   "cell_type": "code",
   "execution_count": 17,
   "id": "f850459a-e30c-4169-b564-cf3072823be5",
   "metadata": {},
   "outputs": [
    {
     "name": "stdout",
     "output_type": "stream",
     "text": [
      "15511210043330985984000000\n"
     ]
    }
   ],
   "source": [
    "print(reduce(lambda x , y : x*y , s1))"
   ]
  },
  {
   "cell_type": "code",
   "execution_count": 12,
   "id": "ceafe3b5-83b6-405e-9830-c9207c6705bc",
   "metadata": {},
   "outputs": [],
   "source": [
    "##Q5\n",
    "s2=[2,3,6,9,27,60,90,120,55,46]"
   ]
  },
  {
   "cell_type": "code",
   "execution_count": 13,
   "id": "68fa31c5-d5ff-4ee3-b868-1259dc863d88",
   "metadata": {},
   "outputs": [
    {
     "data": {
      "text/plain": [
       "[2, 3, 6, 9, 27, 60, 90, 120, 46]"
      ]
     },
     "execution_count": 13,
     "metadata": {},
     "output_type": "execute_result"
    }
   ],
   "source": [
    "list(filter(lambda x : x%2==0 or x%3==0 ,s2))"
   ]
  },
  {
   "cell_type": "code",
   "execution_count": 14,
   "id": "b3263011-2c11-462f-a349-717d678f1b35",
   "metadata": {},
   "outputs": [],
   "source": [
    "s3=[\"python\",\"aba\",\"radar\",\"level\"]"
   ]
  },
  {
   "cell_type": "code",
   "execution_count": null,
   "id": "88ad791b-d50e-4306-b942-a7c0a228da61",
   "metadata": {},
   "outputs": [],
   "source": [
    "##Q6 palindrome"
   ]
  },
  {
   "cell_type": "code",
   "execution_count": 16,
   "id": "6fcd874e-f502-4454-b35c-11b4bb71cd0a",
   "metadata": {},
   "outputs": [
    {
     "data": {
      "text/plain": [
       "['aba', 'radar', 'level']"
      ]
     },
     "execution_count": 16,
     "metadata": {},
     "output_type": "execute_result"
    }
   ],
   "source": [
    "list(filter(lambda x : x[::-1]==x , s3))"
   ]
  },
  {
   "cell_type": "code",
   "execution_count": null,
   "id": "f1041748-e1dd-45d1-8dba-511acceb974a",
   "metadata": {},
   "outputs": [],
   "source": []
  }
 ],
 "metadata": {
  "kernelspec": {
   "display_name": "Python 3 (ipykernel)",
   "language": "python",
   "name": "python3"
  },
  "language_info": {
   "codemirror_mode": {
    "name": "ipython",
    "version": 3
   },
   "file_extension": ".py",
   "mimetype": "text/x-python",
   "name": "python",
   "nbconvert_exporter": "python",
   "pygments_lexer": "ipython3",
   "version": "3.10.8"
  }
 },
 "nbformat": 4,
 "nbformat_minor": 5
}
