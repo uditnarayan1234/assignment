{
 "cells": [
  {
   "cell_type": "code",
   "execution_count": 1,
   "id": "318494ae-6931-4c39-be07-1f5c15ce012a",
   "metadata": {},
   "outputs": [],
   "source": [
    "##Q1;Exception is super class which is used to avoid run time error\n",
    "## syntax error is when the interpeter shows invalid syntax to executing the code \n",
    "##Exception is super class which avoid run time error"
   ]
  },
  {
   "cell_type": "code",
   "execution_count": 2,
   "id": "c83eb058-7a03-453b-a935-155d5251d0e8",
   "metadata": {},
   "outputs": [
    {
     "name": "stdout",
     "output_type": "stream",
     "text": [
      "Open the file\n"
     ]
    }
   ],
   "source": [
    "##Q4:\n",
    "try:\n",
    "    f=open(\"text6.txt\",\"w\")\n",
    "    f.write(\"This is our new file\")\n",
    "    \n",
    "except Exception as e:\n",
    "    print(\"Hello world\",e)\n",
    "    \n",
    "else:\n",
    "    f.close()\n",
    "    print(\"Open the file\")\n",
    "    \n",
    "    "
   ]
  },
  {
   "cell_type": "code",
   "execution_count": 7,
   "id": "de7eee5f-2303-48f6-9ad4-e210552ab33c",
   "metadata": {},
   "outputs": [],
   "source": [
    "##Q5;when we use exception for our own case here it is called custom exception\n",
    "##to use for handle an exception"
   ]
  },
  {
   "cell_type": "code",
   "execution_count": 4,
   "id": "53663522-d229-4923-9932-936db73a23e2",
   "metadata": {},
   "outputs": [],
   "source": [
    "class money(Exception):\n",
    "    \n",
    "    def __init__(self,msg):\n",
    "        self.msg=msg"
   ]
  },
  {
   "cell_type": "code",
   "execution_count": 5,
   "id": "a649af58-abf9-4150-90c9-a311cf45392e",
   "metadata": {},
   "outputs": [],
   "source": [
    "def money(rupees):\n",
    "    if rupees < 0:\n",
    "        raise money(\"you no got  a money\")\n",
    "        \n",
    "    elif rupees > 2000:\n",
    "        raise money(\"You have a lot of money\")\n",
    "        \n",
    "    else:\n",
    "        print(\"bad luck\")"
   ]
  },
  {
   "cell_type": "code",
   "execution_count": 6,
   "id": "1bf9c12d-6bc4-40d9-97a7-2a0e15ec40fc",
   "metadata": {},
   "outputs": [
    {
     "name": "stdin",
     "output_type": "stream",
     "text": [
      "Enter your money 500\n"
     ]
    },
    {
     "name": "stdout",
     "output_type": "stream",
     "text": [
      "bad luck\n"
     ]
    }
   ],
   "source": [
    "try:\n",
    "    rupees=int(input(\"Enter your money\"))\n",
    "    money(rupees)\n",
    "    \n",
    "except money as e:\n",
    "    print(e)\n",
    "    "
   ]
  },
  {
   "cell_type": "code",
   "execution_count": 8,
   "id": "894de2a8-7d10-40cf-8918-3abefa79678e",
   "metadata": {},
   "outputs": [],
   "source": [
    "##Q2; when we do not handle exception due to error in one line the next line will not be executed "
   ]
  },
  {
   "cell_type": "code",
   "execution_count": 9,
   "id": "ca012c98-e440-44c8-a02a-c911f9ea9630",
   "metadata": {},
   "outputs": [
    {
     "name": "stdout",
     "output_type": "stream",
     "text": [
      "Not possible division by zero\n"
     ]
    }
   ],
   "source": [
    "try:\n",
    "    10/0\n",
    "except Exception as e:\n",
    "    print(\"Not possible\",e)"
   ]
  },
  {
   "cell_type": "code",
   "execution_count": 10,
   "id": "b86e9f67-b23c-4398-8994-cd85e3bd437a",
   "metadata": {},
   "outputs": [
    {
     "name": "stdout",
     "output_type": "stream",
     "text": [
      "The problem is that [Errno 2] No such file or directory: 'data2.json'\n"
     ]
    }
   ],
   "source": [
    "##Q3; python stement are used to catch and handle exception to avoid run time error in line by line\n",
    "import json\n",
    "try:\n",
    "    with open(\"data2.json\",'r') as f:\n",
    "        value=f.read()\n",
    "        \n",
    "except Exception as e:\n",
    "    print(\"The problem is that\",e)\n",
    "        "
   ]
  },
  {
   "cell_type": "code",
   "execution_count": null,
   "id": "095d152d-2929-42fb-b99a-a4a0b4d76e1c",
   "metadata": {},
   "outputs": [],
   "source": []
  }
 ],
 "metadata": {
  "kernelspec": {
   "display_name": "Python 3 (ipykernel)",
   "language": "python",
   "name": "python3"
  },
  "language_info": {
   "codemirror_mode": {
    "name": "ipython",
    "version": 3
   },
   "file_extension": ".py",
   "mimetype": "text/x-python",
   "name": "python",
   "nbconvert_exporter": "python",
   "pygments_lexer": "ipython3",
   "version": "3.10.8"
  }
 },
 "nbformat": 4,
 "nbformat_minor": 5
}
