{
 "cells": [
  {
   "cell_type": "code",
   "execution_count": 1,
   "id": "ad456501-a6f3-42db-938e-9274a61fefea",
   "metadata": {},
   "outputs": [],
   "source": [
    "##Q1. Explain the difference between simple linear regression and multiple linear regression. Provide an\n",
    "##example of each.\n",
    "\n",
    "## In simple linear regression only one independent feature and one output\n",
    "## but in multiple linear regression more than one independent feature is present which may depent or not depend on the output"
   ]
  },
  {
   "cell_type": "code",
   "execution_count": 2,
   "id": "c6e732c2-ec32-4a0d-bb2f-77be1bf8e230",
   "metadata": {},
   "outputs": [],
   "source": [
    "## Q2. Discuss the assumptions of linear regression. How can you check whether these assumptions hold in\n",
    "##a given dataset?\n",
    "\n",
    "## In linaer regression plot the datapoints and we find the best fit line among the data points if new data is come we predict the output"
   ]
  },
  {
   "cell_type": "code",
   "execution_count": 3,
   "id": "a8cf3b01-c653-4ee8-b3cf-08a0dd2117df",
   "metadata": {},
   "outputs": [],
   "source": [
    "## Q3. How do you interpret the slope and intercept in a linear regression model? Provide an example using\n",
    "##a real-world scenario.\n",
    "\n",
    "## In linear regression model the equation of the best fit line is h(x)=m0+m1x1 where intercept is when x=0 where the line meet in x axis\n",
    "## and the slope is the movement of x axis how much movement on y axis also find by linear regression model"
   ]
  },
  {
   "cell_type": "code",
   "execution_count": 4,
   "id": "294eb8ae-1706-4b5e-bb7d-5086d5c2ea84",
   "metadata": {},
   "outputs": [],
   "source": [
    "##Q4. Explain the concept of gradient descent. How is it used in machine learning?\n",
    "## In linear rgresssion our main aim is to find the best bset fit line with diff diff slpoe and intercept\n",
    "## in gradient dicent curve to minimize the eroor for diff idff slpoe and intercept come to at global minima p[oint where the error is less"
   ]
  },
  {
   "cell_type": "code",
   "execution_count": 5,
   "id": "80fdce9f-db2a-498a-bfb7-0677ca17e55b",
   "metadata": {},
   "outputs": [],
   "source": [
    "##Q5. Describe the multiple linear regression model. How does it differ from simple linear regression?\n",
    "\n",
    "## ## In simple linear regression only one independent feature and one output\n",
    "## but in multiple linear regression more than one independent feature is present which may depent or not depend on the output"
   ]
  },
  {
   "cell_type": "code",
   "execution_count": 6,
   "id": "73a11887-f483-40b6-98a6-6cb3aa043ae7",
   "metadata": {},
   "outputs": [],
   "source": [
    "## Q6. Explain the concept of multicollinearity in multiple linear regression. How can you detect and\n",
    "##address this issue?\n",
    "\n",
    "## occurs when two or more indepent features in dataset highly correlation one another in regression model\n",
    " ## to detect one can remove on of this highly correlated"
   ]
  },
  {
   "cell_type": "code",
   "execution_count": 7,
   "id": "e02f1e39-8c9a-45e7-bc9f-d7847ff9ca10",
   "metadata": {},
   "outputs": [],
   "source": [
    "## Q7. Describe the polynomial regression model. How is it different from linear regression?\n",
    "\n",
    "## when outliers is present we use polynomial regression is used in present of outliers the diff b/w actual point and\n",
    "## predicted value is very high so use polynomial\n",
    "## we can get diff type of best fit line"
   ]
  },
  {
   "cell_type": "code",
   "execution_count": null,
   "id": "3348944f-0581-41ff-8809-60de0c1eef18",
   "metadata": {},
   "outputs": [],
   "source": [
    "## Q8. What are the advantages and disadvantages of polynomial regression compared to linear\n",
    "##regression? In what situations would you prefer to use polynomial regression?\n",
    "\n",
    "## advantages is 1. non linear problem are solved with good accuracy\n",
    "## a large no of function can be fit under it\n",
    "\n",
    "## disadvantages one of outliers there has significant impact in outcome\n",
    "## when outliers "
   ]
  }
 ],
 "metadata": {
  "kernelspec": {
   "display_name": "Python 3 (ipykernel)",
   "language": "python",
   "name": "python3"
  },
  "language_info": {
   "codemirror_mode": {
    "name": "ipython",
    "version": 3
   },
   "file_extension": ".py",
   "mimetype": "text/x-python",
   "name": "python",
   "nbconvert_exporter": "python",
   "pygments_lexer": "ipython3",
   "version": "3.10.8"
  }
 },
 "nbformat": 4,
 "nbformat_minor": 5
}
