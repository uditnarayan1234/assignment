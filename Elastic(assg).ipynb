{
 "cells": [
  {
   "cell_type": "code",
   "execution_count": 1,
   "id": "b9011311-24e3-48f4-b217-a1d9b6aee2cc",
   "metadata": {},
   "outputs": [],
   "source": [
    "## Q1. What is Elastic Net Regression and how does it differ from other regression techniques?\n",
    "\n",
    "## Elastic net regression is the hybrid of ridge and lasso regression tecnique\n",
    "## ridge regression also the L2 regularization add the suare magnitude of cofficienet \n",
    "## AND lasso regression is l1 regularization in term of log loss function"
   ]
  },
  {
   "cell_type": "code",
   "execution_count": 2,
   "id": "f019f491-047b-47a4-aea5-15f9ee258b82",
   "metadata": {},
   "outputs": [],
   "source": [
    "## Q2. How do you choose the optimal values of the regularization parameters for Elastic Net Regression?\n",
    "\n",
    "##by the tecnique of cross validation divide in your dataset into tranning and validation set\n",
    "##  By the grid search cv select the parameter best performance \n",
    "##automaatic selection sob liberise are used"
   ]
  },
  {
   "cell_type": "code",
   "execution_count": 3,
   "id": "3c1ab9cb-32f7-4da1-8533-21c225a09797",
   "metadata": {},
   "outputs": [],
   "source": [
    "## Q3. What are the advantages and disadvantages of Elastic Net Regression?\n",
    "\n",
    "## Advantages is\n",
    "## variable selection; elastic can perform variable selection by driving some coef\n",
    "## haldle multicolinearity; handle this essue\n",
    "## disadvantages\n",
    "## complexity is more\n",
    "## data sacling etc"
   ]
  },
  {
   "cell_type": "code",
   "execution_count": 4,
   "id": "49c0d623-5b4b-4cf6-a08a-c9146f9c2709",
   "metadata": {},
   "outputs": [],
   "source": [
    "## Q4. What are some common use cases for Elastic Net Regression?\n",
    "\n",
    "## elastic regression also use in various field feature selection \n",
    "## multicolinearity handle \n",
    "## the ability of balance betweenlasso and the ridge regression"
   ]
  },
  {
   "cell_type": "code",
   "execution_count": 5,
   "id": "2a2574f1-8725-45e3-b1c7-31a9993afe76",
   "metadata": {},
   "outputs": [],
   "source": [
    "## Q6. How do you handle missing values when using Elastic Net Regression?\n",
    "\n",
    "## By mean median mode imputation replace the missing values by mean\n",
    "## knn replace the missing valuse by average of nearest neighbours"
   ]
  },
  {
   "cell_type": "code",
   "execution_count": 6,
   "id": "6d66d5c4-2acd-4136-99cd-bd6aaa51ce4a",
   "metadata": {},
   "outputs": [],
   "source": [
    "## Q7. How do you use Elastic Net Regression for feature selection?\n",
    "\n",
    "## By standarization the mean of each features divide by sd\n",
    "## normalization (min max scaling) scale each features between 0 and 1"
   ]
  },
  {
   "cell_type": "code",
   "execution_count": null,
   "id": "fd0b5fe4-f221-48ea-a24f-c958c0f48843",
   "metadata": {},
   "outputs": [],
   "source": [
    "## Q9. What is the purpose of pickling a model in machine learning?\n",
    "\n",
    "## pickling a model is refers to train a model into byte stream\n",
    "## once machine learning model is trained"
   ]
  }
 ],
 "metadata": {
  "kernelspec": {
   "display_name": "Python 3 (ipykernel)",
   "language": "python",
   "name": "python3"
  },
  "language_info": {
   "codemirror_mode": {
    "name": "ipython",
    "version": 3
   },
   "file_extension": ".py",
   "mimetype": "text/x-python",
   "name": "python",
   "nbconvert_exporter": "python",
   "pygments_lexer": "ipython3",
   "version": "3.10.8"
  }
 },
 "nbformat": 4,
 "nbformat_minor": 5
}
