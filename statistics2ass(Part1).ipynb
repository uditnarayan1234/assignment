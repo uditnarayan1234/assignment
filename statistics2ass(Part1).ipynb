{
 "cells": [
  {
   "cell_type": "code",
   "execution_count": 1,
   "id": "2ce6bab7-60af-47cc-8c6c-1d201a6938d7",
   "metadata": {},
   "outputs": [],
   "source": [
    "##Q1;Q1: What are the Probability Mass Function (PMF) and Probability Density Function (PDF)? Explain with\n",
    "##an example.\n",
    "## function over the sample space of a discrete random variable x which is equal to certain that is pmf ex; normal dis\n",
    "## pdf is used to define the variable probablity coming with a distinct range EX; log normal"
   ]
  },
  {
   "cell_type": "code",
   "execution_count": 2,
   "id": "b86ba8ef-7cf7-46a5-8154-3554087546fb",
   "metadata": {},
   "outputs": [],
   "source": [
    "## Q2: What is Cumulative Density Function (CDF)? Explain with an example. Why CDF is used? \n",
    "## it define probablity that a random variable x is less than or equal to x it uses for describe the probablity distribution variable"
   ]
  },
  {
   "cell_type": "code",
   "execution_count": 3,
   "id": "ef56951e-f1b6-439b-a7b7-93731e5974e7",
   "metadata": {},
   "outputs": [],
   "source": [
    "##Q3: What are some examples of situations where the normal distribution might be used as a model?\n",
    "##Explain how the parameters of the normal distribution relate to the shape of the distribution.\n",
    "## it is used the weight of the student and height of the student etc\n",
    "## here two parameter mean and varience and found the z value"
   ]
  },
  {
   "cell_type": "code",
   "execution_count": 5,
   "id": "9114ec5a-e26f-49fe-a94d-a0e2f5c92c9d",
   "metadata": {},
   "outputs": [],
   "source": [
    "##Q4: Explain the importance of Normal Distribution. Give a few real-life examples of Normal\n",
    "##Distribution.\n",
    "## first impotance is it is symmetric and bell curved\n",
    "## Ex; height and the weight of the classroom"
   ]
  },
  {
   "cell_type": "code",
   "execution_count": 6,
   "id": "afe87501-0b52-4df1-93c4-554a5638f736",
   "metadata": {},
   "outputs": [],
   "source": [
    "##Q5: What is Bernaulli Distribution? Give an Example. What is the difference between Bernoulli\n",
    "##Distribution and Binomial Distribution?\n",
    "## dicrete distribution in which the random variable has two possible outcome\n",
    "## in bernouli distribution only two outcome and binomial many outcome"
   ]
  },
  {
   "cell_type": "code",
   "execution_count": 7,
   "id": "19e27647-e418-48f9-acb0-edd59ad0cb44",
   "metadata": {},
   "outputs": [],
   "source": [
    "##Q7: Explain uniform Distribution with an example.\n",
    "## uniform distribution describes the experiment where the outcomes lies b/w a certain bound"
   ]
  },
  {
   "cell_type": "code",
   "execution_count": 8,
   "id": "14e09a32-d90c-4707-8651-8246d15c2dd6",
   "metadata": {},
   "outputs": [],
   "source": [
    "##Q8: What is the z score? State the importance of the z score.\n",
    "## z score means what was the value of sd after mean"
   ]
  },
  {
   "cell_type": "code",
   "execution_count": 9,
   "id": "03eb6cc6-84a5-4593-a1b9-3a01413a6440",
   "metadata": {},
   "outputs": [],
   "source": [
    "##Q9: What is Central Limit Theorem? State the significance of the Central Limit Theorem.\n",
    "## it is says that the samplings dis of the mean is always normally distributed\n",
    "## it significance it is uses large dataset"
   ]
  },
  {
   "cell_type": "code",
   "execution_count": 11,
   "id": "601a46d3-bf5a-47d3-9325-98bd9eb84310",
   "metadata": {},
   "outputs": [],
   "source": [
    "##Q10: State the assumptions of the Central Limit Theorem.\n",
    "## the data must adhereto the randomization rule"
   ]
  },
  {
   "cell_type": "code",
   "execution_count": null,
   "id": "eec9bab0-7430-4dcf-b5d1-24afb6716ec5",
   "metadata": {},
   "outputs": [],
   "source": []
  }
 ],
 "metadata": {
  "kernelspec": {
   "display_name": "Python 3 (ipykernel)",
   "language": "python",
   "name": "python3"
  },
  "language_info": {
   "codemirror_mode": {
    "name": "ipython",
    "version": 3
   },
   "file_extension": ".py",
   "mimetype": "text/x-python",
   "name": "python",
   "nbconvert_exporter": "python",
   "pygments_lexer": "ipython3",
   "version": "3.10.8"
  }
 },
 "nbformat": 4,
 "nbformat_minor": 5
}
