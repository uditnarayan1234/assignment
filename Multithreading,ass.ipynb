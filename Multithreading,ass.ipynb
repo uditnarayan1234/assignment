{
 "cells": [
  {
   "cell_type": "code",
   "execution_count": 1,
   "id": "c141d3dd-5551-41b1-aca7-17795aafd29e",
   "metadata": {},
   "outputs": [],
   "source": [
    "##Q1; multithreading is a technique which allows a cpu to execute multiple threads of one process\n",
    "##it is used to to store multiple program in one core\n",
    "## threading module is used"
   ]
  },
  {
   "cell_type": "code",
   "execution_count": 2,
   "id": "bc47857e-403c-400e-9348-7d5f05eaca48",
   "metadata": {},
   "outputs": [],
   "source": [
    "##Q3;start() is used to execute the child process\n",
    "##run() is used is a entry point for a thread\n",
    "## join() is used for after execution to release the process\n",
    "## isalive() is check whether a thread is still executing"
   ]
  },
  {
   "cell_type": "code",
   "execution_count": 2,
   "id": "b0908376-078b-427f-a346-ed042829fad1",
   "metadata": {},
   "outputs": [],
   "source": [
    "import threading"
   ]
  },
  {
   "cell_type": "code",
   "execution_count": 3,
   "id": "71e2ee61-6636-479e-b55e-b0b483f5495c",
   "metadata": {},
   "outputs": [],
   "source": [
    "def square(number):\n",
    "    l2=[]\n",
    "    mul=number*number\n",
    "    l2.append(mul)\n",
    "    print(l2)\n",
    "    \n",
    "def cube(number):\n",
    "    l3=[]\n",
    "    mul=number**3\n",
    "    l3.append(mul)\n",
    "    print(l3)"
   ]
  },
  {
   "cell_type": "code",
   "execution_count": 4,
   "id": "bf3d41f4-4750-4314-8634-87debc25d39d",
   "metadata": {},
   "outputs": [],
   "source": [
    "l1=[1,2,3,4,5,6]"
   ]
  },
  {
   "cell_type": "code",
   "execution_count": 5,
   "id": "ffa23918-4804-49a9-9a1d-d8fe2468a5b5",
   "metadata": {},
   "outputs": [],
   "source": [
    "thread = [threading.Thread(target=square, args=(l1[i],)) for i in range (len(l1))]\n",
    "thread1= [threading.Thread(target=cube, args=(l1[i],)) for i in range (len(l1))]"
   ]
  },
  {
   "cell_type": "code",
   "execution_count": 21,
   "id": "634ee568-bb36-4144-b1c1-297868d756d2",
   "metadata": {},
   "outputs": [
    {
     "name": "stdout",
     "output_type": "stream",
     "text": [
      "[1]\n",
      "[4]\n",
      "[9]\n",
      "[16]\n",
      "[25]\n",
      "[36]\n"
     ]
    }
   ],
   "source": [
    "for t in thread:\n",
    "    t.start()"
   ]
  },
  {
   "cell_type": "code",
   "execution_count": 6,
   "id": "d0d11523-7e91-4cd8-85c4-352e5605bbf2",
   "metadata": {},
   "outputs": [
    {
     "name": "stdout",
     "output_type": "stream",
     "text": [
      "[1]\n",
      "[8]\n",
      "[27]\n",
      "[64]\n",
      "[125]\n",
      "[216]\n"
     ]
    }
   ],
   "source": [
    "for t in thread1:\n",
    "    t.start()"
   ]
  },
  {
   "cell_type": "code",
   "execution_count": 7,
   "id": "d3ebeadc-1bbe-437e-961a-95233e734c52",
   "metadata": {},
   "outputs": [],
   "source": [
    "##Q5; The advantage of multithreading we can run multiple program in one core at a time\n",
    "## disadvantage is with more threads the code became difficult to debug and maintain"
   ]
  },
  {
   "cell_type": "code",
   "execution_count": null,
   "id": "c49c5b34-9a15-404e-b665-28bb81e1641a",
   "metadata": {},
   "outputs": [],
   "source": [
    "##Q2; activecount() returns the number of thread objects that are active\n",
    "## currentthread() returns a thread instance for the current working thread\n",
    "## enumerate() returns a list of all threads objects that currently alive"
   ]
  },
  {
   "cell_type": "code",
   "execution_count": null,
   "id": "d3b71c2e-2266-4066-bf76-462e6040eb0e",
   "metadata": {},
   "outputs": [],
   "source": [
    "##Q6; deadlocks is a condition in which two or more threads are blocked \n",
    "## race condition that occurs when "
   ]
  }
 ],
 "metadata": {
  "kernelspec": {
   "display_name": "Python 3 (ipykernel)",
   "language": "python",
   "name": "python3"
  },
  "language_info": {
   "codemirror_mode": {
    "name": "ipython",
    "version": 3
   },
   "file_extension": ".py",
   "mimetype": "text/x-python",
   "name": "python",
   "nbconvert_exporter": "python",
   "pygments_lexer": "ipython3",
   "version": "3.10.8"
  }
 },
 "nbformat": 4,
 "nbformat_minor": 5
}
