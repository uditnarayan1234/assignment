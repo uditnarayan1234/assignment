{
 "cells": [
  {
   "cell_type": "code",
   "execution_count": 1,
   "id": "cb8a0970-5edd-409c-bb9f-34ae832b0754",
   "metadata": {},
   "outputs": [],
   "source": [
    "##Q1.What is the difference between a t-test and a z-test?\n",
    "## z test is used to tes the null hypothesis population varience is known, step size is larger than 30\n",
    "## in t test is used when sample size is less than 30 and population varience is unknown\n"
   ]
  },
  {
   "cell_type": "code",
   "execution_count": 2,
   "id": "33b1665e-28b7-4941-8cec-54f7af6344ea",
   "metadata": {},
   "outputs": [],
   "source": [
    "##Q2.Differentiate between one-tailed and two-tailed tests.\n",
    "## in one tailed test alternative hypothesis have one ends and in two tailed alternative hypothesis have two end\n",
    "## in one tailed hypothesis is directional and two tailed it is non directional\n",
    "##"
   ]
  },
  {
   "cell_type": "code",
   "execution_count": 3,
   "id": "7ae38d6f-6737-46bf-9ba4-c4bc86371bae",
   "metadata": {},
   "outputs": [],
   "source": [
    "##Q3.Explain the concept of Type 1 and Type 2 errors in hypothesis testing. Provide an example scenario for\n",
    "##each type of error.\n",
    "\n",
    "## type 1 error occurs when we reject the null hypothesis that is true and type 2 error is when we fail to reject the null hypothesis\n"
   ]
  },
  {
   "cell_type": "code",
   "execution_count": 4,
   "id": "e178ddec-a176-4453-846b-f29c7caa27a8",
   "metadata": {},
   "outputs": [],
   "source": [
    "##Q4: Explain Bayes's theorem with an example.\n",
    "##bayes theoram occurs probablity of an any event related to any codition cosiderded as conditional probablity\n",
    "##bayes theoram is also used that condition when probablactic queries is conditional"
   ]
  },
  {
   "cell_type": "code",
   "execution_count": 5,
   "id": "362e444d-40ce-40a2-984f-3ceac332d137",
   "metadata": {},
   "outputs": [],
   "source": [
    "##Q5: What is a confidence interval? How to calculate the confidence interval, explain with an example.\n",
    "##cofidence interval mean of your estimate plus or minus the variation that is estimate \n",
    "## confidence inteval to add or subtract the margin of error from point estimate"
   ]
  },
  {
   "cell_type": "code",
   "execution_count": 15,
   "id": "0f0ac226-4167-49e1-95c1-766136fb65ee",
   "metadata": {},
   "outputs": [
    {
     "name": "stdout",
     "output_type": "stream",
     "text": [
      "confidence interval for 95%: 50.97998199227003 49.02001800772997\n"
     ]
    }
   ],
   "source": [
    "##Q7. Calculate the 95% confidence interval for a sample of data with a mean of 50 and a standard deviation\n",
    "##of 5. Interpret the results.\n",
    "\n",
    "## \n",
    "mean=50\n",
    "sd=5\n",
    "confidence_interval=0.95\n",
    "## consider sample size is 100\n",
    "sample_size=100\n",
    "import scipy.stats as stat\n",
    "z_score=stat.norm.ppf((1+confidence_interval)/2)\n",
    "margin_of_Error=z_score*(sd/(sample_size**0.5))\n",
    "upper_bound=mean+margin_of_Error\n",
    "Lower_bound=mean-margin_of_Error\n",
    "print(\"confidence interval for 95%:\", upper_bound,Lower_bound)"
   ]
  },
  {
   "cell_type": "code",
   "execution_count": 18,
   "id": "b8e82938-d830-4ecc-bb45-f127ce88f544",
   "metadata": {},
   "outputs": [],
   "source": [
    "##Q8. What is the margin of error in a confidence interval? How does sample size affect the margin of error?\n",
    "##Provide an example of a scenario where a larger sample size would result in a smaller margin of error.\n",
    "\n",
    "## Margin of Error is the range of the valuses above or below the actual result\n",
    "##a sample size is increases that margin of error decreases\n"
   ]
  },
  {
   "cell_type": "code",
   "execution_count": 21,
   "id": "7aadb50c-57f7-47ef-85fe-b18064ce334c",
   "metadata": {},
   "outputs": [
    {
     "data": {
      "text/plain": [
       "16.970562748477143"
      ]
     },
     "execution_count": 21,
     "metadata": {},
     "output_type": "execute_result"
    }
   ],
   "source": [
    "##Q10. In a study of the effectiveness of a new weight loss drug, a sample of 50 participants lost an average\n",
    "##of 6 pounds with a standard deviation of 2.5 pounds. Conduct a hypothesis test to determine if the drug is\n",
    "#significantly effective at a 95% confidence level using a t-test.\n",
    "import math\n",
    "import scipy.stats as stat\n",
    "n=50\n",
    "sd=2.5\n",
    "mean=6\n",
    "dof=n-1\n",
    "confidence_interval=0.95\n",
    "t_value=(mean-0)/(sd/math.sqrt(n))\n",
    "t_value"
   ]
  },
  {
   "cell_type": "code",
   "execution_count": 26,
   "id": "eb5372de-8afb-4912-8593-81c70f0e378d",
   "metadata": {},
   "outputs": [
    {
     "data": {
      "text/plain": [
       "1.6765508919142629"
      ]
     },
     "execution_count": 26,
     "metadata": {},
     "output_type": "execute_result"
    }
   ],
   "source": [
    "critical_value=stat.t.ppf(confidence_interval,dof)\n",
    "critical_value"
   ]
  },
  {
   "cell_type": "code",
   "execution_count": 27,
   "id": "204d3f1e-bb10-401b-9282-3e53ca3de6a2",
   "metadata": {},
   "outputs": [
    {
     "name": "stdout",
     "output_type": "stream",
     "text": [
      "Reject the null hypothesis\n"
     ]
    }
   ],
   "source": [
    "if t_value>critical_value:\n",
    "    print(\"Reject the null hypothesis\")\n",
    "else:\n",
    "    print(\"Fail to reject the null hypothesis\")"
   ]
  },
  {
   "cell_type": "code",
   "execution_count": 4,
   "id": "1f2fa940-4ddf-49d9-8c10-e6ad06d82046",
   "metadata": {},
   "outputs": [
    {
     "name": "stdout",
     "output_type": "stream",
     "text": [
      "confidence interval is:  -0.21608581893120582 3.50579307283415\n"
     ]
    }
   ],
   "source": [
    "##Q13. A population has a mean of 60 and a standard deviation of 8. A sample of 50 observations has a mean\n",
    "##of 65. Calculate the 90% confidence interval for the true population mean.\n",
    "import math\n",
    "import scipy.stats as stat\n",
    "p_mean=60\n",
    "p_sd=8\n",
    "sample_size=50\n",
    "sample_mean=65\n",
    "confidence_interval=0.90\n",
    "standard_error=p_sd/math.sqrt(sample_size)\n",
    "\n",
    "z_score=stat.norm.ppf(1-(1-confidence_interval)/2)\n",
    "margin_of_error=standard_error*z_score\n",
    "\n",
    "lower_bound=z_score-margin_of_error\n",
    "upper_bound=z_score+margin_of_error                     \n",
    "print(\"confidence interval is: \" , lower_bound,upper_bound)                     \n"
   ]
  },
  {
   "cell_type": "code",
   "execution_count": 10,
   "id": "a1f5090e-b724-4db2-b126-4435759333ae",
   "metadata": {},
   "outputs": [
    {
     "data": {
      "text/plain": [
       "1.311433643950529"
      ]
     },
     "execution_count": 10,
     "metadata": {},
     "output_type": "execute_result"
    }
   ],
   "source": [
    "##Q14. In a study of the effects of caffeine on reaction time, a sample of 30 participants had an average\n",
    "##reaction time of 0.25 seconds with a standard deviation of 0.05 seconds. Conduct a hypothesis test to\n",
    "##determine if the caffeine has a significant effect on reaction time at a 90% confidence level using a t-test.\n",
    "\n",
    "import math\n",
    "import scipy.stats as stat\n",
    "s_mean=0.25\n",
    "sd=0.05\n",
    "s_size=30\n",
    "confidence_interval=0.90\n",
    "alpha=0.10\n",
    "\n",
    "degree_of_freedom=s_size-1\n",
    "critical_value=stat.t.ppf(confidence_interval,degree_of_freedom)\n",
    "critical_value\n"
   ]
  },
  {
   "cell_type": "code",
   "execution_count": 7,
   "id": "4f51ce72-1f1f-4efb-890b-ba385d43a6da",
   "metadata": {},
   "outputs": [
    {
     "data": {
      "text/plain": [
       "27.386127875258307"
      ]
     },
     "execution_count": 7,
     "metadata": {},
     "output_type": "execute_result"
    }
   ],
   "source": [
    "t_score=(s_mean)/(sd/math.sqrt(s_size))\n",
    "t_score"
   ]
  },
  {
   "cell_type": "code",
   "execution_count": 11,
   "id": "4b10fdda-6c54-42ec-abc6-6c9911ff72de",
   "metadata": {},
   "outputs": [
    {
     "name": "stdout",
     "output_type": "stream",
     "text": [
      "Reject the null hypothesis\n"
     ]
    }
   ],
   "source": [
    "if (t_score>critical_value):\n",
    "    print(\"Reject the null hypothesis\")\n",
    "else:\n",
    "     print(\"Fail to reject the null hypothesis\")\n",
    "    "
   ]
  },
  {
   "cell_type": "code",
   "execution_count": null,
   "id": "4d129666-7ff9-408f-9f5b-4c87da3b7b35",
   "metadata": {},
   "outputs": [],
   "source": [
    "##means the"
   ]
  }
 ],
 "metadata": {
  "kernelspec": {
   "display_name": "Python 3 (ipykernel)",
   "language": "python",
   "name": "python3"
  },
  "language_info": {
   "codemirror_mode": {
    "name": "ipython",
    "version": 3
   },
   "file_extension": ".py",
   "mimetype": "text/x-python",
   "name": "python",
   "nbconvert_exporter": "python",
   "pygments_lexer": "ipython3",
   "version": "3.10.8"
  }
 },
 "nbformat": 4,
 "nbformat_minor": 5
}
