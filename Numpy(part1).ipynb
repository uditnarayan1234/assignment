{
 "cells": [
  {
   "cell_type": "markdown",
   "id": "f2588f3a-296f-457a-a84f-9138bc95f2e1",
   "metadata": {},
   "source": [
    "## NUMPY AND VISUALIZATION"
   ]
  },
  {
   "cell_type": "code",
   "execution_count": 1,
   "id": "113b5210-f30d-49d6-b459-ea7cd0a79e40",
   "metadata": {},
   "outputs": [],
   "source": [
    "import numpy as np"
   ]
  },
  {
   "cell_type": "code",
   "execution_count": 2,
   "id": "a655b287-8d2a-4a32-a441-284703e72ca9",
   "metadata": {},
   "outputs": [],
   "source": [
    "l=[1,2,3,4]"
   ]
  },
  {
   "cell_type": "code",
   "execution_count": 3,
   "id": "391d30f7-9822-484f-a514-0594b5ffe6e3",
   "metadata": {},
   "outputs": [],
   "source": [
    "arr=np.array(l)"
   ]
  },
  {
   "cell_type": "code",
   "execution_count": 4,
   "id": "6a664247-5a89-45c9-bbc3-5f9548f9471c",
   "metadata": {},
   "outputs": [
    {
     "data": {
      "text/plain": [
       "array([1, 2, 3, 4])"
      ]
     },
     "execution_count": 4,
     "metadata": {},
     "output_type": "execute_result"
    }
   ],
   "source": [
    "arr"
   ]
  },
  {
   "cell_type": "code",
   "execution_count": 6,
   "id": "1afc82ce-b8d2-484f-8c2b-20325844357b",
   "metadata": {},
   "outputs": [
    {
     "data": {
      "text/plain": [
       "numpy.ndarray"
      ]
     },
     "execution_count": 6,
     "metadata": {},
     "output_type": "execute_result"
    }
   ],
   "source": [
    "type(arr)"
   ]
  },
  {
   "cell_type": "code",
   "execution_count": 13,
   "id": "c56d1b72-3dd2-4ef6-a51d-b4d8b1a0fe3a",
   "metadata": {},
   "outputs": [
    {
     "data": {
      "text/plain": [
       "array([[1, 2, 3, 4],\n",
       "       [5, 6, 7, 8]])"
      ]
     },
     "execution_count": 13,
     "metadata": {},
     "output_type": "execute_result"
    }
   ],
   "source": [
    "##For 2D array\n",
    "np.array([[1,2,3,4],[5,6,7,8]])"
   ]
  },
  {
   "cell_type": "code",
   "execution_count": 14,
   "id": "fc25d208-1d48-4c2c-b534-f6626625e51f",
   "metadata": {},
   "outputs": [],
   "source": [
    "l=[1,2,3,4]"
   ]
  },
  {
   "cell_type": "code",
   "execution_count": 15,
   "id": "bff4f739-8471-41c0-9806-eb30eecf66e0",
   "metadata": {},
   "outputs": [
    {
     "data": {
      "text/plain": [
       "matrix([[1, 2, 3, 4]])"
      ]
     },
     "execution_count": 15,
     "metadata": {},
     "output_type": "execute_result"
    }
   ],
   "source": [
    "##For matrix\n",
    "np.matrix(l)"
   ]
  },
  {
   "cell_type": "code",
   "execution_count": 16,
   "id": "8ad27088-19a3-4f04-8388-69246183d465",
   "metadata": {},
   "outputs": [],
   "source": [
    "b=[1,2,3,4]"
   ]
  },
  {
   "cell_type": "code",
   "execution_count": 17,
   "id": "dce1c962-8810-47db-b88f-c2b316ed21bd",
   "metadata": {},
   "outputs": [
    {
     "data": {
      "text/plain": [
       "array([1, 2, 3, 4])"
      ]
     },
     "execution_count": 17,
     "metadata": {},
     "output_type": "execute_result"
    }
   ],
   "source": [
    "##another mathod\n",
    "np.asanyarray(b)"
   ]
  },
  {
   "cell_type": "code",
   "execution_count": 18,
   "id": "2395e762-0451-4037-8949-980757966e88",
   "metadata": {},
   "outputs": [],
   "source": [
    "l=[1,2,3,4]"
   ]
  },
  {
   "cell_type": "code",
   "execution_count": 19,
   "id": "a220864d-b18a-47ba-8dea-b97fab13d125",
   "metadata": {},
   "outputs": [],
   "source": [
    "a=np.array(l)"
   ]
  },
  {
   "cell_type": "code",
   "execution_count": 20,
   "id": "13ba3644-7e06-49e4-80ca-be213583d572",
   "metadata": {},
   "outputs": [],
   "source": [
    "##copy\n",
    "c=a"
   ]
  },
  {
   "cell_type": "code",
   "execution_count": 21,
   "id": "7dc1d4c1-5bb1-4670-b820-c9f5dbd2ecae",
   "metadata": {},
   "outputs": [
    {
     "data": {
      "text/plain": [
       "array([1, 2, 3, 4])"
      ]
     },
     "execution_count": 21,
     "metadata": {},
     "output_type": "execute_result"
    }
   ],
   "source": [
    "a"
   ]
  },
  {
   "cell_type": "code",
   "execution_count": 22,
   "id": "91f7300e-58a6-4f41-bcdf-1468a99ea1fc",
   "metadata": {},
   "outputs": [
    {
     "data": {
      "text/plain": [
       "array([1, 2, 3, 4])"
      ]
     },
     "execution_count": 22,
     "metadata": {},
     "output_type": "execute_result"
    }
   ],
   "source": [
    "c"
   ]
  },
  {
   "cell_type": "code",
   "execution_count": 23,
   "id": "ae5cd5be-fab4-49b8-a2d8-1b80e76bf4c8",
   "metadata": {},
   "outputs": [],
   "source": [
    "##indexing method also work\n",
    "c[0]=100"
   ]
  },
  {
   "cell_type": "code",
   "execution_count": 24,
   "id": "1c6272f0-1e72-47fa-a600-a391194a9081",
   "metadata": {},
   "outputs": [
    {
     "data": {
      "text/plain": [
       "array([100,   2,   3,   4])"
      ]
     },
     "execution_count": 24,
     "metadata": {},
     "output_type": "execute_result"
    }
   ],
   "source": [
    "c"
   ]
  },
  {
   "cell_type": "code",
   "execution_count": 25,
   "id": "cc7eb6f1-fa84-4239-b062-34d731e190e6",
   "metadata": {},
   "outputs": [
    {
     "data": {
      "text/plain": [
       "array([100,   2,   3,   4])"
      ]
     },
     "execution_count": 25,
     "metadata": {},
     "output_type": "execute_result"
    }
   ],
   "source": [
    "a"
   ]
  },
  {
   "cell_type": "code",
   "execution_count": 26,
   "id": "ceec71b4-fe3b-427d-b077-f5dd7b316782",
   "metadata": {},
   "outputs": [],
   "source": [
    "##copy but does not work indexing mathod\n",
    "d=np.copy(a)"
   ]
  },
  {
   "cell_type": "code",
   "execution_count": 27,
   "id": "d1879e09-2b66-4669-9133-32a25715c62e",
   "metadata": {},
   "outputs": [
    {
     "data": {
      "text/plain": [
       "array([100,   2,   3,   4])"
      ]
     },
     "execution_count": 27,
     "metadata": {},
     "output_type": "execute_result"
    }
   ],
   "source": [
    "d"
   ]
  },
  {
   "cell_type": "code",
   "execution_count": 28,
   "id": "a340546e-f9ef-4ffb-b52e-57cd60b42e1d",
   "metadata": {},
   "outputs": [
    {
     "data": {
      "text/plain": [
       "array([100,   2,   3,   4])"
      ]
     },
     "execution_count": 28,
     "metadata": {},
     "output_type": "execute_result"
    }
   ],
   "source": [
    "a"
   ]
  },
  {
   "cell_type": "code",
   "execution_count": 29,
   "id": "931d325e-64f5-4df4-9fe4-9fa1a857380f",
   "metadata": {},
   "outputs": [],
   "source": [
    "a[1]=200"
   ]
  },
  {
   "cell_type": "code",
   "execution_count": 30,
   "id": "24a52907-0976-48c6-b6ca-2eafbb7d0a62",
   "metadata": {},
   "outputs": [
    {
     "data": {
      "text/plain": [
       "array([100, 200,   3,   4])"
      ]
     },
     "execution_count": 30,
     "metadata": {},
     "output_type": "execute_result"
    }
   ],
   "source": [
    "a"
   ]
  },
  {
   "cell_type": "code",
   "execution_count": 31,
   "id": "d7a52453-e818-4814-ae59-8cc50624087f",
   "metadata": {},
   "outputs": [
    {
     "data": {
      "text/plain": [
       "array([100,   2,   3,   4])"
      ]
     },
     "execution_count": 31,
     "metadata": {},
     "output_type": "execute_result"
    }
   ],
   "source": [
    "d"
   ]
  },
  {
   "cell_type": "code",
   "execution_count": 34,
   "id": "198540e5-ed43-437c-8680-ddedf1b435fa",
   "metadata": {},
   "outputs": [
    {
     "data": {
      "text/plain": [
       "array([[ True, False, False],\n",
       "       [False,  True, False],\n",
       "       [False, False,  True]])"
      ]
     },
     "execution_count": 34,
     "metadata": {},
     "output_type": "execute_result"
    }
   ],
   "source": [
    "np.fromfunction( lambda i,j: i==j,(3,3))"
   ]
  },
  {
   "cell_type": "code",
   "execution_count": 35,
   "id": "31a1713e-18c0-4e67-a466-6962343e641d",
   "metadata": {},
   "outputs": [
    {
     "data": {
      "text/plain": [
       "array([[0., 1., 2.],\n",
       "       [1., 2., 3.],\n",
       "       [2., 3., 4.]])"
      ]
     },
     "execution_count": 35,
     "metadata": {},
     "output_type": "execute_result"
    }
   ],
   "source": [
    "np.fromfunction( lambda i,j: i+j,(3,3))"
   ]
  },
  {
   "cell_type": "code",
   "execution_count": 36,
   "id": "489b43b4-688c-405b-9d5e-5f0fca8dbc5b",
   "metadata": {},
   "outputs": [
    {
     "data": {
      "text/plain": [
       "array([234., 234.])"
      ]
     },
     "execution_count": 36,
     "metadata": {},
     "output_type": "execute_result"
    }
   ],
   "source": [
    "np.fromstring('234 234',sep=\" \")"
   ]
  },
  {
   "cell_type": "markdown",
   "id": "647e519d-2c33-48ed-836b-a94ba45ffa3b",
   "metadata": {},
   "source": [
    "### NUMPY DATATYPE"
   ]
  },
  {
   "cell_type": "code",
   "execution_count": 37,
   "id": "2c0d1a3a-a343-4c29-8224-8fa98c822312",
   "metadata": {},
   "outputs": [],
   "source": [
    "l=[3,4,5,6]"
   ]
  },
  {
   "cell_type": "code",
   "execution_count": 38,
   "id": "a906e3f5-86d8-4551-bc05-15da3a630175",
   "metadata": {},
   "outputs": [],
   "source": [
    "## 1D array\n",
    "arr=np.array(l)"
   ]
  },
  {
   "cell_type": "code",
   "execution_count": 39,
   "id": "f813c423-5b20-450c-9301-994e1411b7e3",
   "metadata": {},
   "outputs": [
    {
     "data": {
      "text/plain": [
       "array([3, 4, 5, 6])"
      ]
     },
     "execution_count": 39,
     "metadata": {},
     "output_type": "execute_result"
    }
   ],
   "source": [
    "arr"
   ]
  },
  {
   "cell_type": "code",
   "execution_count": 40,
   "id": "5c27cced-8a46-478a-a704-303142a00fe2",
   "metadata": {},
   "outputs": [
    {
     "data": {
      "text/plain": [
       "1"
      ]
     },
     "execution_count": 40,
     "metadata": {},
     "output_type": "execute_result"
    }
   ],
   "source": [
    "arr.ndim"
   ]
  },
  {
   "cell_type": "code",
   "execution_count": 42,
   "id": "9d7b2a60-f604-4fcb-810b-63c9b1d7697c",
   "metadata": {},
   "outputs": [],
   "source": [
    "##2D arrray\n",
    "arr2=np.array([[3,4,5],[6,7,8]])"
   ]
  },
  {
   "cell_type": "code",
   "execution_count": 43,
   "id": "d8b48f24-8367-489f-a5f9-f2c4369f7c95",
   "metadata": {},
   "outputs": [
    {
     "data": {
      "text/plain": [
       "array([[3, 4, 5],\n",
       "       [6, 7, 8]])"
      ]
     },
     "execution_count": 43,
     "metadata": {},
     "output_type": "execute_result"
    }
   ],
   "source": [
    "arr2"
   ]
  },
  {
   "cell_type": "code",
   "execution_count": 44,
   "id": "48865f93-6b24-4fc1-901b-7dff750bae23",
   "metadata": {},
   "outputs": [
    {
     "data": {
      "text/plain": [
       "2"
      ]
     },
     "execution_count": 44,
     "metadata": {},
     "output_type": "execute_result"
    }
   ],
   "source": [
    "arr2.ndim"
   ]
  },
  {
   "cell_type": "code",
   "execution_count": 45,
   "id": "935c3636-fdc3-4f04-80bc-b29ed2714d4a",
   "metadata": {},
   "outputs": [
    {
     "data": {
      "text/plain": [
       "6"
      ]
     },
     "execution_count": 45,
     "metadata": {},
     "output_type": "execute_result"
    }
   ],
   "source": [
    "arr2.size"
   ]
  },
  {
   "cell_type": "code",
   "execution_count": 46,
   "id": "3053c78e-eeb0-4f3d-ac48-72e3946e109e",
   "metadata": {},
   "outputs": [
    {
     "data": {
      "text/plain": [
       "(2, 3)"
      ]
     },
     "execution_count": 46,
     "metadata": {},
     "output_type": "execute_result"
    }
   ],
   "source": [
    "arr2.shape"
   ]
  },
  {
   "cell_type": "code",
   "execution_count": 48,
   "id": "bdae7e4e-16a8-4a49-9fa8-ae10a615d7b6",
   "metadata": {},
   "outputs": [
    {
     "data": {
      "text/plain": [
       "dtype('int64')"
      ]
     },
     "execution_count": 48,
     "metadata": {},
     "output_type": "execute_result"
    }
   ],
   "source": [
    "arr2.dtype"
   ]
  },
  {
   "cell_type": "code",
   "execution_count": 50,
   "id": "a164cd0e-e4e1-4f91-bbbe-7674ea7ad5e2",
   "metadata": {},
   "outputs": [
    {
     "data": {
      "text/plain": [
       "array([1.        , 1.44444444, 1.88888889, 2.33333333, 2.77777778,\n",
       "       3.22222222, 3.66666667, 4.11111111, 4.55555556, 5.        ])"
      ]
     },
     "execution_count": 50,
     "metadata": {},
     "output_type": "execute_result"
    }
   ],
   "source": [
    "## TO create an array of 10 valuse b/w 1 to 5\n",
    "np.linspace(1,5,10)"
   ]
  },
  {
   "cell_type": "code",
   "execution_count": 52,
   "id": "abf59494-39f3-492f-b4d4-58b44fd2d7b8",
   "metadata": {},
   "outputs": [
    {
     "data": {
      "text/plain": [
       "array([[0., 0., 0., 0.],\n",
       "       [0., 0., 0., 0.],\n",
       "       [0., 0., 0., 0.]])"
      ]
     },
     "execution_count": 52,
     "metadata": {},
     "output_type": "execute_result"
    }
   ],
   "source": [
    "##zero matrix\n",
    "np.zeros((3,4))"
   ]
  },
  {
   "cell_type": "code",
   "execution_count": 53,
   "id": "f28bdff5-ecab-48a0-ac6e-f52b2937c6b2",
   "metadata": {},
   "outputs": [
    {
     "data": {
      "text/plain": [
       "array([2.3])"
      ]
     },
     "execution_count": 53,
     "metadata": {},
     "output_type": "execute_result"
    }
   ],
   "source": [
    "np.arange(2.3,4.5,5)"
   ]
  },
  {
   "cell_type": "code",
   "execution_count": 54,
   "id": "355be05b-0ee8-4128-9a62-3dbd41b1d8b6",
   "metadata": {},
   "outputs": [
    {
     "data": {
      "text/plain": [
       "array([[[0., 0.],\n",
       "        [0., 0.],\n",
       "        [0., 0.],\n",
       "        [0., 0.]],\n",
       "\n",
       "       [[0., 0.],\n",
       "        [0., 0.],\n",
       "        [0., 0.],\n",
       "        [0., 0.]],\n",
       "\n",
       "       [[0., 0.],\n",
       "        [0., 0.],\n",
       "        [0., 0.],\n",
       "        [0., 0.]]])"
      ]
     },
     "execution_count": 54,
     "metadata": {},
     "output_type": "execute_result"
    }
   ],
   "source": [
    "## 4 into 2 matix\n",
    "np.zeros((3,4,2))"
   ]
  },
  {
   "cell_type": "code",
   "execution_count": 56,
   "id": "f7ff8d8c-737b-43dc-aeec-98059acccd9c",
   "metadata": {},
   "outputs": [
    {
     "data": {
      "text/plain": [
       "array([1., 1., 1., 1.])"
      ]
     },
     "execution_count": 56,
     "metadata": {},
     "output_type": "execute_result"
    }
   ],
   "source": [
    "np.ones(4)"
   ]
  },
  {
   "cell_type": "code",
   "execution_count": 58,
   "id": "d248e51c-c1dd-4d88-bb04-1a12180e5ba2",
   "metadata": {},
   "outputs": [
    {
     "data": {
      "text/plain": [
       "array([[1., 1., 1., 1.],\n",
       "       [1., 1., 1., 1.]])"
      ]
     },
     "execution_count": 58,
     "metadata": {},
     "output_type": "execute_result"
    }
   ],
   "source": [
    "np.ones((2,4))"
   ]
  },
  {
   "cell_type": "code",
   "execution_count": 63,
   "id": "a1827c97-fb46-4d40-ac59-520a7d361272",
   "metadata": {},
   "outputs": [],
   "source": [
    "on=np.ones((2,3,4))"
   ]
  },
  {
   "cell_type": "code",
   "execution_count": 64,
   "id": "5d167967-c0f2-456b-9048-03a6f690ce86",
   "metadata": {},
   "outputs": [
    {
     "data": {
      "text/plain": [
       "array([[[1., 1., 1., 1.],\n",
       "        [1., 1., 1., 1.],\n",
       "        [1., 1., 1., 1.]],\n",
       "\n",
       "       [[1., 1., 1., 1.],\n",
       "        [1., 1., 1., 1.],\n",
       "        [1., 1., 1., 1.]]])"
      ]
     },
     "execution_count": 64,
     "metadata": {},
     "output_type": "execute_result"
    }
   ],
   "source": [
    "on"
   ]
  },
  {
   "cell_type": "code",
   "execution_count": 65,
   "id": "85f1c985-a61c-4f41-b857-8f60478f33c8",
   "metadata": {},
   "outputs": [
    {
     "data": {
      "text/plain": [
       "array([[[5., 5., 5., 5.],\n",
       "        [5., 5., 5., 5.],\n",
       "        [5., 5., 5., 5.]],\n",
       "\n",
       "       [[5., 5., 5., 5.],\n",
       "        [5., 5., 5., 5.],\n",
       "        [5., 5., 5., 5.]]])"
      ]
     },
     "execution_count": 65,
     "metadata": {},
     "output_type": "execute_result"
    }
   ],
   "source": [
    "on*5"
   ]
  },
  {
   "cell_type": "code",
   "execution_count": 66,
   "id": "ef1b6245-5088-40ed-b2c4-931a57e1fdef",
   "metadata": {},
   "outputs": [
    {
     "data": {
      "text/plain": [
       "array([[0., 0., 0., 0.],\n",
       "       [0., 0., 0., 0.],\n",
       "       [0., 0., 0., 0.]])"
      ]
     },
     "execution_count": 66,
     "metadata": {},
     "output_type": "execute_result"
    }
   ],
   "source": [
    "np.empty((3,4))"
   ]
  },
  {
   "cell_type": "code",
   "execution_count": 67,
   "id": "81e5231f-d42b-4561-bc4d-1ce4c391674a",
   "metadata": {},
   "outputs": [
    {
     "data": {
      "text/plain": [
       "array([[1., 0., 0., 0.],\n",
       "       [0., 1., 0., 0.],\n",
       "       [0., 0., 1., 0.],\n",
       "       [0., 0., 0., 1.]])"
      ]
     },
     "execution_count": 67,
     "metadata": {},
     "output_type": "execute_result"
    }
   ],
   "source": [
    "##Diagonal element are one\n",
    "np.eye(4)"
   ]
  },
  {
   "cell_type": "code",
   "execution_count": 70,
   "id": "417079f4-2313-413c-9373-254d3bcb5e95",
   "metadata": {},
   "outputs": [],
   "source": [
    "##Standard natural daviation\n",
    "arr=np.random.rand(3,4)"
   ]
  },
  {
   "cell_type": "code",
   "execution_count": 73,
   "id": "a05c6ae5-c902-4e37-9f4c-0ceb452e732b",
   "metadata": {},
   "outputs": [
    {
     "data": {
      "text/plain": [
       "array([[0.1378648 , 0.22176082, 0.09773523, 0.381344  ],\n",
       "       [0.33818603, 0.45820949, 0.81627729, 0.81122548],\n",
       "       [0.78638471, 0.47203521, 0.06213594, 0.42493831]])"
      ]
     },
     "execution_count": 73,
     "metadata": {},
     "output_type": "execute_result"
    }
   ],
   "source": [
    "arr"
   ]
  },
  {
   "cell_type": "code",
   "execution_count": 71,
   "id": "ffd03003-9514-418c-8637-e4be6ce42405",
   "metadata": {},
   "outputs": [],
   "source": [
    "import pandas as pd"
   ]
  },
  {
   "cell_type": "code",
   "execution_count": 72,
   "id": "8bcd3f81-fc3d-4b7f-9637-3bb3699e1b33",
   "metadata": {},
   "outputs": [
    {
     "data": {
      "text/html": [
       "<div>\n",
       "<style scoped>\n",
       "    .dataframe tbody tr th:only-of-type {\n",
       "        vertical-align: middle;\n",
       "    }\n",
       "\n",
       "    .dataframe tbody tr th {\n",
       "        vertical-align: top;\n",
       "    }\n",
       "\n",
       "    .dataframe thead th {\n",
       "        text-align: right;\n",
       "    }\n",
       "</style>\n",
       "<table border=\"1\" class=\"dataframe\">\n",
       "  <thead>\n",
       "    <tr style=\"text-align: right;\">\n",
       "      <th></th>\n",
       "      <th>0</th>\n",
       "      <th>1</th>\n",
       "      <th>2</th>\n",
       "      <th>3</th>\n",
       "    </tr>\n",
       "  </thead>\n",
       "  <tbody>\n",
       "    <tr>\n",
       "      <th>0</th>\n",
       "      <td>0.137865</td>\n",
       "      <td>0.221761</td>\n",
       "      <td>0.097735</td>\n",
       "      <td>0.381344</td>\n",
       "    </tr>\n",
       "    <tr>\n",
       "      <th>1</th>\n",
       "      <td>0.338186</td>\n",
       "      <td>0.458209</td>\n",
       "      <td>0.816277</td>\n",
       "      <td>0.811225</td>\n",
       "    </tr>\n",
       "    <tr>\n",
       "      <th>2</th>\n",
       "      <td>0.786385</td>\n",
       "      <td>0.472035</td>\n",
       "      <td>0.062136</td>\n",
       "      <td>0.424938</td>\n",
       "    </tr>\n",
       "  </tbody>\n",
       "</table>\n",
       "</div>"
      ],
      "text/plain": [
       "          0         1         2         3\n",
       "0  0.137865  0.221761  0.097735  0.381344\n",
       "1  0.338186  0.458209  0.816277  0.811225\n",
       "2  0.786385  0.472035  0.062136  0.424938"
      ]
     },
     "execution_count": 72,
     "metadata": {},
     "output_type": "execute_result"
    }
   ],
   "source": [
    "pd.DataFrame(arr)"
   ]
  },
  {
   "cell_type": "code",
   "execution_count": 74,
   "id": "66f768ad-a92b-433e-97a7-712276284f8d",
   "metadata": {},
   "outputs": [
    {
     "data": {
      "text/plain": [
       "numpy.ndarray"
      ]
     },
     "execution_count": 74,
     "metadata": {},
     "output_type": "execute_result"
    }
   ],
   "source": [
    "type(arr)"
   ]
  },
  {
   "cell_type": "code",
   "execution_count": 75,
   "id": "de4765ad-cc7e-432e-a001-c932467a6173",
   "metadata": {},
   "outputs": [],
   "source": [
    "##For reshape the array\n",
    "arr1=arr.reshape(4,3)"
   ]
  },
  {
   "cell_type": "code",
   "execution_count": 76,
   "id": "75b328f8-7dd6-467f-8202-8219acf26e67",
   "metadata": {},
   "outputs": [
    {
     "data": {
      "text/plain": [
       "array([[0.1378648 , 0.22176082, 0.09773523],\n",
       "       [0.381344  , 0.33818603, 0.45820949],\n",
       "       [0.81627729, 0.81122548, 0.78638471],\n",
       "       [0.47203521, 0.06213594, 0.42493831]])"
      ]
     },
     "execution_count": 76,
     "metadata": {},
     "output_type": "execute_result"
    }
   ],
   "source": [
    "arr1"
   ]
  },
  {
   "cell_type": "code",
   "execution_count": 77,
   "id": "9a2cc593-cf16-41e9-a87e-d0b10e9a9bb3",
   "metadata": {},
   "outputs": [
    {
     "data": {
      "text/plain": [
       "0.3813440035886506"
      ]
     },
     "execution_count": 77,
     "metadata": {},
     "output_type": "execute_result"
    }
   ],
   "source": [
    "arr1[1][0]"
   ]
  },
  {
   "cell_type": "code",
   "execution_count": 80,
   "id": "a56482e0-42f7-4eb7-9449-fe667faa0843",
   "metadata": {},
   "outputs": [],
   "source": [
    "arr=np.random.randint(1,100,(5,5))"
   ]
  },
  {
   "cell_type": "code",
   "execution_count": 81,
   "id": "bd03e239-ae05-4f37-82a5-504c26461af4",
   "metadata": {},
   "outputs": [
    {
     "data": {
      "text/plain": [
       "array([[ 8, 86, 31, 74, 36],\n",
       "       [44, 91, 57, 86, 13],\n",
       "       [36, 56, 13,  9, 25],\n",
       "       [76, 91, 11, 23, 96],\n",
       "       [67, 37,  6,  6, 85]])"
      ]
     },
     "execution_count": 81,
     "metadata": {},
     "output_type": "execute_result"
    }
   ],
   "source": [
    "arr"
   ]
  },
  {
   "cell_type": "code",
   "execution_count": 82,
   "id": "88d039d6-6739-4abf-99c8-46edecf753c3",
   "metadata": {},
   "outputs": [
    {
     "data": {
      "text/plain": [
       "array([[56, 13],\n",
       "       [91, 11]])"
      ]
     },
     "execution_count": 82,
     "metadata": {},
     "output_type": "execute_result"
    }
   ],
   "source": [
    "arr[2:4,[1,2]]"
   ]
  },
  {
   "cell_type": "code",
   "execution_count": 83,
   "id": "5f6a7862-6cb2-4ea9-bc5e-7a7df7814979",
   "metadata": {},
   "outputs": [],
   "source": [
    "##indexing also possible\n",
    "arr[0][0]=500"
   ]
  },
  {
   "cell_type": "code",
   "execution_count": 84,
   "id": "32b4bb8e-d8be-4a51-a389-2fc6823cb20f",
   "metadata": {},
   "outputs": [
    {
     "data": {
      "text/plain": [
       "array([[500,  86,  31,  74,  36],\n",
       "       [ 44,  91,  57,  86,  13],\n",
       "       [ 36,  56,  13,   9,  25],\n",
       "       [ 76,  91,  11,  23,  96],\n",
       "       [ 67,  37,   6,   6,  85]])"
      ]
     },
     "execution_count": 84,
     "metadata": {},
     "output_type": "execute_result"
    }
   ],
   "source": [
    "arr"
   ]
  },
  {
   "cell_type": "markdown",
   "id": "e8f50fdd-fbd4-4c99-8ded-2ba97b6bcb64",
   "metadata": {},
   "source": [
    "##Matrix operation"
   ]
  },
  {
   "cell_type": "code",
   "execution_count": 85,
   "id": "47ac14e6-9550-4c01-9b4d-964ab9ab65c6",
   "metadata": {},
   "outputs": [],
   "source": [
    "arr1=np.random.randint(1,3,(3,3))\n",
    "arr2=np.random.randint(1,3,(3,3))"
   ]
  },
  {
   "cell_type": "code",
   "execution_count": 90,
   "id": "808d71de-0a4d-4ba3-80e7-e7be99e9cc05",
   "metadata": {},
   "outputs": [
    {
     "data": {
      "text/plain": [
       "array([[1, 1, 2],\n",
       "       [2, 2, 2],\n",
       "       [1, 2, 2]])"
      ]
     },
     "execution_count": 90,
     "metadata": {},
     "output_type": "execute_result"
    }
   ],
   "source": [
    "arr1"
   ]
  },
  {
   "cell_type": "code",
   "execution_count": 91,
   "id": "23257540-2c67-4012-95e4-1399ea686c58",
   "metadata": {},
   "outputs": [
    {
     "data": {
      "text/plain": [
       "array([[2, 2, 1],\n",
       "       [1, 1, 2],\n",
       "       [1, 2, 2]])"
      ]
     },
     "execution_count": 91,
     "metadata": {},
     "output_type": "execute_result"
    }
   ],
   "source": [
    "arr2"
   ]
  },
  {
   "cell_type": "code",
   "execution_count": 86,
   "id": "efb33426-796c-4d33-8e6d-165ccb1db7a0",
   "metadata": {},
   "outputs": [],
   "source": [
    "##Matrix  addition"
   ]
  },
  {
   "cell_type": "code",
   "execution_count": 87,
   "id": "cdf6b770-0619-4f62-b938-2dc9bc686189",
   "metadata": {},
   "outputs": [
    {
     "data": {
      "text/plain": [
       "array([[3, 3, 3],\n",
       "       [3, 3, 4],\n",
       "       [2, 4, 4]])"
      ]
     },
     "execution_count": 87,
     "metadata": {},
     "output_type": "execute_result"
    }
   ],
   "source": [
    "arr1+arr2"
   ]
  },
  {
   "cell_type": "code",
   "execution_count": 88,
   "id": "2c143014-15e0-4aec-92e4-590b21d7b567",
   "metadata": {},
   "outputs": [
    {
     "data": {
      "text/plain": [
       "array([[-1, -1,  1],\n",
       "       [ 1,  1,  0],\n",
       "       [ 0,  0,  0]])"
      ]
     },
     "execution_count": 88,
     "metadata": {},
     "output_type": "execute_result"
    }
   ],
   "source": [
    "## matrix substraction\n",
    "arr1-arr2"
   ]
  },
  {
   "cell_type": "code",
   "execution_count": 89,
   "id": "9f18f7d3-d79c-452c-bdf6-09154dd921e2",
   "metadata": {},
   "outputs": [
    {
     "data": {
      "text/plain": [
       "array([[2, 2, 2],\n",
       "       [2, 2, 4],\n",
       "       [1, 4, 4]])"
      ]
     },
     "execution_count": 89,
     "metadata": {},
     "output_type": "execute_result"
    }
   ],
   "source": [
    "arr1*arr2"
   ]
  },
  {
   "cell_type": "code",
   "execution_count": 92,
   "id": "e07e2adf-05b0-4e5e-9c15-dd386434ed4a",
   "metadata": {},
   "outputs": [
    {
     "data": {
      "text/plain": [
       "array([[ 5,  7,  7],\n",
       "       [ 8, 10, 10],\n",
       "       [ 6,  8,  9]])"
      ]
     },
     "execution_count": 92,
     "metadata": {},
     "output_type": "execute_result"
    }
   ],
   "source": [
    "## Matrix multiplication\n",
    "arr1@arr2"
   ]
  },
  {
   "cell_type": "code",
   "execution_count": 5,
   "id": "179ac349-62ed-4a1a-8fbb-5a311760d4ba",
   "metadata": {},
   "outputs": [],
   "source": [
    "arr=np.zeros((4,4))"
   ]
  },
  {
   "cell_type": "code",
   "execution_count": 6,
   "id": "cb1b77c3-6dd8-4687-92a7-557c58b3678c",
   "metadata": {},
   "outputs": [
    {
     "data": {
      "text/plain": [
       "array([[0., 0., 0., 0.],\n",
       "       [0., 0., 0., 0.],\n",
       "       [0., 0., 0., 0.],\n",
       "       [0., 0., 0., 0.]])"
      ]
     },
     "execution_count": 6,
     "metadata": {},
     "output_type": "execute_result"
    }
   ],
   "source": [
    "arr"
   ]
  },
  {
   "cell_type": "code",
   "execution_count": 7,
   "id": "4fa8311f-e4bf-419e-9826-11315383a7cb",
   "metadata": {},
   "outputs": [],
   "source": [
    "row=np.array([1,2,3,4])"
   ]
  },
  {
   "cell_type": "code",
   "execution_count": 8,
   "id": "158d2b02-eb15-4120-a23c-e388790d2ec2",
   "metadata": {},
   "outputs": [
    {
     "data": {
      "text/plain": [
       "array([1, 2, 3, 4])"
      ]
     },
     "execution_count": 8,
     "metadata": {},
     "output_type": "execute_result"
    }
   ],
   "source": [
    "row"
   ]
  },
  {
   "cell_type": "code",
   "execution_count": 9,
   "id": "e642482b-c2e7-499f-a47e-a486231d87f5",
   "metadata": {},
   "outputs": [],
   "source": [
    "arr=arr+row"
   ]
  },
  {
   "cell_type": "code",
   "execution_count": 58,
   "id": "440533a8-c5de-48cf-bfc0-61e3ac09e47d",
   "metadata": {},
   "outputs": [
    {
     "data": {
      "text/plain": [
       "array(['sudh', 'kumar'], dtype='<U5')"
      ]
     },
     "execution_count": 58,
     "metadata": {},
     "output_type": "execute_result"
    }
   ],
   "source": [
    "arr"
   ]
  },
  {
   "cell_type": "code",
   "execution_count": 59,
   "id": "8a947fc3-5697-4dfa-9031-f8c32dff39ca",
   "metadata": {},
   "outputs": [
    {
     "data": {
      "text/plain": [
       "array(['sudh', 'kumar'], dtype='<U5')"
      ]
     },
     "execution_count": 59,
     "metadata": {},
     "output_type": "execute_result"
    }
   ],
   "source": [
    "## For transpose\n",
    "arr.T"
   ]
  },
  {
   "cell_type": "code",
   "execution_count": 12,
   "id": "5db0c31b-a0f2-4918-9188-86b0f6a7fde6",
   "metadata": {},
   "outputs": [
    {
     "data": {
      "text/plain": [
       "array([[1.        , 1.41421356, 1.73205081, 2.        ],\n",
       "       [1.        , 1.41421356, 1.73205081, 2.        ],\n",
       "       [1.        , 1.41421356, 1.73205081, 2.        ],\n",
       "       [1.        , 1.41421356, 1.73205081, 2.        ]])"
      ]
     },
     "execution_count": 12,
     "metadata": {},
     "output_type": "execute_result"
    }
   ],
   "source": [
    "np.sqrt(arr)"
   ]
  },
  {
   "cell_type": "code",
   "execution_count": 14,
   "id": "e1e2ac6f-1a5a-472a-9c58-e334b98e5801",
   "metadata": {},
   "outputs": [
    {
     "data": {
      "text/plain": [
       "array([[ 2.71828183,  7.3890561 , 20.08553692, 54.59815003],\n",
       "       [ 2.71828183,  7.3890561 , 20.08553692, 54.59815003],\n",
       "       [ 2.71828183,  7.3890561 , 20.08553692, 54.59815003],\n",
       "       [ 2.71828183,  7.3890561 , 20.08553692, 54.59815003]])"
      ]
     },
     "execution_count": 14,
     "metadata": {},
     "output_type": "execute_result"
    }
   ],
   "source": [
    "np.exp(arr)"
   ]
  },
  {
   "cell_type": "code",
   "execution_count": null,
   "id": "56515730-a39e-4fb5-9d30-20d9ce87137e",
   "metadata": {},
   "outputs": [],
   "source": []
  },
  {
   "cell_type": "markdown",
   "id": "4b0a7ddf-a765-414a-9781-9b0b5584b84e",
   "metadata": {},
   "source": [
    "##Numpy Array Manipulation"
   ]
  },
  {
   "cell_type": "code",
   "execution_count": 17,
   "id": "299e06ca-f9bf-4250-a60c-6941ce37cd54",
   "metadata": {},
   "outputs": [],
   "source": [
    "arr=np.random.randint(1,10,(3,4))"
   ]
  },
  {
   "cell_type": "code",
   "execution_count": 18,
   "id": "1088e818-6528-4c31-83a8-fa7458c62fb3",
   "metadata": {},
   "outputs": [
    {
     "data": {
      "text/plain": [
       "array([[8, 8, 5, 5],\n",
       "       [7, 6, 4, 5],\n",
       "       [3, 9, 6, 6]])"
      ]
     },
     "execution_count": 18,
     "metadata": {},
     "output_type": "execute_result"
    }
   ],
   "source": [
    "arr"
   ]
  },
  {
   "cell_type": "code",
   "execution_count": 19,
   "id": "b3cab5d7-45b1-48a1-bc0a-c58e06d9b64f",
   "metadata": {},
   "outputs": [
    {
     "data": {
      "text/plain": [
       "array([[8, 8, 5, 5, 7, 6],\n",
       "       [4, 5, 3, 9, 6, 6]])"
      ]
     },
     "execution_count": 19,
     "metadata": {},
     "output_type": "execute_result"
    }
   ],
   "source": [
    "##For reshape operation\n",
    "arr.reshape(2,6)"
   ]
  },
  {
   "cell_type": "code",
   "execution_count": 20,
   "id": "1da9c90d-67df-4978-8508-ccdeeb184bbd",
   "metadata": {},
   "outputs": [],
   "source": [
    "arr1=np.array([1,2,3,4])"
   ]
  },
  {
   "cell_type": "code",
   "execution_count": 21,
   "id": "fc95d3d6-30cd-4dcb-8318-91ece72f4a53",
   "metadata": {},
   "outputs": [
    {
     "data": {
      "text/plain": [
       "array([1, 2, 3, 4])"
      ]
     },
     "execution_count": 21,
     "metadata": {},
     "output_type": "execute_result"
    }
   ],
   "source": [
    "arr1"
   ]
  },
  {
   "cell_type": "code",
   "execution_count": 22,
   "id": "f7148a31-e1e4-439c-be03-e92c5634c6cc",
   "metadata": {},
   "outputs": [
    {
     "data": {
      "text/plain": [
       "1"
      ]
     },
     "execution_count": 22,
     "metadata": {},
     "output_type": "execute_result"
    }
   ],
   "source": [
    "arr1.ndim"
   ]
  },
  {
   "cell_type": "markdown",
   "id": "54a54f67-b387-47be-8274-d0fb948c1e8c",
   "metadata": {},
   "source": [
    "##Numpy string Function"
   ]
  },
  {
   "cell_type": "code",
   "execution_count": 52,
   "id": "2d655f56-854d-44dd-9d51-c0a75f3eb239",
   "metadata": {},
   "outputs": [],
   "source": [
    "arr=np.array([\"sudh\",\"kumar\"])"
   ]
  },
  {
   "cell_type": "code",
   "execution_count": 53,
   "id": "4035d31b-e264-4890-ad44-c1e390802a59",
   "metadata": {},
   "outputs": [
    {
     "data": {
      "text/plain": [
       "array(['sudh', 'kumar'], dtype='<U5')"
      ]
     },
     "execution_count": 53,
     "metadata": {},
     "output_type": "execute_result"
    }
   ],
   "source": [
    "arr"
   ]
  },
  {
   "cell_type": "code",
   "execution_count": 54,
   "id": "073379f8-0023-4811-87d1-48606ab59faf",
   "metadata": {},
   "outputs": [
    {
     "data": {
      "text/plain": [
       "array(['SUDH', 'KUMAR'], dtype='<U5')"
      ]
     },
     "execution_count": 54,
     "metadata": {},
     "output_type": "execute_result"
    }
   ],
   "source": [
    "## FOR uppercase\n",
    "np.char.upper(arr)"
   ]
  },
  {
   "cell_type": "code",
   "execution_count": 55,
   "id": "8ecf5f53-f7ac-4805-bd1c-999367839339",
   "metadata": {},
   "outputs": [
    {
     "data": {
      "text/plain": [
       "array(['sudh', 'kumar'], dtype='<U5')"
      ]
     },
     "execution_count": 55,
     "metadata": {},
     "output_type": "execute_result"
    }
   ],
   "source": [
    "## For lowercae\n",
    "np.char.lower(arr)"
   ]
  },
  {
   "cell_type": "code",
   "execution_count": 56,
   "id": "f820771d-f812-428f-9fcf-2a1695dd0953",
   "metadata": {},
   "outputs": [
    {
     "data": {
      "text/plain": [
       "array(['Sudh', 'Kumar'], dtype='<U5')"
      ]
     },
     "execution_count": 56,
     "metadata": {},
     "output_type": "execute_result"
    }
   ],
   "source": [
    "##Make fisrt word in uppercase\n",
    "np.char.title(arr)"
   ]
  },
  {
   "cell_type": "code",
   "execution_count": 57,
   "id": "3e7b46d7-99b3-416b-9e4d-35fe41fd6439",
   "metadata": {},
   "outputs": [
    {
     "data": {
      "text/plain": [
       "array(['Sudh', 'Kumar'], dtype='<U5')"
      ]
     },
     "execution_count": 57,
     "metadata": {},
     "output_type": "execute_result"
    }
   ],
   "source": [
    "np.char.capitalize(arr)"
   ]
  },
  {
   "cell_type": "code",
   "execution_count": 33,
   "id": "5a042f18-3808-412a-84c2-66a7be4051c5",
   "metadata": {},
   "outputs": [],
   "source": [
    "arr1=np.random.randint(1,10,(3,4))"
   ]
  },
  {
   "cell_type": "code",
   "execution_count": 34,
   "id": "63b2996e-59f3-4947-b7c7-e5c1ec06cf36",
   "metadata": {},
   "outputs": [
    {
     "data": {
      "text/plain": [
       "array([[1, 5, 4, 8],\n",
       "       [4, 9, 7, 7],\n",
       "       [8, 6, 4, 1]])"
      ]
     },
     "execution_count": 34,
     "metadata": {},
     "output_type": "execute_result"
    }
   ],
   "source": [
    "arr1"
   ]
  },
  {
   "cell_type": "code",
   "execution_count": 35,
   "id": "28bfa79a-f3f3-4d6b-8c60-666b89750f75",
   "metadata": {},
   "outputs": [
    {
     "data": {
      "text/plain": [
       "array([[ 0.84147098, -0.95892427, -0.7568025 ,  0.98935825],\n",
       "       [-0.7568025 ,  0.41211849,  0.6569866 ,  0.6569866 ],\n",
       "       [ 0.98935825, -0.2794155 , -0.7568025 ,  0.84147098]])"
      ]
     },
     "execution_count": 35,
     "metadata": {},
     "output_type": "execute_result"
    }
   ],
   "source": [
    "## sin value\n",
    "np.sin(arr1)"
   ]
  },
  {
   "cell_type": "code",
   "execution_count": 36,
   "id": "548ea875-93a6-4fcf-baff-63715ff83ffb",
   "metadata": {},
   "outputs": [
    {
     "data": {
      "text/plain": [
       "array([[ 0.54030231,  0.28366219, -0.65364362, -0.14550003],\n",
       "       [-0.65364362, -0.91113026,  0.75390225,  0.75390225],\n",
       "       [-0.14550003,  0.96017029, -0.65364362,  0.54030231]])"
      ]
     },
     "execution_count": 36,
     "metadata": {},
     "output_type": "execute_result"
    }
   ],
   "source": [
    "## cos falue\n",
    "np.cos(arr1)\n"
   ]
  },
  {
   "cell_type": "code",
   "execution_count": 37,
   "id": "a32f19b8-c03f-4747-9901-e5e758399877",
   "metadata": {},
   "outputs": [
    {
     "data": {
      "text/plain": [
       "array([[0.76159416, 0.9999092 , 0.9993293 , 0.99999977],\n",
       "       [0.9993293 , 0.99999997, 0.99999834, 0.99999834],\n",
       "       [0.99999977, 0.99998771, 0.9993293 , 0.76159416]])"
      ]
     },
     "execution_count": 37,
     "metadata": {},
     "output_type": "execute_result"
    }
   ],
   "source": [
    "## tan value\n",
    "np.tanh(arr1)"
   ]
  },
  {
   "cell_type": "code",
   "execution_count": 38,
   "id": "22519f17-a080-4597-9a9c-57fd06bf17c5",
   "metadata": {},
   "outputs": [
    {
     "data": {
      "text/plain": [
       "array([[0.        , 0.69897   , 0.60205999, 0.90308999],\n",
       "       [0.60205999, 0.95424251, 0.84509804, 0.84509804],\n",
       "       [0.90308999, 0.77815125, 0.60205999, 0.        ]])"
      ]
     },
     "execution_count": 38,
     "metadata": {},
     "output_type": "execute_result"
    }
   ],
   "source": [
    "##log value\n",
    "np.log10(arr1)"
   ]
  },
  {
   "cell_type": "code",
   "execution_count": 39,
   "id": "3f9ac5b7-eb38-40c1-a845-3515fcda4db4",
   "metadata": {},
   "outputs": [
    {
     "data": {
      "text/plain": [
       "5.333333333333333"
      ]
     },
     "execution_count": 39,
     "metadata": {},
     "output_type": "execute_result"
    }
   ],
   "source": [
    "## for mean\n",
    "np.mean(arr1)"
   ]
  },
  {
   "cell_type": "code",
   "execution_count": 40,
   "id": "e736a003-a710-4a90-887a-532c1991e47f",
   "metadata": {},
   "outputs": [
    {
     "data": {
      "text/plain": [
       "5.5"
      ]
     },
     "execution_count": 40,
     "metadata": {},
     "output_type": "execute_result"
    }
   ],
   "source": [
    "##For median\n",
    "np.median(arr1)"
   ]
  },
  {
   "cell_type": "code",
   "execution_count": 41,
   "id": "c779dfde-a7f7-4c65-819c-ebcd19470914",
   "metadata": {},
   "outputs": [
    {
     "data": {
      "text/plain": [
       "6.388888888888889"
      ]
     },
     "execution_count": 41,
     "metadata": {},
     "output_type": "execute_result"
    }
   ],
   "source": [
    "## For varience\n",
    "np.var(arr1)"
   ]
  },
  {
   "cell_type": "code",
   "execution_count": 42,
   "id": "b39a6cc1-1113-47b0-b40b-d3324387b2ff",
   "metadata": {},
   "outputs": [
    {
     "data": {
      "text/plain": [
       "9"
      ]
     },
     "execution_count": 42,
     "metadata": {},
     "output_type": "execute_result"
    }
   ],
   "source": [
    "##For max value in arr1\n",
    "np.max(arr1)"
   ]
  },
  {
   "cell_type": "code",
   "execution_count": 43,
   "id": "5b941cf8-ec3e-49e1-b73b-57a68b501d05",
   "metadata": {},
   "outputs": [
    {
     "data": {
      "text/plain": [
       "1"
      ]
     },
     "execution_count": 43,
     "metadata": {},
     "output_type": "execute_result"
    }
   ],
   "source": [
    "####For min value in arr1\n",
    "np.min(arr1)"
   ]
  },
  {
   "cell_type": "markdown",
   "id": "75029fca-27d9-4e7f-bb44-86208076692d",
   "metadata": {},
   "source": [
    "##Linear Algebra"
   ]
  },
  {
   "cell_type": "code",
   "execution_count": 47,
   "id": "2943e543-6420-48a3-9f78-c27f6a87f09d",
   "metadata": {},
   "outputs": [],
   "source": [
    "arr=np.array([9,5,8,3,2])"
   ]
  },
  {
   "cell_type": "code",
   "execution_count": 48,
   "id": "96a1b873-4112-4865-90fe-dca8aee2758d",
   "metadata": {},
   "outputs": [
    {
     "data": {
      "text/plain": [
       "array([9, 5, 8, 3, 2])"
      ]
     },
     "execution_count": 48,
     "metadata": {},
     "output_type": "execute_result"
    }
   ],
   "source": [
    "arr"
   ]
  },
  {
   "cell_type": "code",
   "execution_count": 50,
   "id": "de23af5d-c6c1-479b-b425-b644fbd9715a",
   "metadata": {},
   "outputs": [
    {
     "data": {
      "text/plain": [
       "array([2, 3, 5, 8, 9])"
      ]
     },
     "execution_count": 50,
     "metadata": {},
     "output_type": "execute_result"
    }
   ],
   "source": [
    "##For sorting\n",
    "np.sort(arr)"
   ]
  },
  {
   "cell_type": "markdown",
   "id": "c583ae55-7ca0-4a06-ad13-2cc2c37bf451",
   "metadata": {},
   "source": [
    "##Numpy Matrix Library"
   ]
  },
  {
   "cell_type": "code",
   "execution_count": 63,
   "id": "52143a1f-bde8-49ba-b699-44a4ed8e71ef",
   "metadata": {},
   "outputs": [],
   "source": [
    "import numpy.matlib as nm"
   ]
  },
  {
   "cell_type": "code",
   "execution_count": 64,
   "id": "0108fc7d-8ca8-4ded-a541-8e4b3b9ba281",
   "metadata": {},
   "outputs": [
    {
     "data": {
      "text/plain": [
       "matrix([[0., 0., 0., 0., 0.]])"
      ]
     },
     "execution_count": 64,
     "metadata": {},
     "output_type": "execute_result"
    }
   ],
   "source": [
    "nm.zeros(5)"
   ]
  },
  {
   "cell_type": "code",
   "execution_count": 65,
   "id": "99a31a83-bf48-4174-8a45-fc9363ca7989",
   "metadata": {},
   "outputs": [
    {
     "data": {
      "text/plain": [
       "matrix([[1., 1., 1., 1.],\n",
       "        [1., 1., 1., 1.],\n",
       "        [1., 1., 1., 1.]])"
      ]
     },
     "execution_count": 65,
     "metadata": {},
     "output_type": "execute_result"
    }
   ],
   "source": [
    "nm.ones((3,4))"
   ]
  },
  {
   "cell_type": "code",
   "execution_count": 78,
   "id": "76bc6a1e-de94-423c-a107-00bca5b0195a",
   "metadata": {},
   "outputs": [],
   "source": [
    "arr4=np.random.randint([[2,3],[4,5]])\n"
   ]
  },
  {
   "cell_type": "code",
   "execution_count": 79,
   "id": "ff0ae2d8-e136-48c0-9a53-669158862395",
   "metadata": {},
   "outputs": [],
   "source": [
    "arr5=np.random.randint([[5,3],[2,5]])"
   ]
  },
  {
   "cell_type": "code",
   "execution_count": 80,
   "id": "58e7cef4-48c0-4ab7-8421-9d6d50703802",
   "metadata": {},
   "outputs": [
    {
     "data": {
      "text/plain": [
       "array([[0, 1],\n",
       "       [1, 3]])"
      ]
     },
     "execution_count": 80,
     "metadata": {},
     "output_type": "execute_result"
    }
   ],
   "source": [
    "arr4"
   ]
  },
  {
   "cell_type": "code",
   "execution_count": 81,
   "id": "79443ab3-92f1-4a2e-b907-ff82bb583034",
   "metadata": {},
   "outputs": [
    {
     "data": {
      "text/plain": [
       "array([[3, 0],\n",
       "       [0, 4]])"
      ]
     },
     "execution_count": 81,
     "metadata": {},
     "output_type": "execute_result"
    }
   ],
   "source": [
    "arr5"
   ]
  },
  {
   "cell_type": "code",
   "execution_count": 77,
   "id": "30859f44-e4f6-4b11-97e7-a2c579e95a9a",
   "metadata": {},
   "outputs": [
    {
     "data": {
      "text/plain": [
       "array([[1, 4],\n",
       "       [0, 0]])"
      ]
     },
     "execution_count": 77,
     "metadata": {},
     "output_type": "execute_result"
    }
   ],
   "source": [
    "##Multiplication for elem\n",
    "np.dot(arr4,arr5)\n"
   ]
  },
  {
   "cell_type": "code",
   "execution_count": null,
   "id": "6078f6da-7623-47c0-9f67-93a2c5284754",
   "metadata": {},
   "outputs": [],
   "source": []
  }
 ],
 "metadata": {
  "kernelspec": {
   "display_name": "Python 3 (ipykernel)",
   "language": "python",
   "name": "python3"
  },
  "language_info": {
   "codemirror_mode": {
    "name": "ipython",
    "version": 3
   },
   "file_extension": ".py",
   "mimetype": "text/x-python",
   "name": "python",
   "nbconvert_exporter": "python",
   "pygments_lexer": "ipython3",
   "version": "3.10.8"
  }
 },
 "nbformat": 4,
 "nbformat_minor": 5
}
