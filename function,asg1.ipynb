{
 "cells": [
  {
   "cell_type": "code",
   "execution_count": 6,
   "id": "1a421ecf-4ff6-4a93-993e-5944164faeb3",
   "metadata": {},
   "outputs": [],
   "source": [
    "##Q1 def keyword is to create a function"
   ]
  },
  {
   "cell_type": "code",
   "execution_count": 12,
   "id": "5a091faa-ff0a-411e-bf3e-ff4d722ad718",
   "metadata": {
    "tags": []
   },
   "outputs": [],
   "source": [
    "def test1(n):\n",
    "    l1=[]\n",
    "    for i in range (n):\n",
    "        if i%2!=0:\n",
    "            l1.append(i)\n",
    "    return l1        \n",
    "            \n",
    "    "
   ]
  },
  {
   "cell_type": "code",
   "execution_count": 13,
   "id": "a23abebf-9131-405b-8f2c-df50c99a9577",
   "metadata": {},
   "outputs": [
    {
     "data": {
      "text/plain": [
       "[1, 3, 5, 7, 9, 11, 13, 15, 17, 19, 21, 23]"
      ]
     },
     "execution_count": 13,
     "metadata": {},
     "output_type": "execute_result"
    }
   ],
   "source": [
    "test1(25)"
   ]
  },
  {
   "cell_type": "code",
   "execution_count": 14,
   "id": "8f9499ba-5525-462b-a8d1-60c79fbae0ea",
   "metadata": {},
   "outputs": [],
   "source": [
    "##Q2; *args and **krgs is used to store n number of element in tuple or dictionaries form"
   ]
  },
  {
   "cell_type": "code",
   "execution_count": 18,
   "id": "c437d98b-974c-4339-9b8d-e536821e137e",
   "metadata": {},
   "outputs": [],
   "source": [
    "def test2(*args):\n",
    "    return args"
   ]
  },
  {
   "cell_type": "code",
   "execution_count": 20,
   "id": "835397f6-2527-423a-840d-06663dd7767f",
   "metadata": {},
   "outputs": [
    {
     "data": {
      "text/plain": [
       "()"
      ]
     },
     "execution_count": 20,
     "metadata": {},
     "output_type": "execute_result"
    }
   ],
   "source": [
    "test2()"
   ]
  },
  {
   "cell_type": "code",
   "execution_count": 21,
   "id": "9ef2149a-9cb3-4dd2-b0cd-e7ddbdb6a8b3",
   "metadata": {},
   "outputs": [
    {
     "data": {
      "text/plain": [
       "(1, 5, 8, 7, 'sudh', 'kumar')"
      ]
     },
     "execution_count": 21,
     "metadata": {},
     "output_type": "execute_result"
    }
   ],
   "source": [
    "test(1,5,8,7,\"sudh\",\"kumar\")"
   ]
  },
  {
   "cell_type": "code",
   "execution_count": 23,
   "id": "2536fb6b-e7d2-4006-9e27-97d24ddbc8a4",
   "metadata": {},
   "outputs": [],
   "source": [
    "def test3(**krgs):\n",
    "    return krgs"
   ]
  },
  {
   "cell_type": "code",
   "execution_count": 24,
   "id": "57014eb4-286f-4580-b99b-e87215dcb003",
   "metadata": {},
   "outputs": [
    {
     "data": {
      "text/plain": [
       "{}"
      ]
     },
     "execution_count": 24,
     "metadata": {},
     "output_type": "execute_result"
    }
   ],
   "source": [
    "test3()"
   ]
  },
  {
   "cell_type": "code",
   "execution_count": 25,
   "id": "c43a670f-f2f7-42ec-87fe-78be1037f716",
   "metadata": {},
   "outputs": [
    {
     "data": {
      "text/plain": [
       "{'course': 'data science', 'mentor': 'you', 'name': 'sudh'}"
      ]
     },
     "execution_count": 25,
     "metadata": {},
     "output_type": "execute_result"
    }
   ],
   "source": [
    "test3(course=\"data science\", mentor=\"you\", name=\"sudh\")"
   ]
  },
  {
   "cell_type": "code",
   "execution_count": 26,
   "id": "4f25d4b4-21f7-47fe-86c2-00891e447e80",
   "metadata": {},
   "outputs": [],
   "source": [
    "##Q3;iterator object means this object we can use on by one by using next\n"
   ]
  },
  {
   "cell_type": "code",
   "execution_count": 36,
   "id": "d21b390b-fab4-4df4-ba3d-22101d9de9fe",
   "metadata": {},
   "outputs": [],
   "source": [
    "s2=[2,4,6,8,10,12,14,16,18,20]"
   ]
  },
  {
   "cell_type": "code",
   "execution_count": 37,
   "id": "f65b5c80-152a-4d75-b169-d8d54d9811de",
   "metadata": {},
   "outputs": [],
   "source": [
    "s3=iter(s2)"
   ]
  },
  {
   "cell_type": "code",
   "execution_count": 38,
   "id": "b6022d8d-5a9f-4afa-a830-1903ee8eadf4",
   "metadata": {},
   "outputs": [
    {
     "data": {
      "text/plain": [
       "2"
      ]
     },
     "execution_count": 38,
     "metadata": {},
     "output_type": "execute_result"
    }
   ],
   "source": [
    "next(s3)"
   ]
  },
  {
   "cell_type": "code",
   "execution_count": 39,
   "id": "aac720ca-b978-4018-91e8-d8acb164b4fe",
   "metadata": {},
   "outputs": [
    {
     "data": {
      "text/plain": [
       "4"
      ]
     },
     "execution_count": 39,
     "metadata": {},
     "output_type": "execute_result"
    }
   ],
   "source": [
    "next(s3)"
   ]
  },
  {
   "cell_type": "code",
   "execution_count": 40,
   "id": "6c27f89e-90b3-4ee1-ab91-82d203c88ee1",
   "metadata": {},
   "outputs": [
    {
     "data": {
      "text/plain": [
       "6"
      ]
     },
     "execution_count": 40,
     "metadata": {},
     "output_type": "execute_result"
    }
   ],
   "source": [
    "next(s3)"
   ]
  },
  {
   "cell_type": "code",
   "execution_count": 41,
   "id": "9e38e163-9b6c-4e92-8f01-68fbf863771d",
   "metadata": {},
   "outputs": [
    {
     "data": {
      "text/plain": [
       "8"
      ]
     },
     "execution_count": 41,
     "metadata": {},
     "output_type": "execute_result"
    }
   ],
   "source": [
    "next(s3)"
   ]
  },
  {
   "cell_type": "code",
   "execution_count": 42,
   "id": "ecf4a8b0-2afa-4635-b8cf-f93d1c9209aa",
   "metadata": {},
   "outputs": [
    {
     "data": {
      "text/plain": [
       "10"
      ]
     },
     "execution_count": 42,
     "metadata": {},
     "output_type": "execute_result"
    }
   ],
   "source": [
    "next(s3)"
   ]
  },
  {
   "cell_type": "code",
   "execution_count": 43,
   "id": "08b86581-bdbb-4c54-913b-95ae525df978",
   "metadata": {},
   "outputs": [],
   "source": [
    "##Q4;generator func is used by using yield"
   ]
  },
  {
   "cell_type": "code",
   "execution_count": 44,
   "id": "16e6debf-d7a5-47c2-819a-d1f2cc25c3c0",
   "metadata": {},
   "outputs": [],
   "source": [
    "## yield is used to access the data one by one"
   ]
  },
  {
   "cell_type": "code",
   "execution_count": 47,
   "id": "bad3e14f-4822-4b61-972f-66c6305c18e1",
   "metadata": {},
   "outputs": [],
   "source": [
    "def count_test(n):\n",
    "    count=1\n",
    "    while count<=n:\n",
    "        yield count\n",
    "        count=count+1"
   ]
  },
  {
   "cell_type": "code",
   "execution_count": 48,
   "id": "740fa8b1-4bd3-44ae-b419-0b236536b84a",
   "metadata": {},
   "outputs": [],
   "source": [
    "c=count_test(6)"
   ]
  },
  {
   "cell_type": "code",
   "execution_count": 49,
   "id": "931a28ff-716c-4e02-ad1e-948a4202d20a",
   "metadata": {},
   "outputs": [
    {
     "name": "stdout",
     "output_type": "stream",
     "text": [
      "1\n",
      "2\n",
      "3\n",
      "4\n",
      "5\n",
      "6\n"
     ]
    }
   ],
   "source": [
    "for i in c:\n",
    "    print(i)"
   ]
  },
  {
   "cell_type": "code",
   "execution_count": 51,
   "id": "c58751e8-2fdd-4ee4-b3cf-5d60aa23e386",
   "metadata": {},
   "outputs": [],
   "source": [
    "##q6\n",
    "def test5():\n",
    "    a,b=0,1\n",
    "    while True:\n",
    "        yield a\n",
    "        a,b=b,a+b"
   ]
  },
  {
   "cell_type": "code",
   "execution_count": 53,
   "id": "e6c7891a-1076-4a1e-86d2-d88ce940c1f4",
   "metadata": {},
   "outputs": [],
   "source": [
    "fib=test5()"
   ]
  },
  {
   "cell_type": "code",
   "execution_count": 55,
   "id": "d4d6b871-234e-40bf-96a3-1e5445fdd62e",
   "metadata": {},
   "outputs": [
    {
     "name": "stdout",
     "output_type": "stream",
     "text": [
      "0\n",
      "1\n",
      "1\n",
      "2\n",
      "3\n",
      "5\n",
      "8\n",
      "13\n",
      "21\n",
      "34\n"
     ]
    }
   ],
   "source": [
    "for i in range (10):\n",
    "    print(next(fib))"
   ]
  },
  {
   "cell_type": "code",
   "execution_count": 1,
   "id": "148bf8da-33ab-44ab-95b5-014360a6920e",
   "metadata": {},
   "outputs": [],
   "source": [
    "u1=\"pwskills\""
   ]
  },
  {
   "cell_type": "code",
   "execution_count": 3,
   "id": "7dbc1619-9ab0-4366-a2c7-517f21d403c5",
   "metadata": {},
   "outputs": [
    {
     "data": {
      "text/plain": [
       "['p', 'w', 's', 'k', 'i', 'l', 'l', 's']"
      ]
     },
     "execution_count": 3,
     "metadata": {},
     "output_type": "execute_result"
    }
   ],
   "source": [
    "list(map(lambda s:s.lower() ,u1))"
   ]
  },
  {
   "cell_type": "code",
   "execution_count": 78,
   "id": "664c6cc5-dddd-4457-b813-0c9cb65f37dc",
   "metadata": {},
   "outputs": [],
   "source": [
    "def test9():\n",
    "    l8=[]\n",
    "    for i in s:\n",
    "        l8.append(i)\n",
    "    return l8 "
   ]
  },
  {
   "cell_type": "raw",
   "id": "6cbd95bb-ea5e-4ba3-991d-410033ca814e",
   "metadata": {},
   "source": [
    "test9(s)"
   ]
  },
  {
   "cell_type": "code",
   "execution_count": 5,
   "id": "190034c6-b7c6-4fc9-862e-f4d455dffabf",
   "metadata": {},
   "outputs": [
    {
     "name": "stdin",
     "output_type": "stream",
     "text": [
      "enter the number 131\n"
     ]
    },
    {
     "name": "stdout",
     "output_type": "stream",
     "text": [
      "palindrome\n"
     ]
    }
   ],
   "source": [
    "##Q8\n",
    "i=int(input(\"enter the number\"))\n",
    "rev=0\n",
    "x=i\n",
    "while(x>0):\n",
    "    s=x%10\n",
    "    rev=rev*10+s\n",
    "    x=x//10\n",
    "x=i    \n",
    "if rev==x:\n",
    "    print(\"palindrome\")\n",
    "else:\n",
    "    print(\"not palindrome\")\n",
    "    "
   ]
  },
  {
   "cell_type": "code",
   "execution_count": 11,
   "id": "ccaec880-646c-4976-9b55-425a390f81f8",
   "metadata": {},
   "outputs": [],
   "source": [
    "##Q9\n",
    "def odd1(x,y):\n",
    "    f4=[]\n",
    "    for i in range(x,y):\n",
    "        f4.append(i)\n",
    "    return f4    \n",
    "        "
   ]
  },
  {
   "cell_type": "code",
   "execution_count": 12,
   "id": "10a455fe-228d-4504-83c7-68e868b3bf32",
   "metadata": {},
   "outputs": [],
   "source": [
    "a4=list(odd1(1,101))"
   ]
  },
  {
   "cell_type": "code",
   "execution_count": 13,
   "id": "055a54b3-9b26-4ca8-8b6b-9ccab209f74a",
   "metadata": {},
   "outputs": [
    {
     "data": {
      "text/plain": [
       "[1,\n",
       " 2,\n",
       " 3,\n",
       " 4,\n",
       " 5,\n",
       " 6,\n",
       " 7,\n",
       " 8,\n",
       " 9,\n",
       " 10,\n",
       " 11,\n",
       " 12,\n",
       " 13,\n",
       " 14,\n",
       " 15,\n",
       " 16,\n",
       " 17,\n",
       " 18,\n",
       " 19,\n",
       " 20,\n",
       " 21,\n",
       " 22,\n",
       " 23,\n",
       " 24,\n",
       " 25,\n",
       " 26,\n",
       " 27,\n",
       " 28,\n",
       " 29,\n",
       " 30,\n",
       " 31,\n",
       " 32,\n",
       " 33,\n",
       " 34,\n",
       " 35,\n",
       " 36,\n",
       " 37,\n",
       " 38,\n",
       " 39,\n",
       " 40,\n",
       " 41,\n",
       " 42,\n",
       " 43,\n",
       " 44,\n",
       " 45,\n",
       " 46,\n",
       " 47,\n",
       " 48,\n",
       " 49,\n",
       " 50,\n",
       " 51,\n",
       " 52,\n",
       " 53,\n",
       " 54,\n",
       " 55,\n",
       " 56,\n",
       " 57,\n",
       " 58,\n",
       " 59,\n",
       " 60,\n",
       " 61,\n",
       " 62,\n",
       " 63,\n",
       " 64,\n",
       " 65,\n",
       " 66,\n",
       " 67,\n",
       " 68,\n",
       " 69,\n",
       " 70,\n",
       " 71,\n",
       " 72,\n",
       " 73,\n",
       " 74,\n",
       " 75,\n",
       " 76,\n",
       " 77,\n",
       " 78,\n",
       " 79,\n",
       " 80,\n",
       " 81,\n",
       " 82,\n",
       " 83,\n",
       " 84,\n",
       " 85,\n",
       " 86,\n",
       " 87,\n",
       " 88,\n",
       " 89,\n",
       " 90,\n",
       " 91,\n",
       " 92,\n",
       " 93,\n",
       " 94,\n",
       " 95,\n",
       " 96,\n",
       " 97,\n",
       " 98,\n",
       " 99,\n",
       " 100]"
      ]
     },
     "execution_count": 13,
     "metadata": {},
     "output_type": "execute_result"
    }
   ],
   "source": [
    "a4"
   ]
  },
  {
   "cell_type": "code",
   "execution_count": 15,
   "id": "3a1a5724-2b61-4f52-9334-01ef4407ed13",
   "metadata": {},
   "outputs": [
    {
     "data": {
      "text/plain": [
       "[1,\n",
       " 3,\n",
       " 5,\n",
       " 7,\n",
       " 9,\n",
       " 11,\n",
       " 13,\n",
       " 15,\n",
       " 17,\n",
       " 19,\n",
       " 21,\n",
       " 23,\n",
       " 25,\n",
       " 27,\n",
       " 29,\n",
       " 31,\n",
       " 33,\n",
       " 35,\n",
       " 37,\n",
       " 39,\n",
       " 41,\n",
       " 43,\n",
       " 45,\n",
       " 47,\n",
       " 49,\n",
       " 51,\n",
       " 53,\n",
       " 55,\n",
       " 57,\n",
       " 59,\n",
       " 61,\n",
       " 63,\n",
       " 65,\n",
       " 67,\n",
       " 69,\n",
       " 71,\n",
       " 73,\n",
       " 75,\n",
       " 77,\n",
       " 79,\n",
       " 81,\n",
       " 83,\n",
       " 85,\n",
       " 87,\n",
       " 89,\n",
       " 91,\n",
       " 93,\n",
       " 95,\n",
       " 97,\n",
       " 99]"
      ]
     },
     "execution_count": 15,
     "metadata": {},
     "output_type": "execute_result"
    }
   ],
   "source": [
    "list(filter(lambda x :x%2!=0 ,a4))"
   ]
  },
  {
   "cell_type": "code",
   "execution_count": null,
   "id": "88972702-6490-40d2-be00-fe31b12b59e9",
   "metadata": {},
   "outputs": [],
   "source": [
    "list"
   ]
  }
 ],
 "metadata": {
  "kernelspec": {
   "display_name": "Python 3 (ipykernel)",
   "language": "python",
   "name": "python3"
  },
  "language_info": {
   "codemirror_mode": {
    "name": "ipython",
    "version": 3
   },
   "file_extension": ".py",
   "mimetype": "text/x-python",
   "name": "python",
   "nbconvert_exporter": "python",
   "pygments_lexer": "ipython3",
   "version": "3.10.8"
  }
 },
 "nbformat": 4,
 "nbformat_minor": 5
}
