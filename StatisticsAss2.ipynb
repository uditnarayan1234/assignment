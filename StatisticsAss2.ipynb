{
 "cells": [
  {
   "cell_type": "code",
   "execution_count": 1,
   "id": "583d76cc-8fbc-4168-8b65-76b55d0f48a7",
   "metadata": {},
   "outputs": [],
   "source": [
    "##Q1;What are the three measures of central tendency?\n",
    "## mean median and mode are the three measure of central tendency"
   ]
  },
  {
   "cell_type": "code",
   "execution_count": 2,
   "id": "d0e24494-f12b-41e1-9655-c30c1aadaaab",
   "metadata": {},
   "outputs": [],
   "source": [
    "##Q2. What is the difference between the mean, median, and mode? How are they used to measure the central tendency of a dataset?\n",
    "## mean is avg of the dataset and median also calculate whwn oulier present in dataset and mode no of freq of data element"
   ]
  },
  {
   "cell_type": "code",
   "execution_count": 3,
   "id": "55e3681c-3e7e-4706-a28a-623db1900e0c",
   "metadata": {},
   "outputs": [],
   "source": [
    "##Q3. Measure the three measures of central tendency for the given height data:\n",
    "data=[178,177,176,177,178.2,178,175,179,180,175,178.9,176.2,177,172.5,178,176.5]"
   ]
  },
  {
   "cell_type": "code",
   "execution_count": 4,
   "id": "49df79a3-31fd-4578-9a64-364769913476",
   "metadata": {},
   "outputs": [],
   "source": [
    "import numpy as np"
   ]
  },
  {
   "cell_type": "code",
   "execution_count": 5,
   "id": "a1d0d136-8963-4441-b900-4852c31c7588",
   "metadata": {},
   "outputs": [
    {
     "data": {
      "text/plain": [
       "177.01875"
      ]
     },
     "execution_count": 5,
     "metadata": {},
     "output_type": "execute_result"
    }
   ],
   "source": [
    "np.mean(data)"
   ]
  },
  {
   "cell_type": "code",
   "execution_count": 7,
   "id": "db733863-1bbd-4ab4-9949-d89e9d9233f8",
   "metadata": {},
   "outputs": [
    {
     "data": {
      "text/plain": [
       "177.0"
      ]
     },
     "execution_count": 7,
     "metadata": {},
     "output_type": "execute_result"
    }
   ],
   "source": [
    "np.median(data)"
   ]
  },
  {
   "cell_type": "code",
   "execution_count": 9,
   "id": "c29e219b-320a-4a82-bdc5-9300802c8347",
   "metadata": {},
   "outputs": [],
   "source": [
    "from scipy import stats"
   ]
  },
  {
   "cell_type": "code",
   "execution_count": 10,
   "id": "5dfdd524-0998-42cc-8ee5-416b54817ff5",
   "metadata": {},
   "outputs": [
    {
     "name": "stderr",
     "output_type": "stream",
     "text": [
      "/tmp/ipykernel_70/3267261142.py:1: FutureWarning: Unlike other reduction functions (e.g. `skew`, `kurtosis`), the default behavior of `mode` typically preserves the axis it acts along. In SciPy 1.11.0, this behavior will change: the default value of `keepdims` will become False, the `axis` over which the statistic is taken will be eliminated, and the value None will no longer be accepted. Set `keepdims` to True or False to avoid this warning.\n",
      "  stats.mode(data)\n"
     ]
    },
    {
     "data": {
      "text/plain": [
       "ModeResult(mode=array([177.]), count=array([3]))"
      ]
     },
     "execution_count": 10,
     "metadata": {},
     "output_type": "execute_result"
    }
   ],
   "source": [
    "stats.mode(data)"
   ]
  },
  {
   "cell_type": "code",
   "execution_count": 11,
   "id": "d3df2d7d-787b-4db9-933e-552460cf0952",
   "metadata": {},
   "outputs": [],
   "source": [
    "##Q4. Find the standard deviation for the given data:\n",
    "data1=[178,177,176,177,178.2,178,175,179,180,175,178.9,176.2,177,172.5,178,176.5]"
   ]
  },
  {
   "cell_type": "code",
   "execution_count": 12,
   "id": "67c6867b-a514-4e0f-978e-ce37c79dc0ba",
   "metadata": {},
   "outputs": [
    {
     "data": {
      "text/plain": [
       "1.7885814036548633"
      ]
     },
     "execution_count": 12,
     "metadata": {},
     "output_type": "execute_result"
    }
   ],
   "source": [
    "np.std(data1)"
   ]
  },
  {
   "cell_type": "code",
   "execution_count": 29,
   "id": "5f36a836-4115-4f0b-833c-f6b7f9c77623",
   "metadata": {},
   "outputs": [],
   "source": [
    "## Q5. How are measures of dispersion such as range, variance, and standard deviation used to describe the spread of a dataset? Provide an example.\n",
    "## it is simply the diff b/w the max value and the min value of data set\n"
   ]
  },
  {
   "cell_type": "code",
   "execution_count": 31,
   "id": "37d1810f-e231-4fb6-a30e-d5289cc20a7b",
   "metadata": {},
   "outputs": [],
   "source": [
    "list=[34,56,78,23,125,22]"
   ]
  },
  {
   "cell_type": "code",
   "execution_count": 32,
   "id": "9b071254-b71c-48b9-97fa-3f00445f0b79",
   "metadata": {},
   "outputs": [
    {
     "data": {
      "text/plain": [
       "36.45392830531284"
      ]
     },
     "execution_count": 32,
     "metadata": {},
     "output_type": "execute_result"
    }
   ],
   "source": [
    "np.std(list)"
   ]
  },
  {
   "cell_type": "code",
   "execution_count": 33,
   "id": "1cfe61fb-8ddc-4295-b108-71f81fa46d17",
   "metadata": {},
   "outputs": [
    {
     "data": {
      "text/plain": [
       "1328.8888888888887"
      ]
     },
     "execution_count": 33,
     "metadata": {},
     "output_type": "execute_result"
    }
   ],
   "source": [
    "np.var(list)"
   ]
  },
  {
   "cell_type": "code",
   "execution_count": 37,
   "id": "88d35a2b-e51d-4d82-863c-753807118ad8",
   "metadata": {},
   "outputs": [
    {
     "data": {
      "text/plain": [
       "<AxesSubplot: ylabel='Count'>"
      ]
     },
     "execution_count": 37,
     "metadata": {},
     "output_type": "execute_result"
    },
    {
     "data": {
      "image/png": "[encoded data removed]",
      "text/plain": [
       "<Figure size 640x480 with 1 Axes>"
      ]
     },
     "metadata": {},
     "output_type": "display_data"
    }
   ],
   "source": [
    "import seaborn as sns\n",
    "sns.histplot(list,kde=True)"
   ]
  },
  {
   "cell_type": "code",
   "execution_count": 13,
   "id": "967d7196-6e45-4cce-b916-27996b24c6d4",
   "metadata": {},
   "outputs": [],
   "source": [
    "##Q6. What is a Venn diagram?\n",
    "## venn diagram represents  the relation b/w two data set "
   ]
  },
  {
   "cell_type": "code",
   "execution_count": 14,
   "id": "321daa19-d7f1-4d5e-8f68-aee0b7a470d5",
   "metadata": {},
   "outputs": [],
   "source": [
    "##Q7. For the two given sets A = (2,3,4,5,6,7) & B = (0,2,6,8,10). Find:\n",
    "## (i)(i) A B=(2,6)   (ii) A ⋃ B =(0,2,4,5,6,3,7,8,10)\n"
   ]
  },
  {
   "cell_type": "code",
   "execution_count": 15,
   "id": "a035ffe1-fdce-494a-8f27-37aecdf3c4e2",
   "metadata": {},
   "outputs": [],
   "source": [
    "##Q9. If a data is right skewed then what will be the position of median with respect to mean?\n",
    "## median is greater than mean"
   ]
  },
  {
   "cell_type": "code",
   "execution_count": 16,
   "id": "88913b2b-28c9-404d-9103-75928bce1a32",
   "metadata": {},
   "outputs": [],
   "source": [
    "##Q10. Explain the difference between covariance and correlation.\n",
    "## covariance is tells that two variable changes is same way where corelation says that how to change in one variable affects a change in other"
   ]
  },
  {
   "cell_type": "code",
   "execution_count": 17,
   "id": "1a635d01-8258-46dc-9c17-ba8dc58494ad",
   "metadata": {},
   "outputs": [],
   "source": [
    "##Q11. What is the formula for calculating the sample mean?\n",
    "## calculated by total sum of data element divided by total number of data element\n",
    "x=[2,4,5,6,7]"
   ]
  },
  {
   "cell_type": "code",
   "execution_count": 18,
   "id": "36562fe5-f3d6-4095-b1db-0fccb825aa78",
   "metadata": {},
   "outputs": [
    {
     "data": {
      "text/plain": [
       "4.8"
      ]
     },
     "execution_count": 18,
     "metadata": {},
     "output_type": "execute_result"
    }
   ],
   "source": [
    "np.mean(x)"
   ]
  },
  {
   "cell_type": "code",
   "execution_count": 19,
   "id": "63f0963a-8962-46d2-894c-10a4be1e8574",
   "metadata": {},
   "outputs": [],
   "source": [
    "## Q12. For a normal distribution data what is the relationship between its measure of central tendency?\n",
    "## mean=median=mode"
   ]
  },
  {
   "cell_type": "code",
   "execution_count": 20,
   "id": "2ff75d2e-b285-4d54-98c7-67e0b23c20d1",
   "metadata": {},
   "outputs": [],
   "source": [
    "##Q13. How is covariance different from correlation?\n",
    "##covariance is tells that two variable changes is same way where corelation says that how to change in one variable affects a change in other"
   ]
  },
  {
   "cell_type": "code",
   "execution_count": 21,
   "id": "56a02197-8834-4114-89e4-0f533bb93d0e",
   "metadata": {},
   "outputs": [],
   "source": [
    "## Q14. How do outliers affect measures of central tendency and dispersion?\n",
    "## when oultliers is present the mean is much more diff in compare to previous case so in that case median also be calculated\n",
    "## ex;\n",
    "x=[1,2,3,4,5]"
   ]
  },
  {
   "cell_type": "code",
   "execution_count": 22,
   "id": "c942f9bc-c26d-4342-bdd5-6c1479894fef",
   "metadata": {},
   "outputs": [
    {
     "data": {
      "text/plain": [
       "3.0"
      ]
     },
     "execution_count": 22,
     "metadata": {},
     "output_type": "execute_result"
    }
   ],
   "source": [
    "np.mean(x)"
   ]
  },
  {
   "cell_type": "code",
   "execution_count": 24,
   "id": "f7db575a-9ee8-4f8f-8f29-beda4232bd4f",
   "metadata": {},
   "outputs": [],
   "source": [
    "x1=[1,2,3,4,5,200]"
   ]
  },
  {
   "cell_type": "code",
   "execution_count": 25,
   "id": "83b29bd3-0d6f-4a4e-ba1d-2051277f9161",
   "metadata": {},
   "outputs": [
    {
     "data": {
      "text/plain": [
       "35.833333333333336"
      ]
     },
     "execution_count": 25,
     "metadata": {},
     "output_type": "execute_result"
    }
   ],
   "source": [
    "np.mean(x1)"
   ]
  },
  {
   "cell_type": "code",
   "execution_count": 27,
   "id": "f15022d7-2908-43d1-bf33-30130bd59826",
   "metadata": {},
   "outputs": [],
   "source": [
    "## np.mean(x1) >>>>>> np.mean(x) so median also be calculated"
   ]
  },
  {
   "cell_type": "code",
   "execution_count": 28,
   "id": "52e6215c-9248-4e86-bf77-8f978939fe5d",
   "metadata": {},
   "outputs": [
    {
     "data": {
      "text/plain": [
       "3.5"
      ]
     },
     "execution_count": 28,
     "metadata": {},
     "output_type": "execute_result"
    }
   ],
   "source": [
    "np.median(x1)"
   ]
  },
  {
   "cell_type": "code",
   "execution_count": null,
   "id": "767d3d72-915e-4e88-806f-9e219041d801",
   "metadata": {},
   "outputs": [],
   "source": []
  }
 ],
 "metadata": {
  "kernelspec": {
   "display_name": "Python 3 (ipykernel)",
   "language": "python",
   "name": "python3"
  },
  "language_info": {
   "codemirror_mode": {
    "name": "ipython",
    "version": 3
   },
   "file_extension": ".py",
   "mimetype": "text/x-python",
   "name": "python",
   "nbconvert_exporter": "python",
   "pygments_lexer": "ipython3",
   "version": "3.10.8"
  }
 },
 "nbformat": 4,
 "nbformat_minor": 5
}
