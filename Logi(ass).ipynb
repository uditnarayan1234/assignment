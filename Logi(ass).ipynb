{
 "cells": [
  {
   "cell_type": "code",
   "execution_count": 1,
   "id": "87adda0a-6360-4dd4-9e49-2a401060165c",
   "metadata": {},
   "outputs": [],
   "source": [
    "## Q1. Explain the difference between linear regression and logistic regression models. Provide an example of\n",
    "##a scenario where logistic regression would be more appropriate.\n",
    "\n",
    "## when present of more outlires the best fit line changes due to outliers and the outcome is greater than one or less than 0\n",
    "##thAT CASE WE CANNOT USE THE LINEAR REGRESSION to overcome this problem we use logistic regression whopse output is b/w 0 to 1"
   ]
  },
  {
   "cell_type": "code",
   "execution_count": 2,
   "id": "c76e56f4-0a98-450e-96ec-5964031e06e9",
   "metadata": {},
   "outputs": [],
   "source": [
    "## Q2. What is the cost function used in logistic regression, and how is it optimized?\n",
    "\n",
    "## the cost fuction used in the logistic regression 1/n for i=1 to n (y(i)-h(x)i) whewr h=1/(1+e^z)\n",
    "## come to at global minima point"
   ]
  },
  {
   "cell_type": "code",
   "execution_count": 4,
   "id": "307e035f-a6fb-4598-886d-6e2c55b2885b",
   "metadata": {},
   "outputs": [],
   "source": [
    "## Q3. Explain the concept of regularization in logistic regression and how it helps prevent overfitting.\n",
    "\n",
    "##  In logistic regression cost function we just to add regularization \n",
    "## add l1 regularization for reduce the overfitting add l2 regularization for feature selection and add both also"
   ]
  },
  {
   "cell_type": "code",
   "execution_count": 5,
   "id": "93e1785b-d67e-45c3-98bc-a82d521c8190",
   "metadata": {},
   "outputs": [],
   "source": [
    "## Q4. What is the ROC curve, and how is it used to evaluate the performance of the logistic regression\n",
    "## model?\n",
    "\n",
    "## The ROC curve, which stands for Receiver Operating Characteristic curve, is a graphical tool used to evaluate the performance of a binary classification model, \n",
    "## The ROC curve is created by plotting the TPR against the FPR at various threshold settings  The threshold is a value beyond which a predicted probability outcome\n",
    "## you can get different results for TPR and FPR, and each pair of these results can be plotted to form the ROC curve."
   ]
  },
  {
   "cell_type": "code",
   "execution_count": 6,
   "id": "dbc7a7ae-a4bb-4388-b39b-963f90c0422f",
   "metadata": {},
   "outputs": [],
   "source": [
    "## Q5. What are some common techniques for feature selection in logistic regression? How do these\n",
    "##  techniques help improve the model's performance?\n",
    "\n",
    "## Here are some common techniques for feature for logistic regression\n",
    "\n",
    "#  Wrapper Methods:This is the based on the model performance\n",
    "# Regularization Techniques: lasso and the ridge regreessiom also used retain the most imp features"
   ]
  },
  {
   "cell_type": "code",
   "execution_count": null,
   "id": "85d7c9c1-e5bc-4d31-9b77-deef41e00362",
   "metadata": {},
   "outputs": [],
   "source": [
    "## Q6. How can you handle imbalanced datasets in logistic regression? What are some strategies for dealing\n",
    "##with class imbalance?\n",
    "\n",
    "## handling imbalanced datasets in logistic regression is crucial for building a model that accurately predicts outcomes for all classes.\n",
    "# Oversampling the Minority Class: Increasing the number of instances in the minority class by duplicating them or by using techniques like SMOTE\n",
    "# "
   ]
  }
 ],
 "metadata": {
  "kernelspec": {
   "display_name": "Python 3 (ipykernel)",
   "language": "python",
   "name": "python3"
  },
  "language_info": {
   "codemirror_mode": {
    "name": "ipython",
    "version": 3
   },
   "file_extension": ".py",
   "mimetype": "text/x-python",
   "name": "python",
   "nbconvert_exporter": "python",
   "pygments_lexer": "ipython3",
   "version": "3.10.8"
  }
 },
 "nbformat": 4,
 "nbformat_minor": 5
}
