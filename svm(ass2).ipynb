{
 "cells": [
  {
   "cell_type": "code",
   "execution_count": 1,
   "id": "91cf2620-3716-4900-bac4-3ba649a0c4cd",
   "metadata": {},
   "outputs": [],
   "source": [
    "##  Q1. What is the relationship between polynomial functions and kernel functions in machine learning\n",
    "## algorithms?\n",
    "\n",
    "## the relationship between polynomial functions and kernel functions is encapsulated in the concept of the polynomial kernel.\n",
    "## A polynomial kernel is a type of kernel function that represents the similarity of vectors (training samples) in a feature\n",
    "## The polynomial kernel function takes the form:\n",
    "## K(x,y)=(x⋅y+c)d\n",
    "## Here:\n",
    "\n",
    "##( x ) and ( y ) are vectors in the input space, i.e., data points.\n",
    "##( c ) is a constant term that allows adjusting the influence of higher-order versus lower-order terms in the polynomial.\n",
    "#( d ) is the degree of the polynomial."
   ]
  },
  {
   "cell_type": "code",
   "execution_count": 6,
   "id": "e205e203-b160-479c-a9ed-95cd9e45408f",
   "metadata": {},
   "outputs": [
    {
     "data": {
      "text/html": [
       "<style>#sk-container-id-1 {color: black;background-color: white;}#sk-container-id-1 pre{padding: 0;}#sk-container-id-1 div.sk-toggleable {background-color: white;}#sk-container-id-1 label.sk-toggleable__label {cursor: pointer;display: block;width: 100%;margin-bottom: 0;padding: 0.3em;box-sizing: border-box;text-align: center;}#sk-container-id-1 label.sk-toggleable__label-arrow:before {content: \"▸\";float: left;margin-right: 0.25em;color: #696969;}#sk-container-id-1 label.sk-toggleable__label-arrow:hover:before {color: black;}#sk-container-id-1 div.sk-estimator:hover label.sk-toggleable__label-arrow:before {color: black;}#sk-container-id-1 div.sk-toggleable__content {max-height: 0;max-width: 0;overflow: hidden;text-align: left;background-color: #f0f8ff;}#sk-container-id-1 div.sk-toggleable__content pre {margin: 0.2em;color: black;border-radius: 0.25em;background-color: #f0f8ff;}#sk-container-id-1 input.sk-toggleable__control:checked~div.sk-toggleable__content {max-height: 200px;max-width: 100%;overflow: auto;}#sk-container-id-1 input.sk-toggleable__control:checked~label.sk-toggleable__label-arrow:before {content: \"▾\";}#sk-container-id-1 div.sk-estimator input.sk-toggleable__control:checked~label.sk-toggleable__label {background-color: #d4ebff;}#sk-container-id-1 div.sk-label input.sk-toggleable__control:checked~label.sk-toggleable__label {background-color: #d4ebff;}#sk-container-id-1 input.sk-hidden--visually {border: 0;clip: rect(1px 1px 1px 1px);clip: rect(1px, 1px, 1px, 1px);height: 1px;margin: -1px;overflow: hidden;padding: 0;position: absolute;width: 1px;}#sk-container-id-1 div.sk-estimator {font-family: monospace;background-color: #f0f8ff;border: 1px dotted black;border-radius: 0.25em;box-sizing: border-box;margin-bottom: 0.5em;}#sk-container-id-1 div.sk-estimator:hover {background-color: #d4ebff;}#sk-container-id-1 div.sk-parallel-item::after {content: \"\";width: 100%;border-bottom: 1px solid gray;flex-grow: 1;}#sk-container-id-1 div.sk-label:hover label.sk-toggleable__label {background-color: #d4ebff;}#sk-container-id-1 div.sk-serial::before {content: \"\";position: absolute;border-left: 1px solid gray;box-sizing: border-box;top: 0;bottom: 0;left: 50%;z-index: 0;}#sk-container-id-1 div.sk-serial {display: flex;flex-direction: column;align-items: center;background-color: white;padding-right: 0.2em;padding-left: 0.2em;position: relative;}#sk-container-id-1 div.sk-item {position: relative;z-index: 1;}#sk-container-id-1 div.sk-parallel {display: flex;align-items: stretch;justify-content: center;background-color: white;position: relative;}#sk-container-id-1 div.sk-item::before, #sk-container-id-1 div.sk-parallel-item::before {content: \"\";position: absolute;border-left: 1px solid gray;box-sizing: border-box;top: 0;bottom: 0;left: 50%;z-index: -1;}#sk-container-id-1 div.sk-parallel-item {display: flex;flex-direction: column;z-index: 1;position: relative;background-color: white;}#sk-container-id-1 div.sk-parallel-item:first-child::after {align-self: flex-end;width: 50%;}#sk-container-id-1 div.sk-parallel-item:last-child::after {align-self: flex-start;width: 50%;}#sk-container-id-1 div.sk-parallel-item:only-child::after {width: 0;}#sk-container-id-1 div.sk-dashed-wrapped {border: 1px dashed gray;margin: 0 0.4em 0.5em 0.4em;box-sizing: border-box;padding-bottom: 0.4em;background-color: white;}#sk-container-id-1 div.sk-label label {font-family: monospace;font-weight: bold;display: inline-block;line-height: 1.2em;}#sk-container-id-1 div.sk-label-container {text-align: center;}#sk-container-id-1 div.sk-container {/* jupyter's `normalize.less` sets `[hidden] { display: none; }` but bootstrap.min.css set `[hidden] { display: none !important; }` so we also need the `!important` here to be able to override the default hidden behavior on the sphinx rendered scikit-learn.org. See: https://github.com/scikit-learn/scikit-learn/issues/21755 */display: inline-block !important;position: relative;}#sk-container-id-1 div.sk-text-repr-fallback {display: none;}</style><div id=\"sk-container-id-1\" class=\"sk-top-container\"><div class=\"sk-text-repr-fallback\"><pre>SVC(kernel=&#x27;poly&#x27;)</pre><b>In a Jupyter environment, please rerun this cell to show the HTML representation or trust the notebook. <br />On GitHub, the HTML representation is unable to render, please try loading this page with nbviewer.org.</b></div><div class=\"sk-container\" hidden><div class=\"sk-item\"><div class=\"sk-estimator sk-toggleable\"><input class=\"sk-toggleable__control sk-hidden--visually\" id=\"sk-estimator-id-1\" type=\"checkbox\" checked><label for=\"sk-estimator-id-1\" class=\"sk-toggleable__label sk-toggleable__label-arrow\">SVC</label><div class=\"sk-toggleable__content\"><pre>SVC(kernel=&#x27;poly&#x27;)</pre></div></div></div></div></div>"
      ],
      "text/plain": [
       "SVC(kernel='poly')"
      ]
     },
     "execution_count": 6,
     "metadata": {},
     "output_type": "execute_result"
    }
   ],
   "source": [
    "## Q2. How can we implement an SVM with a polynomial kernel in Python using Scikit-learn?\n",
    "\n",
    "from sklearn import svm\n",
    "from sklearn.datasets import make_classification\n",
    "from sklearn.model_selection import train_test_split\n",
    "from sklearn.metrics import classification_report\n",
    "\n",
    "x, y = make_classification(n_samples=100, n_features=4, random_state=42)\n",
    "x_train, x_test, y_train, y_test = train_test_split(x, y, test_size=0.2, random_state=42)\n",
    "\n",
    "clf = svm.SVC(kernel='poly', degree=3, C=1.0)\n",
    "clf.fit(x_train,y_train)"
   ]
  },
  {
   "cell_type": "code",
   "execution_count": 9,
   "id": "f1adf31e-02a2-4dd3-b88a-f81f61b19888",
   "metadata": {},
   "outputs": [],
   "source": [
    "y_pred=clf.predict(x_test)"
   ]
  },
  {
   "cell_type": "code",
   "execution_count": 10,
   "id": "92442d81-eb45-4b5a-bdc7-95ef627e4dfa",
   "metadata": {},
   "outputs": [
    {
     "name": "stdout",
     "output_type": "stream",
     "text": [
      "              precision    recall  f1-score   support\n",
      "\n",
      "           0       0.62      1.00      0.77         5\n",
      "           1       1.00      0.80      0.89        15\n",
      "\n",
      "    accuracy                           0.85        20\n",
      "   macro avg       0.81      0.90      0.83        20\n",
      "weighted avg       0.91      0.85      0.86        20\n",
      "\n"
     ]
    }
   ],
   "source": [
    "print(classification_report(y_pred,y_test))"
   ]
  },
  {
   "cell_type": "code",
   "execution_count": 11,
   "id": "79156546-3cda-44b3-92cc-9ac556bdeb70",
   "metadata": {},
   "outputs": [],
   "source": [
    "## Q5. Assignment:\n",
    "from sklearn.datasets import load_breast_cancer\n",
    "cancer=load_breast_cancer()\n",
    "    \n",
    "    "
   ]
  },
  {
   "cell_type": "code",
   "execution_count": 12,
   "id": "1b647c8c-c57f-4bbb-a3ed-e845bcf6c77b",
   "metadata": {},
   "outputs": [
    {
     "name": "stdout",
     "output_type": "stream",
     "text": [
      ".. _breast_cancer_dataset:\n",
      "\n",
      "Breast cancer wisconsin (diagnostic) dataset\n",
      "--------------------------------------------\n",
      "\n",
      "**Data Set Characteristics:**\n",
      "\n",
      "    :Number of Instances: 569\n",
      "\n",
      "    :Number of Attributes: 30 numeric, predictive attributes and the class\n",
      "\n",
      "    :Attribute Information:\n",
      "        - radius (mean of distances from center to points on the perimeter)\n",
      "        - texture (standard deviation of gray-scale values)\n",
      "        - perimeter\n",
      "        - area\n",
      "        - smoothness (local variation in radius lengths)\n",
      "        - compactness (perimeter^2 / area - 1.0)\n",
      "        - concavity (severity of concave portions of the contour)\n",
      "        - concave points (number of concave portions of the contour)\n",
      "        - symmetry\n",
      "        - fractal dimension (\"coastline approximation\" - 1)\n",
      "\n",
      "        The mean, standard error, and \"worst\" or largest (mean of the three\n",
      "        worst/largest values) of these features were computed for each image,\n",
      "        resulting in 30 features.  For instance, field 0 is Mean Radius, field\n",
      "        10 is Radius SE, field 20 is Worst Radius.\n",
      "\n",
      "        - class:\n",
      "                - WDBC-Malignant\n",
      "                - WDBC-Benign\n",
      "\n",
      "    :Summary Statistics:\n",
      "\n",
      "    ===================================== ====== ======\n",
      "                                           Min    Max\n",
      "    ===================================== ====== ======\n",
      "    radius (mean):                        6.981  28.11\n",
      "    texture (mean):                       9.71   39.28\n",
      "    perimeter (mean):                     43.79  188.5\n",
      "    area (mean):                          143.5  2501.0\n",
      "    smoothness (mean):                    0.053  0.163\n",
      "    compactness (mean):                   0.019  0.345\n",
      "    concavity (mean):                     0.0    0.427\n",
      "    concave points (mean):                0.0    0.201\n",
      "    symmetry (mean):                      0.106  0.304\n",
      "    fractal dimension (mean):             0.05   0.097\n",
      "    radius (standard error):              0.112  2.873\n",
      "    texture (standard error):             0.36   4.885\n",
      "    perimeter (standard error):           0.757  21.98\n",
      "    area (standard error):                6.802  542.2\n",
      "    smoothness (standard error):          0.002  0.031\n",
      "    compactness (standard error):         0.002  0.135\n",
      "    concavity (standard error):           0.0    0.396\n",
      "    concave points (standard error):      0.0    0.053\n",
      "    symmetry (standard error):            0.008  0.079\n",
      "    fractal dimension (standard error):   0.001  0.03\n",
      "    radius (worst):                       7.93   36.04\n",
      "    texture (worst):                      12.02  49.54\n",
      "    perimeter (worst):                    50.41  251.2\n",
      "    area (worst):                         185.2  4254.0\n",
      "    smoothness (worst):                   0.071  0.223\n",
      "    compactness (worst):                  0.027  1.058\n",
      "    concavity (worst):                    0.0    1.252\n",
      "    concave points (worst):               0.0    0.291\n",
      "    symmetry (worst):                     0.156  0.664\n",
      "    fractal dimension (worst):            0.055  0.208\n",
      "    ===================================== ====== ======\n",
      "\n",
      "    :Missing Attribute Values: None\n",
      "\n",
      "    :Class Distribution: 212 - Malignant, 357 - Benign\n",
      "\n",
      "    :Creator:  Dr. William H. Wolberg, W. Nick Street, Olvi L. Mangasarian\n",
      "\n",
      "    :Donor: Nick Street\n",
      "\n",
      "    :Date: November, 1995\n",
      "\n",
      "This is a copy of UCI ML Breast Cancer Wisconsin (Diagnostic) datasets.\n",
      "https://goo.gl/U2Uwz2\n",
      "\n",
      "Features are computed from a digitized image of a fine needle\n",
      "aspirate (FNA) of a breast mass.  They describe\n",
      "characteristics of the cell nuclei present in the image.\n",
      "\n",
      "Separating plane described above was obtained using\n",
      "Multisurface Method-Tree (MSM-T) [K. P. Bennett, \"Decision Tree\n",
      "Construction Via Linear Programming.\" Proceedings of the 4th\n",
      "Midwest Artificial Intelligence and Cognitive Science Society,\n",
      "pp. 97-101, 1992], a classification method which uses linear\n",
      "programming to construct a decision tree.  Relevant features\n",
      "were selected using an exhaustive search in the space of 1-4\n",
      "features and 1-3 separating planes.\n",
      "\n",
      "The actual linear program used to obtain the separating plane\n",
      "in the 3-dimensional space is that described in:\n",
      "[K. P. Bennett and O. L. Mangasarian: \"Robust Linear\n",
      "Programming Discrimination of Two Linearly Inseparable Sets\",\n",
      "Optimization Methods and Software 1, 1992, 23-34].\n",
      "\n",
      "This database is also available through the UW CS ftp server:\n",
      "\n",
      "ftp ftp.cs.wisc.edu\n",
      "cd math-prog/cpo-dataset/machine-learn/WDBC/\n",
      "\n",
      ".. topic:: References\n",
      "\n",
      "   - W.N. Street, W.H. Wolberg and O.L. Mangasarian. Nuclear feature extraction \n",
      "     for breast tumor diagnosis. IS&T/SPIE 1993 International Symposium on \n",
      "     Electronic Imaging: Science and Technology, volume 1905, pages 861-870,\n",
      "     San Jose, CA, 1993.\n",
      "   - O.L. Mangasarian, W.N. Street and W.H. Wolberg. Breast cancer diagnosis and \n",
      "     prognosis via linear programming. Operations Research, 43(4), pages 570-577, \n",
      "     July-August 1995.\n",
      "   - W.H. Wolberg, W.N. Street, and O.L. Mangasarian. Machine learning techniques\n",
      "     to diagnose breast cancer from fine-needle aspirates. Cancer Letters 77 (1994) \n",
      "     163-171.\n"
     ]
    }
   ],
   "source": [
    "print(cancer.DESCR)"
   ]
  },
  {
   "cell_type": "code",
   "execution_count": 13,
   "id": "a98d7d39-5745-451f-86b6-8bae68bec143",
   "metadata": {},
   "outputs": [],
   "source": [
    "import pandas as pd\n",
    "x=pd.DataFrame(cancer.data,columns=cancer.feature_names)\n",
    "y=cancer.target"
   ]
  },
  {
   "cell_type": "raw",
   "id": "e2213530-83b0-4cab-9eb6-50dc0cc805b3",
   "metadata": {},
   "source": [
    "import numpy as np\n",
    "from sklearn.model_selection import train_test_split\n",
    "x_train, x_test, y_train, y_test = train_test_split(x, y, test_size=0.33, random_state=42)"
   ]
  },
  {
   "cell_type": "code",
   "execution_count": 15,
   "id": "d554d468-9f17-46e1-b0a5-128416e30a89",
   "metadata": {},
   "outputs": [],
   "source": [
    "from sklearn.svm import SVC\n",
    "svc=SVC(kernel='linear')"
   ]
  },
  {
   "cell_type": "code",
   "execution_count": 16,
   "id": "5c68e979-b491-4103-aaf6-1a70b665cbb1",
   "metadata": {},
   "outputs": [
    {
     "data": {
      "text/html": [
       "<style>#sk-container-id-2 {color: black;background-color: white;}#sk-container-id-2 pre{padding: 0;}#sk-container-id-2 div.sk-toggleable {background-color: white;}#sk-container-id-2 label.sk-toggleable__label {cursor: pointer;display: block;width: 100%;margin-bottom: 0;padding: 0.3em;box-sizing: border-box;text-align: center;}#sk-container-id-2 label.sk-toggleable__label-arrow:before {content: \"▸\";float: left;margin-right: 0.25em;color: #696969;}#sk-container-id-2 label.sk-toggleable__label-arrow:hover:before {color: black;}#sk-container-id-2 div.sk-estimator:hover label.sk-toggleable__label-arrow:before {color: black;}#sk-container-id-2 div.sk-toggleable__content {max-height: 0;max-width: 0;overflow: hidden;text-align: left;background-color: #f0f8ff;}#sk-container-id-2 div.sk-toggleable__content pre {margin: 0.2em;color: black;border-radius: 0.25em;background-color: #f0f8ff;}#sk-container-id-2 input.sk-toggleable__control:checked~div.sk-toggleable__content {max-height: 200px;max-width: 100%;overflow: auto;}#sk-container-id-2 input.sk-toggleable__control:checked~label.sk-toggleable__label-arrow:before {content: \"▾\";}#sk-container-id-2 div.sk-estimator input.sk-toggleable__control:checked~label.sk-toggleable__label {background-color: #d4ebff;}#sk-container-id-2 div.sk-label input.sk-toggleable__control:checked~label.sk-toggleable__label {background-color: #d4ebff;}#sk-container-id-2 input.sk-hidden--visually {border: 0;clip: rect(1px 1px 1px 1px);clip: rect(1px, 1px, 1px, 1px);height: 1px;margin: -1px;overflow: hidden;padding: 0;position: absolute;width: 1px;}#sk-container-id-2 div.sk-estimator {font-family: monospace;background-color: #f0f8ff;border: 1px dotted black;border-radius: 0.25em;box-sizing: border-box;margin-bottom: 0.5em;}#sk-container-id-2 div.sk-estimator:hover {background-color: #d4ebff;}#sk-container-id-2 div.sk-parallel-item::after {content: \"\";width: 100%;border-bottom: 1px solid gray;flex-grow: 1;}#sk-container-id-2 div.sk-label:hover label.sk-toggleable__label {background-color: #d4ebff;}#sk-container-id-2 div.sk-serial::before {content: \"\";position: absolute;border-left: 1px solid gray;box-sizing: border-box;top: 0;bottom: 0;left: 50%;z-index: 0;}#sk-container-id-2 div.sk-serial {display: flex;flex-direction: column;align-items: center;background-color: white;padding-right: 0.2em;padding-left: 0.2em;position: relative;}#sk-container-id-2 div.sk-item {position: relative;z-index: 1;}#sk-container-id-2 div.sk-parallel {display: flex;align-items: stretch;justify-content: center;background-color: white;position: relative;}#sk-container-id-2 div.sk-item::before, #sk-container-id-2 div.sk-parallel-item::before {content: \"\";position: absolute;border-left: 1px solid gray;box-sizing: border-box;top: 0;bottom: 0;left: 50%;z-index: -1;}#sk-container-id-2 div.sk-parallel-item {display: flex;flex-direction: column;z-index: 1;position: relative;background-color: white;}#sk-container-id-2 div.sk-parallel-item:first-child::after {align-self: flex-end;width: 50%;}#sk-container-id-2 div.sk-parallel-item:last-child::after {align-self: flex-start;width: 50%;}#sk-container-id-2 div.sk-parallel-item:only-child::after {width: 0;}#sk-container-id-2 div.sk-dashed-wrapped {border: 1px dashed gray;margin: 0 0.4em 0.5em 0.4em;box-sizing: border-box;padding-bottom: 0.4em;background-color: white;}#sk-container-id-2 div.sk-label label {font-family: monospace;font-weight: bold;display: inline-block;line-height: 1.2em;}#sk-container-id-2 div.sk-label-container {text-align: center;}#sk-container-id-2 div.sk-container {/* jupyter's `normalize.less` sets `[hidden] { display: none; }` but bootstrap.min.css set `[hidden] { display: none !important; }` so we also need the `!important` here to be able to override the default hidden behavior on the sphinx rendered scikit-learn.org. See: https://github.com/scikit-learn/scikit-learn/issues/21755 */display: inline-block !important;position: relative;}#sk-container-id-2 div.sk-text-repr-fallback {display: none;}</style><div id=\"sk-container-id-2\" class=\"sk-top-container\"><div class=\"sk-text-repr-fallback\"><pre>SVC(kernel=&#x27;linear&#x27;)</pre><b>In a Jupyter environment, please rerun this cell to show the HTML representation or trust the notebook. <br />On GitHub, the HTML representation is unable to render, please try loading this page with nbviewer.org.</b></div><div class=\"sk-container\" hidden><div class=\"sk-item\"><div class=\"sk-estimator sk-toggleable\"><input class=\"sk-toggleable__control sk-hidden--visually\" id=\"sk-estimator-id-2\" type=\"checkbox\" checked><label for=\"sk-estimator-id-2\" class=\"sk-toggleable__label sk-toggleable__label-arrow\">SVC</label><div class=\"sk-toggleable__content\"><pre>SVC(kernel=&#x27;linear&#x27;)</pre></div></div></div></div></div>"
      ],
      "text/plain": [
       "SVC(kernel='linear')"
      ]
     },
     "execution_count": 16,
     "metadata": {},
     "output_type": "execute_result"
    }
   ],
   "source": [
    "svc.fit(x_train,y_train)"
   ]
  },
  {
   "cell_type": "code",
   "execution_count": 17,
   "id": "86ed816d-9f8f-4e59-be77-6740ebcc0904",
   "metadata": {},
   "outputs": [
    {
     "data": {
      "text/plain": [
       "array([[ 1.37054852e+00,  2.59247874e-01, -2.77551335e-01,\n",
       "         1.43482304e-03, -2.03866416e-01, -2.78008596e-01,\n",
       "        -6.50956924e-01, -3.66965917e-01, -3.58274378e-01,\n",
       "        -5.02742663e-02, -1.60308055e-01,  1.86945957e+00,\n",
       "         5.54507782e-01, -1.26006116e-01, -2.67583590e-02,\n",
       "         3.95984593e-02, -1.09584158e-02, -3.23554941e-02,\n",
       "        -6.92577492e-02,  7.58005476e-03, -2.83148462e-01,\n",
       "        -4.39851275e-01,  3.30823444e-03,  4.04421359e-03,\n",
       "        -4.08424934e-01, -8.74892874e-01, -1.60355839e+00,\n",
       "        -5.95155045e-01, -1.32923064e+00, -1.47466887e-01]])"
      ]
     },
     "execution_count": 17,
     "metadata": {},
     "output_type": "execute_result"
    }
   ],
   "source": [
    "svc.coef_"
   ]
  },
  {
   "cell_type": "code",
   "execution_count": 18,
   "id": "d328bb5a-7641-4c27-aade-81695ff83466",
   "metadata": {},
   "outputs": [],
   "source": [
    "y_pred=svc.predict(x_test)"
   ]
  },
  {
   "cell_type": "code",
   "execution_count": 19,
   "id": "2367ba23-fd6f-4b68-899f-7c391a2dc5c8",
   "metadata": {},
   "outputs": [
    {
     "data": {
      "text/plain": [
       "array([1, 0, 0, 1, 1, 0, 0, 0, 1, 1, 1, 0, 1, 0, 1, 0, 1, 1, 1, 0, 1, 1,\n",
       "       0, 1, 1, 1, 1, 1, 1, 0, 1, 1, 1, 1, 1, 1, 0, 1, 0, 1, 1, 0, 1, 1,\n",
       "       1, 1, 1, 1, 1, 1, 0, 0, 1, 1, 1, 1, 1, 0, 1, 1, 1, 0, 0, 1, 1, 1,\n",
       "       0, 0, 1, 1, 0, 0, 1, 0, 1, 1, 1, 1, 1, 1, 0, 1, 1, 0, 0, 0, 0, 0,\n",
       "       1, 1, 1, 1, 1, 1, 1, 1, 0, 0, 1, 0, 0, 1, 0, 0, 1, 1, 1, 0, 1, 1,\n",
       "       0, 1, 0, 0, 1, 0, 1, 1, 1, 0, 0, 1, 1, 0, 1, 0, 0, 1, 1, 0, 0, 0,\n",
       "       1, 1, 1, 0, 1, 1, 1, 0, 1, 0, 1, 1, 0, 1, 0, 0, 0, 1, 0, 1, 1, 1,\n",
       "       1, 0, 0, 1, 1, 1, 1, 1, 1, 1, 0, 1, 1, 1, 1, 0, 1, 1, 1, 1, 1, 1,\n",
       "       0, 1, 1, 1, 1, 0, 1, 0, 0, 0, 0, 1])"
      ]
     },
     "execution_count": 19,
     "metadata": {},
     "output_type": "execute_result"
    }
   ],
   "source": [
    "y_pred"
   ]
  },
  {
   "cell_type": "code",
   "execution_count": 21,
   "id": "a7257da5-d197-407e-bd7f-6c2f36443555",
   "metadata": {},
   "outputs": [],
   "source": [
    "from sklearn.metrics import classification_report,confusion_matrix,accuracy_score"
   ]
  },
  {
   "cell_type": "code",
   "execution_count": 22,
   "id": "e35011fb-fad6-49d8-9618-5fb1bb8b6b83",
   "metadata": {},
   "outputs": [
    {
     "name": "stdout",
     "output_type": "stream",
     "text": [
      "              precision    recall  f1-score   support\n",
      "\n",
      "           0       0.94      0.94      0.94        67\n",
      "           1       0.97      0.97      0.97       121\n",
      "\n",
      "    accuracy                           0.96       188\n",
      "   macro avg       0.95      0.95      0.95       188\n",
      "weighted avg       0.96      0.96      0.96       188\n",
      "\n",
      "[[ 63   4]\n",
      " [  4 117]]\n",
      "0.9574468085106383\n"
     ]
    }
   ],
   "source": [
    "print(classification_report(y_pred,y_test))\n",
    "print(confusion_matrix(y_pred,y_test))\n",
    "print(accuracy_score(y_pred,y_test))"
   ]
  },
  {
   "cell_type": "code",
   "execution_count": 36,
   "id": "67c8e2d7-e405-43f3-857b-3cf4360bc416",
   "metadata": {},
   "outputs": [],
   "source": [
    "paam_grid={\n",
    "    'C':[0.1,1,10,100,1000],\n",
    "    'gamma':[1,0.1,0.01,0.001,0.0001],\n",
    "    'kernel':['linear']}"
   ]
  },
  {
   "cell_type": "code",
   "execution_count": 39,
   "id": "488cac9f-e6cb-4ebf-a4d1-641ce1ce9d62",
   "metadata": {},
   "outputs": [],
   "source": [
    "from sklearn.model_selection import GridSearchCV\n",
    "grid= GridSearchCV(SVC(),param_grid=paam_grid,refit=True,cv=5,verbose=3)"
   ]
  },
  {
   "cell_type": "code",
   "execution_count": 42,
   "id": "eab03914-25c7-408d-844e-9bf17b5dd699",
   "metadata": {},
   "outputs": [
    {
     "name": "stdout",
     "output_type": "stream",
     "text": [
      "Fitting 5 folds for each of 25 candidates, totalling 125 fits\n",
      "[CV 1/5] END .....C=0.1, gamma=1, kernel=linear;, score=0.961 total time=   0.1s\n",
      "[CV 2/5] END .....C=0.1, gamma=1, kernel=linear;, score=0.934 total time=   0.1s\n",
      "[CV 3/5] END .....C=0.1, gamma=1, kernel=linear;, score=0.974 total time=   0.4s\n",
      "[CV 4/5] END .....C=0.1, gamma=1, kernel=linear;, score=0.934 total time=   0.1s\n",
      "[CV 5/5] END .....C=0.1, gamma=1, kernel=linear;, score=0.895 total time=   0.1s\n",
      "[CV 1/5] END ...C=0.1, gamma=0.1, kernel=linear;, score=0.961 total time=   0.1s\n",
      "[CV 2/5] END ...C=0.1, gamma=0.1, kernel=linear;, score=0.934 total time=   0.1s\n",
      "[CV 3/5] END ...C=0.1, gamma=0.1, kernel=linear;, score=0.974 total time=   0.4s\n",
      "[CV 4/5] END ...C=0.1, gamma=0.1, kernel=linear;, score=0.934 total time=   0.1s\n",
      "[CV 5/5] END ...C=0.1, gamma=0.1, kernel=linear;, score=0.895 total time=   0.1s\n",
      "[CV 1/5] END ..C=0.1, gamma=0.01, kernel=linear;, score=0.961 total time=   0.1s\n",
      "[CV 2/5] END ..C=0.1, gamma=0.01, kernel=linear;, score=0.934 total time=   0.1s\n",
      "[CV 3/5] END ..C=0.1, gamma=0.01, kernel=linear;, score=0.974 total time=   0.4s\n",
      "[CV 4/5] END ..C=0.1, gamma=0.01, kernel=linear;, score=0.934 total time=   0.1s\n",
      "[CV 5/5] END ..C=0.1, gamma=0.01, kernel=linear;, score=0.895 total time=   0.1s\n",
      "[CV 1/5] END .C=0.1, gamma=0.001, kernel=linear;, score=0.961 total time=   0.1s\n",
      "[CV 2/5] END .C=0.1, gamma=0.001, kernel=linear;, score=0.934 total time=   0.1s\n",
      "[CV 3/5] END .C=0.1, gamma=0.001, kernel=linear;, score=0.974 total time=   0.4s\n",
      "[CV 4/5] END .C=0.1, gamma=0.001, kernel=linear;, score=0.934 total time=   0.1s\n",
      "[CV 5/5] END .C=0.1, gamma=0.001, kernel=linear;, score=0.895 total time=   0.1s\n",
      "[CV 1/5] END C=0.1, gamma=0.0001, kernel=linear;, score=0.961 total time=   0.1s\n",
      "[CV 2/5] END C=0.1, gamma=0.0001, kernel=linear;, score=0.934 total time=   0.1s\n",
      "[CV 3/5] END C=0.1, gamma=0.0001, kernel=linear;, score=0.974 total time=   0.4s\n",
      "[CV 4/5] END C=0.1, gamma=0.0001, kernel=linear;, score=0.934 total time=   0.1s\n",
      "[CV 5/5] END C=0.1, gamma=0.0001, kernel=linear;, score=0.895 total time=   0.1s\n",
      "[CV 1/5] END .......C=1, gamma=1, kernel=linear;, score=0.961 total time=   1.6s\n",
      "[CV 2/5] END .......C=1, gamma=1, kernel=linear;, score=0.934 total time=   0.5s\n",
      "[CV 3/5] END .......C=1, gamma=1, kernel=linear;, score=0.961 total time=   1.5s\n",
      "[CV 4/5] END .......C=1, gamma=1, kernel=linear;, score=0.974 total time=   2.0s\n",
      "[CV 5/5] END .......C=1, gamma=1, kernel=linear;, score=0.908 total time=   1.4s\n",
      "[CV 1/5] END .....C=1, gamma=0.1, kernel=linear;, score=0.961 total time=   1.6s\n",
      "[CV 2/5] END .....C=1, gamma=0.1, kernel=linear;, score=0.934 total time=   0.5s\n",
      "[CV 3/5] END .....C=1, gamma=0.1, kernel=linear;, score=0.961 total time=   1.5s\n",
      "[CV 4/5] END .....C=1, gamma=0.1, kernel=linear;, score=0.974 total time=   2.0s\n",
      "[CV 5/5] END .....C=1, gamma=0.1, kernel=linear;, score=0.908 total time=   1.4s\n",
      "[CV 1/5] END ....C=1, gamma=0.01, kernel=linear;, score=0.961 total time=   1.6s\n",
      "[CV 2/5] END ....C=1, gamma=0.01, kernel=linear;, score=0.934 total time=   0.5s\n",
      "[CV 3/5] END ....C=1, gamma=0.01, kernel=linear;, score=0.961 total time=   1.5s\n",
      "[CV 4/5] END ....C=1, gamma=0.01, kernel=linear;, score=0.974 total time=   2.0s\n",
      "[CV 5/5] END ....C=1, gamma=0.01, kernel=linear;, score=0.908 total time=   1.4s\n",
      "[CV 1/5] END ...C=1, gamma=0.001, kernel=linear;, score=0.961 total time=   1.6s\n",
      "[CV 2/5] END ...C=1, gamma=0.001, kernel=linear;, score=0.934 total time=   0.5s\n",
      "[CV 3/5] END ...C=1, gamma=0.001, kernel=linear;, score=0.961 total time=   1.5s\n",
      "[CV 4/5] END ...C=1, gamma=0.001, kernel=linear;, score=0.974 total time=   2.0s\n",
      "[CV 5/5] END ...C=1, gamma=0.001, kernel=linear;, score=0.908 total time=   1.4s\n",
      "[CV 1/5] END ..C=1, gamma=0.0001, kernel=linear;, score=0.961 total time=   1.6s\n",
      "[CV 2/5] END ..C=1, gamma=0.0001, kernel=linear;, score=0.934 total time=   0.5s\n",
      "[CV 3/5] END ..C=1, gamma=0.0001, kernel=linear;, score=0.961 total time=   1.6s\n",
      "[CV 4/5] END ..C=1, gamma=0.0001, kernel=linear;, score=0.974 total time=   2.0s\n",
      "[CV 5/5] END ..C=1, gamma=0.0001, kernel=linear;, score=0.908 total time=   1.4s\n",
      "[CV 1/5] END ......C=10, gamma=1, kernel=linear;, score=0.935 total time=   7.8s\n",
      "[CV 2/5] END ......C=10, gamma=1, kernel=linear;, score=0.974 total time=   8.5s\n",
      "[CV 3/5] END ......C=10, gamma=1, kernel=linear;, score=0.961 total time=   4.1s\n",
      "[CV 4/5] END ......C=10, gamma=1, kernel=linear;, score=0.974 total time=   8.6s\n",
      "[CV 5/5] END ......C=10, gamma=1, kernel=linear;, score=0.895 total time=   3.9s\n",
      "[CV 1/5] END ....C=10, gamma=0.1, kernel=linear;, score=0.935 total time=   7.8s\n",
      "[CV 2/5] END ....C=10, gamma=0.1, kernel=linear;, score=0.974 total time=   8.4s\n",
      "[CV 3/5] END ....C=10, gamma=0.1, kernel=linear;, score=0.961 total time=   4.1s\n",
      "[CV 4/5] END ....C=10, gamma=0.1, kernel=linear;, score=0.974 total time=   8.6s\n",
      "[CV 5/5] END ....C=10, gamma=0.1, kernel=linear;, score=0.895 total time=   3.9s\n",
      "[CV 1/5] END ...C=10, gamma=0.01, kernel=linear;, score=0.935 total time=   7.8s\n",
      "[CV 2/5] END ...C=10, gamma=0.01, kernel=linear;, score=0.974 total time=   8.5s\n",
      "[CV 3/5] END ...C=10, gamma=0.01, kernel=linear;, score=0.961 total time=   4.1s\n",
      "[CV 4/5] END ...C=10, gamma=0.01, kernel=linear;, score=0.974 total time=   8.6s\n",
      "[CV 5/5] END ...C=10, gamma=0.01, kernel=linear;, score=0.895 total time=   4.0s\n",
      "[CV 1/5] END ..C=10, gamma=0.001, kernel=linear;, score=0.935 total time=   7.8s\n",
      "[CV 2/5] END ..C=10, gamma=0.001, kernel=linear;, score=0.974 total time=   8.5s\n",
      "[CV 3/5] END ..C=10, gamma=0.001, kernel=linear;, score=0.961 total time=   4.1s\n",
      "[CV 4/5] END ..C=10, gamma=0.001, kernel=linear;, score=0.974 total time=   8.6s\n",
      "[CV 5/5] END ..C=10, gamma=0.001, kernel=linear;, score=0.895 total time=   3.9s\n",
      "[CV 1/5] END .C=10, gamma=0.0001, kernel=linear;, score=0.935 total time=   7.8s\n",
      "[CV 2/5] END .C=10, gamma=0.0001, kernel=linear;, score=0.974 total time=   8.4s\n",
      "[CV 3/5] END .C=10, gamma=0.0001, kernel=linear;, score=0.961 total time=   4.1s\n",
      "[CV 4/5] END .C=10, gamma=0.0001, kernel=linear;, score=0.974 total time=   8.6s\n",
      "[CV 5/5] END .C=10, gamma=0.0001, kernel=linear;, score=0.895 total time=   4.0s\n",
      "[CV 1/5] END .....C=100, gamma=1, kernel=linear;, score=0.961 total time=   7.1s\n",
      "[CV 2/5] END .....C=100, gamma=1, kernel=linear;, score=0.987 total time=  13.8s\n",
      "[CV 3/5] END .....C=100, gamma=1, kernel=linear;, score=0.974 total time=   7.9s\n",
      "[CV 4/5] END .....C=100, gamma=1, kernel=linear;, score=0.974 total time=   7.9s\n",
      "[CV 5/5] END .....C=100, gamma=1, kernel=linear;, score=0.895 total time=   8.3s\n",
      "[CV 1/5] END ...C=100, gamma=0.1, kernel=linear;, score=0.961 total time=   7.0s\n",
      "[CV 2/5] END ...C=100, gamma=0.1, kernel=linear;, score=0.987 total time=  13.8s\n",
      "[CV 3/5] END ...C=100, gamma=0.1, kernel=linear;, score=0.974 total time=   7.9s\n",
      "[CV 4/5] END ...C=100, gamma=0.1, kernel=linear;, score=0.974 total time=   7.9s\n",
      "[CV 5/5] END ...C=100, gamma=0.1, kernel=linear;, score=0.895 total time=   8.3s\n",
      "[CV 1/5] END ..C=100, gamma=0.01, kernel=linear;, score=0.961 total time=   7.0s\n",
      "[CV 2/5] END ..C=100, gamma=0.01, kernel=linear;, score=0.987 total time=  13.8s\n",
      "[CV 3/5] END ..C=100, gamma=0.01, kernel=linear;, score=0.974 total time=   7.9s\n",
      "[CV 4/5] END ..C=100, gamma=0.01, kernel=linear;, score=0.974 total time=   7.9s\n",
      "[CV 5/5] END ..C=100, gamma=0.01, kernel=linear;, score=0.895 total time=   8.3s\n",
      "[CV 1/5] END .C=100, gamma=0.001, kernel=linear;, score=0.961 total time=   7.0s\n",
      "[CV 2/5] END .C=100, gamma=0.001, kernel=linear;, score=0.987 total time=  13.8s\n",
      "[CV 3/5] END .C=100, gamma=0.001, kernel=linear;, score=0.974 total time=   7.9s\n",
      "[CV 4/5] END .C=100, gamma=0.001, kernel=linear;, score=0.974 total time=   7.9s\n",
      "[CV 5/5] END .C=100, gamma=0.001, kernel=linear;, score=0.895 total time=   8.2s\n",
      "[CV 1/5] END C=100, gamma=0.0001, kernel=linear;, score=0.961 total time=   7.0s\n",
      "[CV 2/5] END C=100, gamma=0.0001, kernel=linear;, score=0.987 total time=  13.8s\n",
      "[CV 3/5] END C=100, gamma=0.0001, kernel=linear;, score=0.974 total time=   7.9s\n",
      "[CV 4/5] END C=100, gamma=0.0001, kernel=linear;, score=0.974 total time=   7.9s\n",
      "[CV 5/5] END C=100, gamma=0.0001, kernel=linear;, score=0.895 total time=   8.2s\n",
      "[CV 1/5] END ....C=1000, gamma=1, kernel=linear;, score=0.961 total time=   8.4s\n",
      "[CV 2/5] END ....C=1000, gamma=1, kernel=linear;, score=0.987 total time=  14.6s\n",
      "[CV 3/5] END ....C=1000, gamma=1, kernel=linear;, score=0.974 total time=  12.6s\n",
      "[CV 4/5] END ....C=1000, gamma=1, kernel=linear;, score=0.974 total time=  11.5s\n",
      "[CV 5/5] END ....C=1000, gamma=1, kernel=linear;, score=0.895 total time=   7.0s\n",
      "[CV 1/5] END ..C=1000, gamma=0.1, kernel=linear;, score=0.961 total time=   8.4s\n",
      "[CV 2/5] END ..C=1000, gamma=0.1, kernel=linear;, score=0.987 total time=  14.7s\n",
      "[CV 3/5] END ..C=1000, gamma=0.1, kernel=linear;, score=0.974 total time=  12.6s\n",
      "[CV 4/5] END ..C=1000, gamma=0.1, kernel=linear;, score=0.974 total time=  11.5s\n",
      "[CV 5/5] END ..C=1000, gamma=0.1, kernel=linear;, score=0.895 total time=   7.0s\n",
      "[CV 1/5] END .C=1000, gamma=0.01, kernel=linear;, score=0.961 total time=   8.4s\n",
      "[CV 2/5] END .C=1000, gamma=0.01, kernel=linear;, score=0.987 total time=  14.6s\n",
      "[CV 3/5] END .C=1000, gamma=0.01, kernel=linear;, score=0.974 total time=  12.7s\n",
      "[CV 4/5] END .C=1000, gamma=0.01, kernel=linear;, score=0.974 total time=  11.6s\n",
      "[CV 5/5] END .C=1000, gamma=0.01, kernel=linear;, score=0.895 total time=   7.0s\n",
      "[CV 1/5] END C=1000, gamma=0.001, kernel=linear;, score=0.961 total time=   8.5s\n",
      "[CV 2/5] END C=1000, gamma=0.001, kernel=linear;, score=0.987 total time=  14.7s\n",
      "[CV 3/5] END C=1000, gamma=0.001, kernel=linear;, score=0.974 total time=  12.6s\n",
      "[CV 4/5] END C=1000, gamma=0.001, kernel=linear;, score=0.974 total time=  11.6s\n",
      "[CV 5/5] END C=1000, gamma=0.001, kernel=linear;, score=0.895 total time=   7.0s\n",
      "[CV 1/5] END C=1000, gamma=0.0001, kernel=linear;, score=0.961 total time=   8.4s\n",
      "[CV 2/5] END C=1000, gamma=0.0001, kernel=linear;, score=0.987 total time=  14.6s\n",
      "[CV 3/5] END C=1000, gamma=0.0001, kernel=linear;, score=0.974 total time=  12.6s\n",
      "[CV 4/5] END C=1000, gamma=0.0001, kernel=linear;, score=0.974 total time=  11.6s\n",
      "[CV 5/5] END C=1000, gamma=0.0001, kernel=linear;, score=0.895 total time=   7.0s\n"
     ]
    },
    {
     "data": {
      "text/html": [
       "<style>#sk-container-id-3 {color: black;background-color: white;}#sk-container-id-3 pre{padding: 0;}#sk-container-id-3 div.sk-toggleable {background-color: white;}#sk-container-id-3 label.sk-toggleable__label {cursor: pointer;display: block;width: 100%;margin-bottom: 0;padding: 0.3em;box-sizing: border-box;text-align: center;}#sk-container-id-3 label.sk-toggleable__label-arrow:before {content: \"▸\";float: left;margin-right: 0.25em;color: #696969;}#sk-container-id-3 label.sk-toggleable__label-arrow:hover:before {color: black;}#sk-container-id-3 div.sk-estimator:hover label.sk-toggleable__label-arrow:before {color: black;}#sk-container-id-3 div.sk-toggleable__content {max-height: 0;max-width: 0;overflow: hidden;text-align: left;background-color: #f0f8ff;}#sk-container-id-3 div.sk-toggleable__content pre {margin: 0.2em;color: black;border-radius: 0.25em;background-color: #f0f8ff;}#sk-container-id-3 input.sk-toggleable__control:checked~div.sk-toggleable__content {max-height: 200px;max-width: 100%;overflow: auto;}#sk-container-id-3 input.sk-toggleable__control:checked~label.sk-toggleable__label-arrow:before {content: \"▾\";}#sk-container-id-3 div.sk-estimator input.sk-toggleable__control:checked~label.sk-toggleable__label {background-color: #d4ebff;}#sk-container-id-3 div.sk-label input.sk-toggleable__control:checked~label.sk-toggleable__label {background-color: #d4ebff;}#sk-container-id-3 input.sk-hidden--visually {border: 0;clip: rect(1px 1px 1px 1px);clip: rect(1px, 1px, 1px, 1px);height: 1px;margin: -1px;overflow: hidden;padding: 0;position: absolute;width: 1px;}#sk-container-id-3 div.sk-estimator {font-family: monospace;background-color: #f0f8ff;border: 1px dotted black;border-radius: 0.25em;box-sizing: border-box;margin-bottom: 0.5em;}#sk-container-id-3 div.sk-estimator:hover {background-color: #d4ebff;}#sk-container-id-3 div.sk-parallel-item::after {content: \"\";width: 100%;border-bottom: 1px solid gray;flex-grow: 1;}#sk-container-id-3 div.sk-label:hover label.sk-toggleable__label {background-color: #d4ebff;}#sk-container-id-3 div.sk-serial::before {content: \"\";position: absolute;border-left: 1px solid gray;box-sizing: border-box;top: 0;bottom: 0;left: 50%;z-index: 0;}#sk-container-id-3 div.sk-serial {display: flex;flex-direction: column;align-items: center;background-color: white;padding-right: 0.2em;padding-left: 0.2em;position: relative;}#sk-container-id-3 div.sk-item {position: relative;z-index: 1;}#sk-container-id-3 div.sk-parallel {display: flex;align-items: stretch;justify-content: center;background-color: white;position: relative;}#sk-container-id-3 div.sk-item::before, #sk-container-id-3 div.sk-parallel-item::before {content: \"\";position: absolute;border-left: 1px solid gray;box-sizing: border-box;top: 0;bottom: 0;left: 50%;z-index: -1;}#sk-container-id-3 div.sk-parallel-item {display: flex;flex-direction: column;z-index: 1;position: relative;background-color: white;}#sk-container-id-3 div.sk-parallel-item:first-child::after {align-self: flex-end;width: 50%;}#sk-container-id-3 div.sk-parallel-item:last-child::after {align-self: flex-start;width: 50%;}#sk-container-id-3 div.sk-parallel-item:only-child::after {width: 0;}#sk-container-id-3 div.sk-dashed-wrapped {border: 1px dashed gray;margin: 0 0.4em 0.5em 0.4em;box-sizing: border-box;padding-bottom: 0.4em;background-color: white;}#sk-container-id-3 div.sk-label label {font-family: monospace;font-weight: bold;display: inline-block;line-height: 1.2em;}#sk-container-id-3 div.sk-label-container {text-align: center;}#sk-container-id-3 div.sk-container {/* jupyter's `normalize.less` sets `[hidden] { display: none; }` but bootstrap.min.css set `[hidden] { display: none !important; }` so we also need the `!important` here to be able to override the default hidden behavior on the sphinx rendered scikit-learn.org. See: https://github.com/scikit-learn/scikit-learn/issues/21755 */display: inline-block !important;position: relative;}#sk-container-id-3 div.sk-text-repr-fallback {display: none;}</style><div id=\"sk-container-id-3\" class=\"sk-top-container\"><div class=\"sk-text-repr-fallback\"><pre>GridSearchCV(cv=5, estimator=SVC(),\n",
       "             param_grid={&#x27;C&#x27;: [0.1, 1, 10, 100, 1000],\n",
       "                         &#x27;gamma&#x27;: [1, 0.1, 0.01, 0.001, 0.0001],\n",
       "                         &#x27;kernel&#x27;: [&#x27;linear&#x27;]},\n",
       "             verbose=3)</pre><b>In a Jupyter environment, please rerun this cell to show the HTML representation or trust the notebook. <br />On GitHub, the HTML representation is unable to render, please try loading this page with nbviewer.org.</b></div><div class=\"sk-container\" hidden><div class=\"sk-item sk-dashed-wrapped\"><div class=\"sk-label-container\"><div class=\"sk-label sk-toggleable\"><input class=\"sk-toggleable__control sk-hidden--visually\" id=\"sk-estimator-id-3\" type=\"checkbox\" ><label for=\"sk-estimator-id-3\" class=\"sk-toggleable__label sk-toggleable__label-arrow\">GridSearchCV</label><div class=\"sk-toggleable__content\"><pre>GridSearchCV(cv=5, estimator=SVC(),\n",
       "             param_grid={&#x27;C&#x27;: [0.1, 1, 10, 100, 1000],\n",
       "                         &#x27;gamma&#x27;: [1, 0.1, 0.01, 0.001, 0.0001],\n",
       "                         &#x27;kernel&#x27;: [&#x27;linear&#x27;]},\n",
       "             verbose=3)</pre></div></div></div><div class=\"sk-parallel\"><div class=\"sk-parallel-item\"><div class=\"sk-item\"><div class=\"sk-label-container\"><div class=\"sk-label sk-toggleable\"><input class=\"sk-toggleable__control sk-hidden--visually\" id=\"sk-estimator-id-4\" type=\"checkbox\" ><label for=\"sk-estimator-id-4\" class=\"sk-toggleable__label sk-toggleable__label-arrow\">estimator: SVC</label><div class=\"sk-toggleable__content\"><pre>SVC()</pre></div></div></div><div class=\"sk-serial\"><div class=\"sk-item\"><div class=\"sk-estimator sk-toggleable\"><input class=\"sk-toggleable__control sk-hidden--visually\" id=\"sk-estimator-id-5\" type=\"checkbox\" ><label for=\"sk-estimator-id-5\" class=\"sk-toggleable__label sk-toggleable__label-arrow\">SVC</label><div class=\"sk-toggleable__content\"><pre>SVC()</pre></div></div></div></div></div></div></div></div></div></div>"
      ],
      "text/plain": [
       "GridSearchCV(cv=5, estimator=SVC(),\n",
       "             param_grid={'C': [0.1, 1, 10, 100, 1000],\n",
       "                         'gamma': [1, 0.1, 0.01, 0.001, 0.0001],\n",
       "                         'kernel': ['linear']},\n",
       "             verbose=3)"
      ]
     },
     "execution_count": 42,
     "metadata": {},
     "output_type": "execute_result"
    }
   ],
   "source": [
    "grid.fit(x_train,y_train)"
   ]
  },
  {
   "cell_type": "code",
   "execution_count": 44,
   "id": "5468fc59-bd78-40a6-ae8f-e9d04f157417",
   "metadata": {},
   "outputs": [
    {
     "data": {
      "text/plain": [
       "{'C': 100, 'gamma': 1, 'kernel': 'linear'}"
      ]
     },
     "execution_count": 44,
     "metadata": {},
     "output_type": "execute_result"
    }
   ],
   "source": [
    "grid.best_params_"
   ]
  },
  {
   "cell_type": "code",
   "execution_count": 45,
   "id": "fdee1c1d-95ee-4308-a867-06ff161145dc",
   "metadata": {},
   "outputs": [],
   "source": [
    "y_pred4=grid.predict(x_test)"
   ]
  },
  {
   "cell_type": "code",
   "execution_count": null,
   "id": "0cc825e7-a14c-4fd7-b7bc-e6c746ccceaa",
   "metadata": {},
   "outputs": [],
   "source": [
    "print(classification_report(y_pred4,y_test))\n",
    "print(confusion_matrix(y_pred4,y_test))\n",
    "print(accuracy_score(y_pred4,y_test))"
   ]
  }
 ],
 "metadata": {
  "kernelspec": {
   "display_name": "Python 3 (ipykernel)",
   "language": "python",
   "name": "python3"
  },
  "language_info": {
   "codemirror_mode": {
    "name": "ipython",
    "version": 3
   },
   "file_extension": ".py",
   "mimetype": "text/x-python",
   "name": "python",
   "nbconvert_exporter": "python",
   "pygments_lexer": "ipython3",
   "version": "3.10.8"
  }
 },
 "nbformat": 4,
 "nbformat_minor": 5
}
