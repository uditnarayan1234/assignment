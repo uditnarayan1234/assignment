{
 "cells": [
  {
   "cell_type": "code",
   "execution_count": 1,
   "id": "53047fa6-a5d2-41a7-a8a6-ea37be922d2a",
   "metadata": {},
   "outputs": [],
   "source": [
    "##Q1. What is data encoding? How is it useful in data science?\n",
    "## data encoding is nothing to convert the categorical features into numerical feature\n",
    "## we cant use the categorical data in machine learning model so it is more useful"
   ]
  },
  {
   "cell_type": "code",
   "execution_count": 2,
   "id": "2de4a797-0a42-4aad-86e7-22829bb694a3",
   "metadata": {},
   "outputs": [],
   "source": [
    "## Q2. What is nominal encoding? Provide an example of how you would use it in a real-world scenario.\n",
    "## nominal encoding is a technique to transform the categorical variable intp numeric variable by creating a sparx matrix\n",
    "## city of person and hair colour"
   ]
  },
  {
   "cell_type": "code",
   "execution_count": 3,
   "id": "758f0e16-19ae-4be0-b6c2-adc20664135b",
   "metadata": {},
   "outputs": [],
   "source": [
    "##Q3. In what situations is nominal encoding preferred over one-hot encoding? Provide a practical example.\n",
    "## when the categories features that have large number of unique categories one hot encoding increases the category"
   ]
  },
  {
   "cell_type": "code",
   "execution_count": 4,
   "id": "6d739924-aecb-4d5b-bbcc-ccba798389f3",
   "metadata": {},
   "outputs": [],
   "source": [
    "##Q4. Suppose you have a dataset containing categorical data with 5 unique values. Which encoding\n",
    "##technique would you use to transform this data into a format suitable for machine learning algorithms?\n",
    "#Explain why you made this choice.\n",
    "# we will use the one hot encoding that is 5 invidual coloumns will created in each row one vale will be 1 and other are 0\n",
    "## by this we can easily covert the categorical data"
   ]
  },
  {
   "cell_type": "code",
   "execution_count": 5,
   "id": "74df7cef-3478-45db-a125-7dc3aa740114",
   "metadata": {},
   "outputs": [],
   "source": [
    "## Q5. In a machine learning project, you have a dataset with 1000 rows and 5 columns. Two of the columns\n",
    "## are categorical, and the remaining three columns are numerical. If you were to use nominal encoding to\n",
    "## transform the categorical data, how many new columns would be created? Show your calculations.\n",
    "\n",
    "## 2 more coloumn will created "
   ]
  },
  {
   "cell_type": "code",
   "execution_count": 6,
   "id": "9d9ff21b-0847-4278-9188-f4cd9d972c05",
   "metadata": {},
   "outputs": [],
   "source": [
    "## Q6. You are working with a dataset containing information about different types of animals, including their\n",
    "##species, habitat, and diet. Which encoding technique would you use to transform the categorical data into\n",
    "##a format suitable for machine learning algorithms? Justify your answer.\n",
    "\n",
    "##Using one-hot encoding or dummy encoding ensures that categorical information is properly\n",
    "## . It allows the machine learning algorithms to consider that based on the relation imply false among the categore"
   ]
  },
  {
   "cell_type": "code",
   "execution_count": 15,
   "id": "dd02b81e-cff9-4e9c-8792-d4ef992af1fb",
   "metadata": {},
   "outputs": [
    {
     "name": "stdout",
     "output_type": "stream",
     "text": [
      "   Customer Gender  Is Contact  Time Monthly  Charges  Tenure\n",
      "0                1           1            50        0       2\n",
      "1                0           0            30        1       4\n",
      "2                0           1            40        2       6\n",
      "3                1           1            45        0       3\n",
      "4                1           0            55        1       5\n"
     ]
    }
   ],
   "source": [
    "##Q7.You are working on a project that involves predicting customer churn for a telecommunications\n",
    "##company. You have a dataset with 5 features, including the customer's gender, age, contract type,\n",
    "##monthly charges, and tenure. Which encoding technique(s) would you use to transform the categorical\n",
    "##data into numerical data? Provide a step-by-step explanation of how you would implement the encoding.\n",
    "\n",
    "import pandas as pd\n",
    "from sklearn.preprocessing import LabelEncoder\n",
    "\n",
    "data = {\n",
    "    'Customer Gender': ['Male', 'Female', 'Female', 'Male', 'Male'],\n",
    "    'Is Contact': ['Yes', 'No', 'Yes', 'Yes', 'No'],\n",
    "    'Time Monthly': [50, 30, 40, 45, 55],\n",
    "    'Charges': ['High', 'Low', 'Medium', 'High', 'Low'],\n",
    "    'Tenure': [2, 4, 6, 3, 5]\n",
    "}\n",
    "\n",
    "df = pd.DataFrame(data)\n",
    "\n",
    "\n",
    "label_encoder = LabelEncoder()\n",
    "df['Customer Gender'] = label_encoder.fit_transform(df['Customer Gender'])\n",
    "df['Is Contact'] = label_encoder.fit_transform(df['Is Contact'])\n",
    "df['Charges'] = label_encoder.fit_transform(df['Charges'])\n",
    "\n",
    "# Display the updated dataframe\n",
    "print(df)"
   ]
  },
  {
   "cell_type": "code",
   "execution_count": 17,
   "id": "6d091a4c-2f49-489e-93e9-3a3e13dd279c",
   "metadata": {},
   "outputs": [
    {
     "name": "stdout",
     "output_type": "stream",
     "text": [
      "   Time Monthly  Tenure  Customer Gender_0  Customer Gender_1  Is Contact_0  \\\n",
      "0            50       2                  0                  1             0   \n",
      "1            30       4                  1                  0             1   \n",
      "2            40       6                  1                  0             0   \n",
      "3            45       3                  0                  1             0   \n",
      "4            55       5                  0                  1             1   \n",
      "\n",
      "   Is Contact_1  Charges_0  Charges_1  Charges_2  \n",
      "0             1          1          0          0  \n",
      "1             0          0          1          0  \n",
      "2             1          0          0          1  \n",
      "3             1          1          0          0  \n",
      "4             0          0          1          0  \n"
     ]
    }
   ],
   "source": [
    "df = pd.get_dummies(df, columns=['Customer Gender', 'Is Contact', 'Charges'])\n",
    "print(df)"
   ]
  },
  {
   "cell_type": "code",
   "execution_count": null,
   "id": "1ffa1c29-b359-4934-b3ee-d6be5b1da28a",
   "metadata": {},
   "outputs": [],
   "source": []
  }
 ],
 "metadata": {
  "kernelspec": {
   "display_name": "Python 3 (ipykernel)",
   "language": "python",
   "name": "python3"
  },
  "language_info": {
   "codemirror_mode": {
    "name": "ipython",
    "version": 3
   },
   "file_extension": ".py",
   "mimetype": "text/x-python",
   "name": "python",
   "nbconvert_exporter": "python",
   "pygments_lexer": "ipython3",
   "version": "3.10.8"
  }
 },
 "nbformat": 4,
 "nbformat_minor": 5
}
