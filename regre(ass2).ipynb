{
 "cells": [
  {
   "cell_type": "code",
   "execution_count": 6,
   "id": "82d6953f-8306-4f70-8511-761122691806",
   "metadata": {},
   "outputs": [],
   "source": [
    "##Q1. Explain the concept of R-squared in linear regression models. How is it calculated, and what does it\n",
    "##represent?\n",
    "\n",
    "##R_squared is used for accuracy check defind as 1-(ss_res/ss_total)"
   ]
  },
  {
   "cell_type": "code",
   "execution_count": 7,
   "id": "c5b46de3-0bc4-46d0-99c3-1abc2cfe0a7d",
   "metadata": {},
   "outputs": [],
   "source": [
    "## Q2. Define adjusted R-squared and explain how it differs from the regular R-squared.\n",
    "\n",
    "##adjusted R square is over R-squared when some featurse in not depend for output that case\\\n",
    "## R_sqaured is increase but adjusted_r is decreas"
   ]
  },
  {
   "cell_type": "code",
   "execution_count": 8,
   "id": "526d1a20-3e33-44d6-a11c-058bcbe51656",
   "metadata": {},
   "outputs": [],
   "source": [
    "## Q2. Define adjusted R-squared and explain how it differs from the regular R-squared.\n",
    "\n",
    "## when some features is not depend for output features that case"
   ]
  },
  {
   "cell_type": "code",
   "execution_count": 9,
   "id": "99564901-f8ab-4bf6-bdfb-e798b60993b7",
   "metadata": {},
   "outputs": [],
   "source": [
    "##Q4. What are RMSE, MSE, and MAE in the context of regression analysis? How are these metrics\n",
    "##calculated, and what do they represent?\n",
    "\n",
    "## Many regression model rely on distance metrices to determine the convergence\n",
    "## Even to get the best result"
   ]
  },
  {
   "cell_type": "code",
   "execution_count": 10,
   "id": "57ce4954-bd30-4880-83d1-43e1991a68dd",
   "metadata": {},
   "outputs": [],
   "source": [
    "## Q5. Discuss the advantages and disadvantages of using RMSE, MSE, and MAE as evaluation metrics in\n",
    "##regression analysis.\n",
    "\n",
    "## mse is diffatiable function that makes it easy to perform mathmativcal operation to non diff funcyion mae\n",
    "## it is useful when the goal is minimize is the less senstitive to outliers"
   ]
  },
  {
   "cell_type": "code",
   "execution_count": 11,
   "id": "461d3943-ffbe-4786-8ebd-8d67a1f5ade4",
   "metadata": {},
   "outputs": [],
   "source": [
    "## Q6. Explain the concept of Lasso regularization. How does it differ from Ridge regularization, and when is\n",
    "##it more appropriate to use?\n",
    "\n",
    "## is a form of the regulization for linear regression mode that reduce the error on the tranning data\n",
    "## it used over regression method for some accurate prediction"
   ]
  },
  {
   "cell_type": "code",
   "execution_count": 12,
   "id": "1f541653-b66f-4db3-969e-a1a3d3458b7f",
   "metadata": {},
   "outputs": [],
   "source": [
    "## Q7. How do regularized linear models help to prevent overfitting in machine learning? Provide an\n",
    "## example to illustrate.\n",
    "##train validation split, cross validation ,reguliarization, features selection,pruning\n",
    "## increases the size of the data the help prevent overfitting no provide the significant impprove ment"
   ]
  },
  {
   "cell_type": "code",
   "execution_count": 13,
   "id": "bd46272d-e44a-4356-be88-0e3b500d02bf",
   "metadata": {},
   "outputs": [],
   "source": [
    "## Q8. Discuss the limitations of regularized linear models and explain why they may not always be the best\n",
    "##choice for regression analysis.\n",
    "\n",
    "## linear models refers to their application and the integration into idustial process system thsi\n",
    "## linear model have more advantages simplicity,easy to implementation,"
   ]
  },
  {
   "cell_type": "code",
   "execution_count": null,
   "id": "70b2294c-d1c3-4051-bcc6-961d8e20449c",
   "metadata": {},
   "outputs": [],
   "source": [
    "## Q9. You are comparing the performance of two regression models using different evaluation metrics.\n",
    "##Model A has an RMSE of 10, while Model B has an MAE of 8. Which model would you choose as the better\n",
    "##performer, and why? Are there any limitations to your choice of metric?\n",
    "\n",
    "## rmse is cannot directly comapare with mae rmse is 10 means the avarage "
   ]
  }
 ],
 "metadata": {
  "kernelspec": {
   "display_name": "Python 3 (ipykernel)",
   "language": "python",
   "name": "python3"
  },
  "language_info": {
   "codemirror_mode": {
    "name": "ipython",
    "version": 3
   },
   "file_extension": ".py",
   "mimetype": "text/x-python",
   "name": "python",
   "nbconvert_exporter": "python",
   "pygments_lexer": "ipython3",
   "version": "3.10.8"
  }
 },
 "nbformat": 4,
 "nbformat_minor": 5
}
