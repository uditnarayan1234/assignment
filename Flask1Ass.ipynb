{
 "cells": [
  {
   "cell_type": "code",
   "execution_count": 1,
   "id": "b69bc127-32a9-4ba7-b123-d7143d8420ba",
   "metadata": {},
   "outputs": [],
   "source": [
    "##Q1;Flask is a web framework creating web application in the python language\n",
    "## it is suitable for small project and fast debugger"
   ]
  },
  {
   "cell_type": "code",
   "execution_count": null,
   "id": "b6366c26-e742-424c-86d9-6dcf1169a9e0",
   "metadata": {},
   "outputs": [],
   "source": [
    "##Q3; app routing is the technique used to map the specific url with the associated function to perform some task\n",
    "##route method is the path thats need to be helpful for user to access the funct"
   ]
  }
 ],
 "metadata": {
  "kernelspec": {
   "display_name": "Python 3 (ipykernel)",
   "language": "python",
   "name": "python3"
  },
  "language_info": {
   "codemirror_mode": {
    "name": "ipython",
    "version": 3
   },
   "file_extension": ".py",
   "mimetype": "text/x-python",
   "name": "python",
   "nbconvert_exporter": "python",
   "pygments_lexer": "ipython3",
   "version": "3.10.8"
  }
 },
 "nbformat": 4,
 "nbformat_minor": 5
}
