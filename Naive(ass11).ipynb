{
 "cells": [
  {
   "cell_type": "code",
   "execution_count": 1,
   "id": "32063b46-f8f9-440a-9ca8-800756b7bded",
   "metadata": {},
   "outputs": [],
   "source": [
    "## Q1. What is Bayes' theorem?\n",
    "## (A): The event we want to calculate the probability for (often called the “hypothesis”).\n",
    "##(A): The event we want to calculate the probability for (often called the “hypothesis”).\n",
    "##(B): The evidence or observed data.\n",
    "##The theorem states:\n",
    "\n",
    "##[ P(A|B) = \\frac{{P(B|A) \\cdot P(A)}}{{P(B)}} ]\n",
    "\n",
    "##Where:\n",
    "\n",
    "##(P(A|B)) is the posterior probability: the probability of (A) given (B).\n",
    "##(P(B|A)) is the likelihood: the probability of observing (B) given that (A) is true.\n",
    "##(P(A)) is the prior probability: our initial belief in the probability of (A).\n",
    "##(P(B)) is the evidence: the overall probability of observing (B)."
   ]
  },
  {
   "cell_type": "code",
   "execution_count": 2,
   "id": "0925e257-531b-4701-b381-10ebfecca28b",
   "metadata": {},
   "outputs": [],
   "source": [
    "## Q2. What is the formula for Bayes' theorem?\n",
    "## certainly! The formula for Bayes’ theorem is as follows:\n",
    "\n",
    "##[ P(A|B) = \\frac{{P(B|A) \\cdot P(A)}}{{P(B)}} ]\n",
    "\n",
    "##Where:\n",
    "\n",
    "##(P(A|B)) represents the posterior probability: the probability of event (A) occurring given that event (B) has happened.\n",
    "##(P(B|A)) is the likelihood: the probability of observing event (B) given that event (A) is true.\n",
    "##(P(A)) denotes the prior probability: our initial belief in the probability of event (A).\n",
    "##(P(B)) stands for the evidence: the overall probability of observing event (B)."
   ]
  },
  {
   "cell_type": "code",
   "execution_count": 3,
   "id": "eb0a2d0b-fd28-4ec1-8f9d-0ae99a2575bb",
   "metadata": {},
   "outputs": [],
   "source": [
    "## Q3. How is Bayes' theorem used in practice?\n",
    "\n",
    "## DNA Testing:\n",
    "## In forensic science, Bayes’ theorem is used to calculate the probability that a DNA profile matches a suspect.\n",
    "## It considers the likelihood of observing the DNA evidence given different hypotheses (suspect’s guilt or innocence).\n"
   ]
  },
  {
   "cell_type": "code",
   "execution_count": 4,
   "id": "0c793a3e-5a3c-4673-be77-208bb8bca553",
   "metadata": {},
   "outputs": [],
   "source": [
    "## Q4. What is the relationship between Bayes' theorem and conditional probability?\n",
    "\n",
    "## Connection:\n",
    "## Bayes’ theorem is derived from the definition of conditional probability.\n",
    "## Specifically, it expresses how the probability of a hypothesis (event A) changes when we have observed new evidence (event B).\n",
    "## The likelihood term (P(B|A)) captures how well the evidence supports the hypothesis."
   ]
  },
  {
   "cell_type": "code",
   "execution_count": null,
   "id": "87ad3a2a-dce9-4eb5-b59d-db78ea3f7bb5",
   "metadata": {},
   "outputs": [],
   "source": [
    "## Q5. How do you choose which type of Naive Bayes classifier to use for any given problem?\n",
    "\n",
    "## Characteristics of Each Type:\n",
    "## Gaussian Naive Bayes: Assumes features follow a Gaussian (normal) distribution. Commonly used for continuous data.\n",
    "## Multinomial Naive Bayes: Works well for text classification (e.g., spam detection, sentiment analysis) where features are word frequencies.\n",
    "## Bernoulli Naive Bayes: Useful for binary classification tasks (e.g., document classification, presence/absence of features)."
   ]
  }
 ],
 "metadata": {
  "kernelspec": {
   "display_name": "Python 3 (ipykernel)",
   "language": "python",
   "name": "python3"
  },
  "language_info": {
   "codemirror_mode": {
    "name": "ipython",
    "version": 3
   },
   "file_extension": ".py",
   "mimetype": "text/x-python",
   "name": "python",
   "nbconvert_exporter": "python",
   "pygments_lexer": "ipython3",
   "version": "3.10.8"
  }
 },
 "nbformat": 4,
 "nbformat_minor": 5
}
