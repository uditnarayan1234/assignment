{
 "cells": [
  {
   "cell_type": "code",
   "execution_count": 1,
   "id": "8548b1f5-e419-47d3-9199-c4b02eec7142",
   "metadata": {},
   "outputs": [],
   "source": [
    "##Q1; \n",
    "##here my lab is pwskill\n",
    "##this is the way to write comment in python"
   ]
  },
  {
   "cell_type": "code",
   "execution_count": 2,
   "id": "889a66c5-bc29-465a-96ef-eed6f0f2aed2",
   "metadata": {},
   "outputs": [],
   "source": [
    "##Q2;Their are 5 types of variable in python ex are given below\n",
    "a=20\n"
   ]
  },
  {
   "cell_type": "code",
   "execution_count": 3,
   "id": "2261452d-4329-41db-b307-692925282b67",
   "metadata": {},
   "outputs": [
    {
     "data": {
      "text/plain": [
       "int"
      ]
     },
     "execution_count": 3,
     "metadata": {},
     "output_type": "execute_result"
    }
   ],
   "source": [
    "type(a)"
   ]
  },
  {
   "cell_type": "code",
   "execution_count": 4,
   "id": "1a92d9cc-fe2e-44bd-8eff-9935e582a6ab",
   "metadata": {},
   "outputs": [],
   "source": [
    "s=\"udit\""
   ]
  },
  {
   "cell_type": "code",
   "execution_count": 5,
   "id": "aeaa4e9b-8ace-4f8e-85e6-59d9d6da4f1d",
   "metadata": {},
   "outputs": [
    {
     "data": {
      "text/plain": [
       "str"
      ]
     },
     "execution_count": 5,
     "metadata": {},
     "output_type": "execute_result"
    }
   ],
   "source": [
    "type(s)"
   ]
  },
  {
   "cell_type": "code",
   "execution_count": 6,
   "id": "a765d4dd-ff1a-4506-83a7-74ad971bb743",
   "metadata": {},
   "outputs": [],
   "source": [
    "t=False"
   ]
  },
  {
   "cell_type": "code",
   "execution_count": 7,
   "id": "a932d387-6134-4591-8314-50d94eb96e8d",
   "metadata": {},
   "outputs": [
    {
     "data": {
      "text/plain": [
       "bool"
      ]
     },
     "execution_count": 7,
     "metadata": {},
     "output_type": "execute_result"
    }
   ],
   "source": [
    "type(t)"
   ]
  },
  {
   "cell_type": "code",
   "execution_count": 8,
   "id": "80fe38e3-1467-4209-8f59-e734808822ee",
   "metadata": {},
   "outputs": [],
   "source": [
    "i=99.36"
   ]
  },
  {
   "cell_type": "code",
   "execution_count": 9,
   "id": "aaecc3f0-0f25-4c9a-9201-b84a909c77ff",
   "metadata": {},
   "outputs": [
    {
     "data": {
      "text/plain": [
       "float"
      ]
     },
     "execution_count": 9,
     "metadata": {},
     "output_type": "execute_result"
    }
   ],
   "source": [
    "type(i)"
   ]
  },
  {
   "cell_type": "code",
   "execution_count": 10,
   "id": "916ff05b-0617-486d-8ff6-2bff46bf347f",
   "metadata": {},
   "outputs": [],
   "source": [
    "j=4+5j"
   ]
  },
  {
   "cell_type": "code",
   "execution_count": 11,
   "id": "f13cf7c2-d3ca-457b-aea7-9a9a57ba8ccf",
   "metadata": {},
   "outputs": [
    {
     "data": {
      "text/plain": [
       "complex"
      ]
     },
     "execution_count": 11,
     "metadata": {},
     "output_type": "execute_result"
    }
   ],
   "source": [
    "type(j)"
   ]
  },
  {
   "cell_type": "code",
   "execution_count": 12,
   "id": "e5bb5f10-8575-4e00-befa-edbe1927239f",
   "metadata": {},
   "outputs": [],
   "source": [
    "##Q3;\n",
    "a=65"
   ]
  },
  {
   "cell_type": "code",
   "execution_count": 13,
   "id": "011f7d9f-7652-4ff5-8051-e411600e6538",
   "metadata": {},
   "outputs": [
    {
     "data": {
      "text/plain": [
       "int"
      ]
     },
     "execution_count": 13,
     "metadata": {},
     "output_type": "execute_result"
    }
   ],
   "source": [
    "type(a)"
   ]
  },
  {
   "cell_type": "code",
   "execution_count": 14,
   "id": "39714a83-6fa8-451c-8bce-b555332bca14",
   "metadata": {},
   "outputs": [],
   "source": [
    "i=float(a)"
   ]
  },
  {
   "cell_type": "code",
   "execution_count": 15,
   "id": "7ec12295-3745-4ba3-8672-b024e6c3c368",
   "metadata": {},
   "outputs": [
    {
     "data": {
      "text/plain": [
       "65.0"
      ]
     },
     "execution_count": 15,
     "metadata": {},
     "output_type": "execute_result"
    }
   ],
   "source": [
    "i"
   ]
  },
  {
   "cell_type": "code",
   "execution_count": 16,
   "id": "c1dbf9f4-b593-4a23-b01d-0c490ae7a78e",
   "metadata": {},
   "outputs": [],
   "source": [
    "##Q5\n",
    "my_list=[1,2,3,4,5]"
   ]
  },
  {
   "cell_type": "code",
   "execution_count": 17,
   "id": "99d3b181-efcc-4bda-942d-5d89ac8f049c",
   "metadata": {},
   "outputs": [
    {
     "data": {
      "text/plain": [
       "[2, 3, 4]"
      ]
     },
     "execution_count": 17,
     "metadata": {},
     "output_type": "execute_result"
    }
   ],
   "source": [
    "##slice\n",
    "my_list[1:4]"
   ]
  },
  {
   "cell_type": "code",
   "execution_count": 18,
   "id": "b01f57ae-474c-409b-9063-876f2da97526",
   "metadata": {},
   "outputs": [
    {
     "data": {
      "text/plain": [
       "[2, 3]"
      ]
     },
     "execution_count": 18,
     "metadata": {},
     "output_type": "execute_result"
    }
   ],
   "source": [
    "my_list[1:3]"
   ]
  },
  {
   "cell_type": "code",
   "execution_count": 19,
   "id": "4e135315-4155-4e34-ae20-11be5d2e8c91",
   "metadata": {},
   "outputs": [],
   "source": [
    "##Q6: in complex number one is real part and one is img part\n",
    "s=7+6j"
   ]
  },
  {
   "cell_type": "code",
   "execution_count": 20,
   "id": "fdc38c4b-9bcc-4944-881f-b66f4bd20331",
   "metadata": {},
   "outputs": [
    {
     "data": {
      "text/plain": [
       "7.0"
      ]
     },
     "execution_count": 20,
     "metadata": {},
     "output_type": "execute_result"
    }
   ],
   "source": [
    "s.real"
   ]
  },
  {
   "cell_type": "code",
   "execution_count": 22,
   "id": "a4a33209-2812-4a1c-ad30-672c731128e0",
   "metadata": {},
   "outputs": [
    {
     "data": {
      "text/plain": [
       "6.0"
      ]
     },
     "execution_count": 22,
     "metadata": {},
     "output_type": "execute_result"
    }
   ],
   "source": [
    "s.imag"
   ]
  },
  {
   "cell_type": "code",
   "execution_count": 23,
   "id": "61e132ef-6bb2-4e8e-82da-0b97a573c290",
   "metadata": {},
   "outputs": [],
   "source": [
    "##Q7\n",
    "age=int(25)"
   ]
  },
  {
   "cell_type": "code",
   "execution_count": 24,
   "id": "7b8f50f8-fcd9-46dd-b435-f58b92e4c123",
   "metadata": {},
   "outputs": [
    {
     "data": {
      "text/plain": [
       "25"
      ]
     },
     "execution_count": 24,
     "metadata": {},
     "output_type": "execute_result"
    }
   ],
   "source": [
    "age"
   ]
  },
  {
   "cell_type": "code",
   "execution_count": 25,
   "id": "6e31c122-4949-4b93-8cd4-18f98c805fe9",
   "metadata": {},
   "outputs": [],
   "source": [
    "##Q8\n",
    "price=99.9"
   ]
  },
  {
   "cell_type": "code",
   "execution_count": 26,
   "id": "9d9c0f88-c055-444d-a774-2fe639d411dc",
   "metadata": {},
   "outputs": [
    {
     "data": {
      "text/plain": [
       "float"
      ]
     },
     "execution_count": 26,
     "metadata": {},
     "output_type": "execute_result"
    }
   ],
   "source": [
    "type(price)"
   ]
  },
  {
   "cell_type": "code",
   "execution_count": 27,
   "id": "1babdb56-fd47-4d25-bc7c-3da46740c7e7",
   "metadata": {},
   "outputs": [],
   "source": [
    "##Q9\n",
    "name=\"udit narayan bairi\""
   ]
  },
  {
   "cell_type": "code",
   "execution_count": 28,
   "id": "e500de40-5dfa-4f82-bd15-a40d1b435922",
   "metadata": {},
   "outputs": [
    {
     "data": {
      "text/plain": [
       "'udit narayan bairi'"
      ]
     },
     "execution_count": 28,
     "metadata": {},
     "output_type": "execute_result"
    }
   ],
   "source": [
    "name"
   ]
  },
  {
   "cell_type": "code",
   "execution_count": 29,
   "id": "31e4e0f4-1e6d-4bf0-b8c9-2a80971ba9ea",
   "metadata": {},
   "outputs": [],
   "source": [
    "##Q10\n",
    "s=\"Hello,World\""
   ]
  },
  {
   "cell_type": "code",
   "execution_count": 31,
   "id": "55b878da-a7f4-43bd-a27b-30ee6e386010",
   "metadata": {},
   "outputs": [
    {
     "data": {
      "text/plain": [
       "'World'"
      ]
     },
     "execution_count": 31,
     "metadata": {},
     "output_type": "execute_result"
    }
   ],
   "source": [
    "s[6:11]"
   ]
  },
  {
   "cell_type": "code",
   "execution_count": 35,
   "id": "b9cb176a-5fe9-44c4-b57a-5eb449192126",
   "metadata": {},
   "outputs": [
    {
     "name": "stdout",
     "output_type": "stream",
     "text": [
      "You are a student\n"
     ]
    }
   ],
   "source": [
    "##Q11\n",
    "is_student=True\n",
    "if(is_student==True):\n",
    "    print(\"You are a student\")\n",
    "else:\n",
    "    print(\"not a student\")"
   ]
  },
  {
   "cell_type": "code",
   "execution_count": null,
   "id": "16461d28-6667-4f9c-8c5c-ec7ae122bc0a",
   "metadata": {},
   "outputs": [],
   "source": []
  }
 ],
 "metadata": {
  "kernelspec": {
   "display_name": "Python 3 (ipykernel)",
   "language": "python",
   "name": "python3"
  },
  "language_info": {
   "codemirror_mode": {
    "name": "ipython",
    "version": 3
   },
   "file_extension": ".py",
   "mimetype": "text/x-python",
   "name": "python",
   "nbconvert_exporter": "python",
   "pygments_lexer": "ipython3",
   "version": "3.10.8"
  }
 },
 "nbformat": 4,
 "nbformat_minor": 5
}
