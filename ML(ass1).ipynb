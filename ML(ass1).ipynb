{
 "cells": [
  {
   "cell_type": "code",
   "execution_count": 1,
   "id": "beaa29a0-793d-4130-8659-4d21be01c2b5",
   "metadata": {},
   "outputs": [],
   "source": [
    "## Q2- What is supervised learning? List some examplKs of supervisKd learning.\n",
    "## it is the part of ,machine learing which dependent on the feature\n",
    "## a adatset contaning feature of house such as no of rooms number of bath and price"
   ]
  },
  {
   "cell_type": "code",
   "execution_count": 3,
   "id": "556ba406-2b90-4f34-8029-c1fd09aa4ae9",
   "metadata": {},
   "outputs": [],
   "source": [
    "## Q3- What is unsupervisKd learning? List some examplKs of unsupervisKd learning.\n",
    "## it is no specific output  this is used to form group of similar data\n",
    "## dictionary learning"
   ]
  },
  {
   "cell_type": "code",
   "execution_count": 4,
   "id": "9733b3d3-3307-42ce-98e7-7e8d1ed7a341",
   "metadata": {},
   "outputs": [],
   "source": [
    "## Q4- What is the difference between AI, ML, DL, and DS?\n",
    "## AI simulates human itelligence and perform task and make desicion\n",
    "## ML is the subset of  ai that works form a specific algorithm\n",
    "## DL is subset of ml thet for complex task\n",
    "## DS is the part of both ML AND DL"
   ]
  },
  {
   "cell_type": "code",
   "execution_count": 5,
   "id": "6689b90c-bf96-4d75-a4ad-8088a210ad44",
   "metadata": {},
   "outputs": [],
   "source": [
    "## Q5- What are the main diffKrKncKs bKtwKKn supervised, unsupervised, and semi-supervised learning?\n",
    "## supervised used in categorical ootput feature that is dependent feature\n",
    "## unsupervised used in not a spefic output that is group of data\n",
    "## semisupervised is the diff of unsupervised and supervised"
   ]
  },
  {
   "cell_type": "code",
   "execution_count": 6,
   "id": "f33283eb-7a3b-4728-a5fa-a82343b07e85",
   "metadata": {},
   "outputs": [],
   "source": [
    "## Q6- What is train, tKst and validation split? Explain thK importance of each term.\n",
    "## train is used to train our model\n",
    "## validiation is used to hypertuning the model\n",
    "## test is used to performance of the model"
   ]
  },
  {
   "cell_type": "code",
   "execution_count": 8,
   "id": "acc4d01f-2d5d-44b0-bb42-43fcfc8adff5",
   "metadata": {},
   "outputs": [],
   "source": [
    "## Q7- How can unsupwrvised learning be used in anomaly detection?\n",
    "## it asssume that the normal data points occurs considerably than the anamalous data points"
   ]
  },
  {
   "cell_type": "code",
   "execution_count": 9,
   "id": "26175b36-1bb1-4588-b3e6-b4f8076598de",
   "metadata": {},
   "outputs": [],
   "source": [
    "## Q8- List down some commonly usKd supervised learning algorithms and unsupervisKd learning\n",
    "## algorithms.\n",
    "\n",
    "##  supervised used in linear regression decision tree\n",
    "## unsupervised used in k-means clustering "
   ]
  },
  {
   "cell_type": "code",
   "execution_count": null,
   "id": "3c7d1746-d4d6-499e-ae03-fcf901fb07bb",
   "metadata": {},
   "outputs": [],
   "source": []
  }
 ],
 "metadata": {
  "kernelspec": {
   "display_name": "Python 3 (ipykernel)",
   "language": "python",
   "name": "python3"
  },
  "language_info": {
   "codemirror_mode": {
    "name": "ipython",
    "version": 3
   },
   "file_extension": ".py",
   "mimetype": "text/x-python",
   "name": "python",
   "nbconvert_exporter": "python",
   "pygments_lexer": "ipython3",
   "version": "3.10.8"
  }
 },
 "nbformat": 4,
 "nbformat_minor": 5
}
