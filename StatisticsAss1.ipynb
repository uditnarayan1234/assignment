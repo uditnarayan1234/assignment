{
 "cells": [
  {
   "cell_type": "code",
   "execution_count": 1,
   "id": "1554d571-50be-4ad2-8647-e0e2f1508576",
   "metadata": {},
   "outputs": [],
   "source": [
    "##Q1;What is Statistics?\n",
    "## ANS; statistics is the collec ting organizing and analysing the data"
   ]
  },
  {
   "cell_type": "code",
   "execution_count": 2,
   "id": "fcf02ec7-29c5-43bd-8422-c97ec73b24a8",
   "metadata": {},
   "outputs": [],
   "source": [
    "##Define the different types of statistics and give an example of when each type might be used.?\n",
    "## ANS; Here two types of satistic one is 1.Descriptive 2.infecistical statistics\n",
    "## Example of Descriptive ststistics is mean,median,mode,varience and standard daviation\n",
    "## Example of infecistical ststistics is z test ,t test etc"
   ]
  },
  {
   "cell_type": "code",
   "execution_count": 1,
   "id": "8f38a922-4b55-4fec-9373-6e04807bd645",
   "metadata": {},
   "outputs": [],
   "source": [
    "##What are the different types of data and how do they differ from each other? Provide an example of each type of data?\n",
    "## ANS;  two types of data quantative data and qualitative data\n",
    "## quantative data are two type discrete and continuos \n",
    "## dicrete holds any whole number ex is bank account etc and continuos holds any value ex is height,weight\n",
    "## and qualitative data are teo type nominal and ordinal\n",
    "## nominal on the basis of no rank\n"
   ]
  },
  {
   "cell_type": "code",
   "execution_count": 2,
   "id": "46c0cd01-14e7-478d-bf82-2c9c8a77ecaa",
   "metadata": {},
   "outputs": [],
   "source": [
    "## Q4. Categorise the following datasets with respect to quantitative and qualitative data types:\n",
    "##(i) Grading in exam: A+, A, B+, B, C+, C, D, E\n",
    "##(ii) Colour of mangoes: yellow, green, orange, red\n",
    "##(iii) Height data of a class: [178.9, 179, 179.5, 176, 177.2, 178.3, 175.8,...]\n",
    "##(iv) Number of mangoes exported by a farm: [500, 600, 478, 672, ...]"
   ]
  },
  {
   "cell_type": "code",
   "execution_count": 3,
   "id": "9192af6c-dcb3-4183-8f81-d43e393aeafc",
   "metadata": {},
   "outputs": [],
   "source": [
    "##ANS; (i) is qualitative\n",
    "## (ii) qualitative (iii) is quantitative nad (iv) is also quantitative"
   ]
  },
  {
   "cell_type": "code",
   "execution_count": 6,
   "id": "27b4b3a4-2ea1-4f5c-a180-34aa9db7dded",
   "metadata": {},
   "outputs": [],
   "source": [
    "## Q7. How nominal data type is different from ordinal data type.\n",
    "## ANs; in nominal that is a categorical data order does no matter but in ordinal data order is matter and also \n",
    "## rank is important"
   ]
  },
  {
   "cell_type": "code",
   "execution_count": 5,
   "id": "af214ede-e340-4577-ad51-cdcc4d121041",
   "metadata": {},
   "outputs": [],
   "source": [
    "##Q8. Which type of plot can be used to display data in terms of range?\n",
    "## ans; Box plot also be used"
   ]
  },
  {
   "cell_type": "code",
   "execution_count": 7,
   "id": "cd7e94b0-3001-45d7-98a5-05df4e408867",
   "metadata": {},
   "outputs": [],
   "source": [
    "##Q9. Describe the difference between descriptive and inferential statistics. Give an example of each type of statistics and explain how they are used.\n",
    "## ans; descriptive consists of organizing and sumarizing data and infestical consist by a measured of conclusion\n",
    "## Example of Descriptive ststistics is mean,median,mode,varience and standard daviation\n",
    "## Example of infecistical ststistics is z test ,t test etc"
   ]
  },
  {
   "cell_type": "code",
   "execution_count": 8,
   "id": "2a6fdf62-e9cd-4bbe-83b1-4d6ee6d6b0b4",
   "metadata": {},
   "outputs": [],
   "source": [
    "## Q10. What are some common measures of central tendency and variability used in statistics? Explain\n",
    "##how each measure can be used to describe a dataset.?\n",
    "\n",
    "## ans; measures of central tendency  is to find mean median or mode \n",
    "## By mean we found avg of the data and median we can found central tendency when ouliers is present nad mode no of freq maximum"
   ]
  },
  {
   "cell_type": "code",
   "execution_count": 9,
   "id": "44e4dc04-df6a-401f-8b34-fe5bd5e0f9bf",
   "metadata": {},
   "outputs": [],
   "source": [
    "## Q5. Explain the concept of levels of measurement and give an example of a variable for each level.\n",
    "## ans; levels of  measurement also known as scale of  measurement this is used for research a variable is anything that can take diff values \n",
    "## acorss the data \n",
    "##This is  four type (i) nominal ex : favourite clours (ii) ordinal ex: rank of an student \n",
    "##  (iii) interval ex: temparature (iv) ratio scale ex: student marks"
   ]
  }
 ],
 "metadata": {
  "kernelspec": {
   "display_name": "Python 3 (ipykernel)",
   "language": "python",
   "name": "python3"
  },
  "language_info": {
   "codemirror_mode": {
    "name": "ipython",
    "version": 3
   },
   "file_extension": ".py",
   "mimetype": "text/x-python",
   "name": "python",
   "nbconvert_exporter": "python",
   "pygments_lexer": "ipython3",
   "version": "3.10.8"
  }
 },
 "nbformat": 4,
 "nbformat_minor": 5
}
