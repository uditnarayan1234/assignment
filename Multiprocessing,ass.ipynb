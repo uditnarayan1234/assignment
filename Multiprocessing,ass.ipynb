{
 "cells": [
  {
   "cell_type": "code",
   "execution_count": 2,
   "id": "71d45310-5638-40e3-941e-7433986b34bf",
   "metadata": {},
   "outputs": [],
   "source": [
    "##Q1; multiprocessing is to run multiple task at a time in multiple processors\n",
    "## multiprocessing is used to increase the computing system"
   ]
  },
  {
   "cell_type": "code",
   "execution_count": 3,
   "id": "43bb6c7e-b251-441f-9dd6-709445cdd497",
   "metadata": {},
   "outputs": [],
   "source": [
    "##Q2; In multiprocessing has two or more processors and many process exicute at a time\n",
    "## in multithreading technique which allows a cpu to execute multiple threads of one process"
   ]
  },
  {
   "cell_type": "code",
   "execution_count": 15,
   "id": "8b857cf2-7b60-4a13-bc90-2d2a3adf0f31",
   "metadata": {},
   "outputs": [],
   "source": [
    "import multiprocessing"
   ]
  },
  {
   "cell_type": "code",
   "execution_count": 10,
   "id": "18c90f47-d9dc-42e6-a37b-5c42008c7863",
   "metadata": {},
   "outputs": [
    {
     "name": "stdout",
     "output_type": "stream",
     "text": [
      "That is multiprocessing \n",
      " This is my first process program\n"
     ]
    }
   ],
   "source": [
    "##Q3;\n",
    "import multiprocessing\n",
    "def test1():\n",
    "    print(\" This is my first process program\")\n",
    "    \n",
    "if __name__ == '__main__':\n",
    "    p = multiprocessing.Process(target=test1)\n",
    "    print(\"That is multiprocessing \")\n",
    "    p.start()\n",
    "    p.join()"
   ]
  },
  {
   "cell_type": "code",
   "execution_count": 17,
   "id": "c4d52dbe-c036-49bb-84ad-cfd66c4b8748",
   "metadata": {},
   "outputs": [
    {
     "name": "stdout",
     "output_type": "stream",
     "text": [
      " This is my first process program\n"
     ]
    }
   ],
   "source": [
    "test1()"
   ]
  },
  {
   "cell_type": "code",
   "execution_count": 1,
   "id": "aa620a63-6643-4ccb-8754-de47429b1a5c",
   "metadata": {},
   "outputs": [],
   "source": [
    "##Q4; multiprocessing pool returns a process pool object "
   ]
  },
  {
   "cell_type": "code",
   "execution_count": 11,
   "id": "d10feb77-7af6-46bf-b1d0-03b245a39680",
   "metadata": {},
   "outputs": [],
   "source": [
    "import multiprocessing\n",
    "##Q5;"
   ]
  },
  {
   "cell_type": "code",
   "execution_count": 9,
   "id": "1126611a-d791-4895-ba81-1c880c7cb7ae",
   "metadata": {},
   "outputs": [
    {
     "name": "stdout",
     "output_type": "stream",
     "text": [
      "[1, 8, 27, 216, 343, 512]\n"
     ]
    }
   ],
   "source": [
    "import multiprocessing\n",
    "def cube(n):\n",
    "    return n**3\n",
    "\n",
    "if __name__ == '__main__':\n",
    "    with multiprocessing.Pool(processes=1) as pool :\n",
    "        \n",
    "        gfg = pool.map(cube ,[1,2,3,6,7,8])\n",
    "        print(gfg)"
   ]
  },
  {
   "cell_type": "code",
   "execution_count": null,
   "id": "b7493bdb-7577-42c2-9c39-3c9c12c180bd",
   "metadata": {},
   "outputs": [],
   "source": []
  }
 ],
 "metadata": {
  "kernelspec": {
   "display_name": "Python 3 (ipykernel)",
   "language": "python",
   "name": "python3"
  },
  "language_info": {
   "codemirror_mode": {
    "name": "ipython",
    "version": 3
   },
   "file_extension": ".py",
   "mimetype": "text/x-python",
   "name": "python",
   "nbconvert_exporter": "python",
   "pygments_lexer": "ipython3",
   "version": "3.10.8"
  }
 },
 "nbformat": 4,
 "nbformat_minor": 5
}
