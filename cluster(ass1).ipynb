{
 "cells": [
  {
   "cell_type": "code",
   "execution_count": 1,
   "id": "d0e7541b-7178-4995-9b72-8e1f0a133045",
   "metadata": {},
   "outputs": [],
   "source": [
    "## Q1. What are the different types of clustering algorithms, and how do they differ in terms of their approach\n",
    "## and underlying assumptions\n",
    "\n",
    "## Centroid-Based Clustering (k-means):\n",
    "## Approach: Organizes data into non-hierarchical clusters by finding centroids (representative points) for each cluster.\n",
    "\n",
    "## Hierarchical Clustering:\n",
    "## Approach: Creates a tree of clusters (dendrogram)."
   ]
  },
  {
   "cell_type": "code",
   "execution_count": 2,
   "id": "43d23f9c-be89-4202-8967-ba875f323678",
   "metadata": {},
   "outputs": [],
   "source": [
    "## Q2.What is K-means clustering, and how does it work?\n",
    "\n",
    "## Certainly! K-means clustering is a popular unsupervised machine learning technique used for grouping similar data points into clusters.\n",
    "## Initialization:\n",
    "## Randomly place k centroids in the data space.\n",
    "## Assignment:\n",
    "# Assign each data point to the nearest centroid (based on Euclidean distance).\n",
    "# Form k clusters.\n",
    "# Update Centroids:\n",
    "# Recalculate the centroids by taking the mean of all data points in each cluster."
   ]
  },
  {
   "cell_type": "code",
   "execution_count": 3,
   "id": "60cd0807-6636-4b7a-b4ac-b360d2829c21",
   "metadata": {},
   "outputs": [],
   "source": [
    "## Q3. What are some advantages and limitations of K-means clustering compared to other clustering\n",
    "## techniques?\n",
    "\n",
    "## Advantages of K-means:\n",
    "# Simplicity: K-means is straightforward to understand and implement in Python.\n",
    "# Efficiency: It is computationally efficient, making it suitable for large datasets.\n",
    "# Scalability: K-means can handle large datasets with numerous variables."
   ]
  },
  {
   "cell_type": "code",
   "execution_count": 4,
   "id": "a5173e3a-af2f-4c39-9e7d-a87b528b12a8",
   "metadata": {},
   "outputs": [],
   "source": [
    "## Q4. How do you determine the optimal number of clusters in K-means clustering, and what are some\n",
    "## common methods for doing so?\n",
    "\n",
    "## Elbow Method:\n",
    "## The elbow method is a graphical approach to find the optimal k.\n",
    "## Steps:\n",
    "# Compute K-means for different values of k (e.g., from 1 to 10 clusters).\n",
    "# Calculate the within-cluster sum of squares (WSS) for each k (sum of squared distances from each point to its cluster centroid).\n",
    "# Plot the WSS against the number of clusters.\n",
    "# Look for the “elbow point” in the plot—the point where the WSS starts decreasing at a slower rate.\n",
    "# The location of the elbow indicates a reasonable value for k.\n"
   ]
  },
  {
   "cell_type": "code",
   "execution_count": 5,
   "id": "957d6123-cc43-42e1-a8cc-2be8ec93c1fa",
   "metadata": {},
   "outputs": [],
   "source": [
    "## Q5. What are some applications of K-means clustering in real-world scenarios, and how has it been used\n",
    "## to solve specific problems?\n",
    "\n",
    "## Retail Marketing:\n",
    "# Retail companies use K-means to segment customers based on their purchasing behavior.\n",
    "# By clustering households with similar characteristics (e.g., income, family size, spending habits), retailers can personalize advertisements and promotions.\n"
   ]
  },
  {
   "cell_type": "code",
   "execution_count": null,
   "id": "60c35ea7-305f-4dc6-b51a-431f8240d5cc",
   "metadata": {},
   "outputs": [],
   "source": [
    "## Q7. What are  some common challenges in implementing K-means clustering, and how can you address\n",
    "#them?\n",
    "\n",
    "## "
   ]
  }
 ],
 "metadata": {
  "kernelspec": {
   "display_name": "Python 3 (ipykernel)",
   "language": "python",
   "name": "python3"
  },
  "language_info": {
   "codemirror_mode": {
    "name": "ipython",
    "version": 3
   },
   "file_extension": ".py",
   "mimetype": "text/x-python",
   "name": "python",
   "nbconvert_exporter": "python",
   "pygments_lexer": "ipython3",
   "version": "3.10.8"
  }
 },
 "nbformat": 4,
 "nbformat_minor": 5
}
