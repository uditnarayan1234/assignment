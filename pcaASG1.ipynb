{
 "cells": [
  {
   "cell_type": "code",
   "execution_count": 1,
   "id": "6cf8ba4f-2f12-440d-9d22-267a112b2fd2",
   "metadata": {},
   "outputs": [],
   "source": [
    "## Q1. What is the curse of dimensionality reduction and why is it important in machine learning?\n",
    "## curse of dimensionality is the reduction of dimension from higher space to lower space "
   ]
  },
  {
   "cell_type": "code",
   "execution_count": 2,
   "id": "e3d5a2a4-f707-4ac9-96db-68404ef7f737",
   "metadata": {},
   "outputs": [],
   "source": [
    "## Q2. How does the curse of dimensionality impact the performance of machine learning algorithms?\n",
    "# n higher dimensions, data points become sparse, meaning they are far apart from each other. This sparsity makes it difficult for machine learning algorithms to find meaningful patterns, as the concept of \"closeness\" or \"distance\" between points becomes less intuitive.\n",
    "# increased Computational Complexity: As the number of dimensions grows, the computational resources required to process and analyze the data increase exponentially. This can make training models inefficient and time-consuming.\n"
   ]
  },
  {
   "cell_type": "code",
   "execution_count": 3,
   "id": "b2a824ed-7fe7-46aa-9094-bcc9e6400ba1",
   "metadata": {},
   "outputs": [],
   "source": [
    "## Q3. What are some of the consequences of the curse of dimensionality in machine learning, and how do\n",
    "## they impact model performance?\n",
    "\n",
    "## Loss of Predictive Power: As the number of dimensions increases, data points become sparse, making it difficult for models to capture meaningful relationships. This reduces the model's predictive accuracy.\n",
    "## Poor Distance Metrics: Measures like Euclidean distance lose effectiveness in high-dimensional spaces, as all points tend to appear similarly distant. This impacts algorithms like k-Nearest Neighbors and clustering methods."
   ]
  },
  {
   "cell_type": "code",
   "execution_count": 4,
   "id": "d95b58a6-8b10-4de1-8890-d63199f02353",
   "metadata": {},
   "outputs": [],
   "source": [
    "## Q5. What are some limitations and drawbacks of using dimensionality reduction techniques in machine\n",
    "## learning?\n",
    "\n",
    "## These techniques inevitably discard some of the original data, which can lead to a loss of important information or subtle patterns critical to the model's performance.\n",
    "## After reducing dimensions, the transformed features (e.g., principal components in PCA) may lose their original meaning. This makes it difficult to interpret the results or understand the relationship between the features and the target variable."
   ]
  },
  {
   "cell_type": "code",
   "execution_count": 5,
   "id": "cfc88ee5-b055-41ac-920e-211cb9c2d505",
   "metadata": {},
   "outputs": [],
   "source": [
    "## Q6. Q6.How does the curse of dimensionality relate to overfitting and underfitting in machine learning?\n",
    "## Over fitting\n",
    "## in high-dimensional spaces, there is an abundance of features, many of which could be irrelevant or redundant. This increases the risk of a model learning noise or spurious correlations rather than the true underlying patterns.\n",
    "## Overfitting occurs when the model becomes too complex for the available data, perfectly fitting the training set but failing to generalize to unseen data. High-dimensional datasets exacerbate this because sparsity makes each data point appear unique, leading the model to memorize rather than learn.\n",
    "## Under fitting \n",
    "\n",
    "## Underfitting happens when the model is too simple to capture the complexity of the data. In high dimensions, relevant features might be diluted or overshadowed by irrelevant ones, making it harder for the model to identify meaningful patterns."
   ]
  },
  {
   "cell_type": "code",
   "execution_count": null,
   "id": "c069a9d5-4839-4b7a-85c3-74f6b32c0590",
   "metadata": {},
   "outputs": [],
   "source": [
    "## Q7. How can one determine the optimal number of dimensions to reduce data to when using\n",
    "## dimensionality reduction techniques?\n",
    "\n",
    "##b  Cross-Validation:\n",
    "## Evaluate the model's performance across varying numbers of dimensions using cross-validation.\n",
    "## When using deep learning-based dimensionality reduction techniques (like autoencoders), measure the reconstruction error for various latent dimensions."
   ]
  }
 ],
 "metadata": {
  "kernelspec": {
   "display_name": "Python 3 (ipykernel)",
   "language": "python",
   "name": "python3"
  },
  "language_info": {
   "codemirror_mode": {
    "name": "ipython",
    "version": 3
   },
   "file_extension": ".py",
   "mimetype": "text/x-python",
   "name": "python",
   "nbconvert_exporter": "python",
   "pygments_lexer": "ipython3",
   "version": "3.11.7"
  }
 },
 "nbformat": 4,
 "nbformat_minor": 5
}
