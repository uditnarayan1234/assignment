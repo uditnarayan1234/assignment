{
 "cells": [
  {
   "cell_type": "code",
   "execution_count": 1,
   "id": "b56e041f-c10f-44de-9a6c-6f7e2800916b",
   "metadata": {},
   "outputs": [],
   "source": [
    "## Q1. What is Lasso Regression, and how does it differ from other regression techniques?\n",
    "\n",
    "## The lasso regression is also used for feature selection \n",
    "## In this regression we add lamda and all slope with the cost function"
   ]
  },
  {
   "cell_type": "code",
   "execution_count": 2,
   "id": "352be95d-4e35-4892-8679-47a0183977f2",
   "metadata": {},
   "outputs": [],
   "source": [
    "## Q2. What is the main advantage of using Lasso Regression in feature selection?\n",
    "## in this feature selection lies in its ability to automatically select relevant features while discarding \n",
    "##   irrelevant or redundant ones. Let’s delve into the specifics:"
   ]
  },
  {
   "cell_type": "code",
   "execution_count": 3,
   "id": "60ee2539-9428-468e-96bc-4ed7f844fe40",
   "metadata": {},
   "outputs": [],
   "source": [
    "## Q3. How do you interpret the coefficients of a Lasso Regression model? \n",
    "## whwn lamda valuse is increases the coefficiant alos dicreases\n",
    "##  Lasso coefficients are influenced by the regularization parameter (λ), which balances bias and variance."
   ]
  },
  {
   "cell_type": "code",
   "execution_count": 4,
   "id": "ee6d0ef4-e463-4d62-bd0b-623552176210",
   "metadata": {},
   "outputs": [],
   "source": [
    "## Q5. Can Lasso Regression be used for non-linear regression problems? If yes, how?\n",
    "\n",
    "## Yes that is alos use for non linear regression\n",
    "## lasso Regression is inherently designed for linear regression, where the relationship between the features (predictors) and the target variable \n",
    "##Lasso still induces sparsity, even in non-linear models, provided that the regularization parameter (\\lambda) is appropriately chosen.\n",
    "## while Lasso is primarily associated with linear regression, creative adaptations allow its use in non-linear contexts."
   ]
  },
  {
   "cell_type": "code",
   "execution_count": 6,
   "id": "91595c67-e6b1-4966-a7f3-163737d2db7a",
   "metadata": {},
   "outputs": [],
   "source": [
    "## Q6. What is the difference between Ridge Regression and Lasso Regression?\n",
    "\n",
    "## in ridge there is used square of the slope but in lasso use directly the slope\n",
    "## in Ridge regression turns the shrink the coef towards zero\n",
    "## In lassso regression  tends to produce sparce models by setting some coef exatly zero"
   ]
  },
  {
   "cell_type": "code",
   "execution_count": 7,
   "id": "a174807f-d9bd-4dc1-ab75-a5a25eed6b04",
   "metadata": {},
   "outputs": [],
   "source": [
    "## Q7. Can Lasso Regression handle multicollinearity in the input features? If yes, how?\n",
    "\n",
    "## Yes it can handle the multicolinearity lasso \n",
    "## regression can handle the features by using feature selection whose coef is zero "
   ]
  },
  {
   "cell_type": "code",
   "execution_count": null,
   "id": "84ff2a2c-d579-42e8-9f05-9f026b746f4c",
   "metadata": {},
   "outputs": [],
   "source": [
    "## Q8. How do you choose the optimal value of the regularization parameter (lambda) in Lasso Regression?\n",
    "\n",
    "## by using k fold cross validation split tranning data into k folds and repeat the process k times \n",
    "## calculate the avg performance across all folds fo"
   ]
  }
 ],
 "metadata": {
  "kernelspec": {
   "display_name": "Python 3 (ipykernel)",
   "language": "python",
   "name": "python3"
  },
  "language_info": {
   "codemirror_mode": {
    "name": "ipython",
    "version": 3
   },
   "file_extension": ".py",
   "mimetype": "text/x-python",
   "name": "python",
   "nbconvert_exporter": "python",
   "pygments_lexer": "ipython3",
   "version": "3.10.8"
  }
 },
 "nbformat": 4,
 "nbformat_minor": 5
}
