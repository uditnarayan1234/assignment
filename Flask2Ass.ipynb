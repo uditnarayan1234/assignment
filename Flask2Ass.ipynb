{
 "cells": [
  {
   "cell_type": "code",
   "execution_count": 1,
   "id": "d6d40209-190d-47e4-adb2-2587b2244b1e",
   "metadata": {},
   "outputs": [],
   "source": [
    "##Q1; GET method is used to retrieve information from the given server using a given URL\n",
    "## And the POST method is used to send data to a server"
   ]
  },
  {
   "cell_type": "code",
   "execution_count": 2,
   "id": "24b15445-e81c-44a8-a619-882de02a4542",
   "metadata": {},
   "outputs": [],
   "source": [
    "##Q2; the Request is an flask that contains all the data sent from the client to server"
   ]
  },
  {
   "cell_type": "code",
   "execution_count": 3,
   "id": "ffa2fa08-2949-40d0-85ea-3f2c8454e8c6",
   "metadata": {},
   "outputs": [],
   "source": [
    "##Q3; a redirect() is used to send the user to a particular URL with a status code"
   ]
  },
  {
   "cell_type": "code",
   "execution_count": 5,
   "id": "67f7ae88-22f6-4714-81fd-21c5a2dffa34",
   "metadata": {},
   "outputs": [],
   "source": [
    "##Q4;template are the file that contain static data as well as dynamic data\n",
    "##to generate the output from a template file "
   ]
  }
 ],
 "metadata": {
  "kernelspec": {
   "display_name": "Python 3 (ipykernel)",
   "language": "python",
   "name": "python3"
  },
  "language_info": {
   "codemirror_mode": {
    "name": "ipython",
    "version": 3
   },
   "file_extension": ".py",
   "mimetype": "text/x-python",
   "name": "python",
   "nbconvert_exporter": "python",
   "pygments_lexer": "ipython3",
   "version": "3.10.8"
  }
 },
 "nbformat": 4,
 "nbformat_minor": 5
}
