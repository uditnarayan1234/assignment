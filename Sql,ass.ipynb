{
 "cells": [
  {
   "cell_type": "code",
   "execution_count": 1,
   "id": "23576873-f40e-4df3-be99-a360249ccbce",
   "metadata": {},
   "outputs": [],
   "source": [
    "##database where we store data for life time\n",
    "##in SQl we store data in table format and non sql like MOngoDb we store store data in document format"
   ]
  },
  {
   "cell_type": "code",
   "execution_count": null,
   "id": "88f868e6-4c59-49c4-a510-52fb01d294fc",
   "metadata": {},
   "outputs": [],
   "source": [
    "##DdL is a data defination language\n",
    "##CREATE is type of ddl command used creating database and tables\n",
    "##DROP is used to delete whole database or just tables\n",
    "##add remove modify columns in an existing tables\n"
   ]
  },
  {
   "cell_type": "code",
   "execution_count": 1,
   "id": "202a9d79-34f2-431c-bcaa-3bdff8508b0b",
   "metadata": {},
   "outputs": [],
   "source": [
    "##DML is the data maluoulation language for adding \n",
    "##insert command to enter data in the table\n",
    "##update is  the existing data in database tables"
   ]
  },
  {
   "cell_type": "code",
   "execution_count": 2,
   "id": "5231ae52-d248-4268-89ba-51348b56610e",
   "metadata": {},
   "outputs": [],
   "source": [
    "##dql is the data query language"
   ]
  },
  {
   "cell_type": "code",
   "execution_count": null,
   "id": "511785c8-7ccb-4bec-9bee-f16ebacc63e3",
   "metadata": {},
   "outputs": [],
   "source": [
    "##cursor is a temporary work station \n",
    "##"
   ]
  }
 ],
 "metadata": {
  "kernelspec": {
   "display_name": "Python 3 (ipykernel)",
   "language": "python",
   "name": "python3"
  },
  "language_info": {
   "codemirror_mode": {
    "name": "ipython",
    "version": 3
   },
   "file_extension": ".py",
   "mimetype": "text/x-python",
   "name": "python",
   "nbconvert_exporter": "python",
   "pygments_lexer": "ipython3",
   "version": "3.10.8"
  }
 },
 "nbformat": 4,
 "nbformat_minor": 5
}
