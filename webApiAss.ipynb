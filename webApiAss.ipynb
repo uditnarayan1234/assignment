{
 "cells": [
  {
   "cell_type": "code",
   "execution_count": 1,
   "id": "50613363-0bf5-43f7-93f8-375ce521b544",
   "metadata": {},
   "outputs": [],
   "source": [
    "##Q1; API full form is application programming interface \n",
    "## api is a source by which we expose our data in the outside of the world\n",
    "##real life api application is Gpay which is directly connect to our bank account"
   ]
  },
  {
   "cell_type": "code",
   "execution_count": null,
   "id": "fa75fe9d-7200-408f-b06f-74a23e627639",
   "metadata": {},
   "outputs": [],
   "source": [
    "##Q3;web API is the subset of api by which we directly communicate in diff diff system\n",
    "##we cover the API calls to made application\n",
    "##and web API covers a sa=mall potion of API"
   ]
  },
  {
   "cell_type": "code",
   "execution_count": null,
   "id": "a2c5c94b-782a-4fa2-8cde-eaceba82af7f",
   "metadata": {},
   "outputs": [],
   "source": [
    "##Q4; REST architecture working on http protocall by put get and delete function \n",
    "##Where SOAP architecture is working on xml protocall"
   ]
  },
  {
   "cell_type": "code",
   "execution_count": null,
   "id": "74be2d0a-2808-4545-b4c5-c1bd46e7a93a",
   "metadata": {},
   "outputs": [],
   "source": [
    "##q5; REST architecture is easy to implement but SOAP architecture is not easy to implement\n",
    "##SOAP approach the Xml data format but rest work on http protocall"
   ]
  },
  {
   "cell_type": "code",
   "execution_count": null,
   "id": "a3df7724-0990-4d59-a4c4-7e92bfbdb491",
   "metadata": {},
   "outputs": [],
   "source": [
    "##Q4 the advantages is "
   ]
  }
 ],
 "metadata": {
  "kernelspec": {
   "display_name": "Python 3 (ipykernel)",
   "language": "python",
   "name": "python3"
  },
  "language_info": {
   "codemirror_mode": {
    "name": "ipython",
    "version": 3
   },
   "file_extension": ".py",
   "mimetype": "text/x-python",
   "name": "python",
   "nbconvert_exporter": "python",
   "pygments_lexer": "ipython3",
   "version": "3.10.8"
  }
 },
 "nbformat": 4,
 "nbformat_minor": 5
}
