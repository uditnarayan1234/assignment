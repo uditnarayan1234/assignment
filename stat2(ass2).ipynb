{
 "cells": [
  {
   "cell_type": "code",
   "execution_count": 1,
   "id": "1b0819f9-7272-476c-ab48-b59ed2470671",
   "metadata": {},
   "outputs": [],
   "source": [
    "##Q1. Explain the assumptions required to use ANOVA and provide examples of violations that could impact\n",
    "##the validity of the results.\n",
    "\n",
    "## The three assumption of anova that is 1. the factor level are normal distribution 2.the data are independent 3. same variance\n",
    "## "
   ]
  },
  {
   "cell_type": "code",
   "execution_count": 2,
   "id": "42f8cc04-70bd-44cf-a614-c3afd7836ed5",
   "metadata": {},
   "outputs": [],
   "source": [
    "## Q2. What are the three types of ANOVA, and in what situations would each be used?\n",
    "## 1. one way anova; one factor at least two level\n",
    "## 2. reapeated measure anova; when the same object are measured multiple times in diff condition\n",
    "## 3. factorial anova; compare two independent variable on a dependent variable"
   ]
  },
  {
   "cell_type": "code",
   "execution_count": 3,
   "id": "bd03cc17-990f-4dd3-841e-3fc20398a409",
   "metadata": {},
   "outputs": [],
   "source": [
    "## Q4. How would you calculate the total sum of squares (SST), explained sum of squares (SSE), and residual\n",
    "##sum of squares (SSR) in a one-way ANOVA using Python?\n",
    "\n"
   ]
  },
  {
   "cell_type": "code",
   "execution_count": 4,
   "id": "c4050fc8-5597-4ce7-bf2f-45707f70f479",
   "metadata": {},
   "outputs": [],
   "source": [
    "## Q6. Suppose you conducted a one-way ANOVA and obtained an F-statistic of 5.23 and a p-value of 0.02.\n",
    "## What can you conclude about the differences between the groups, and how would you interpret these\n",
    "## results?\n",
    "\n",
    "## f statistics represents the ratio of variance between the sample and variance within the sample greater f avlue means \n",
    "## variation within the groups\n",
    "## p value of 0.02 suggests that 2% chance of obtained f statistics if there is no diff"
   ]
  },
  {
   "cell_type": "code",
   "execution_count": 6,
   "id": "85704a52-53ed-464f-97dc-7950a5666972",
   "metadata": {},
   "outputs": [],
   "source": [
    "## Q7. In a repeated measures ANOVA, how would you handle missing data, and what are the potential\n",
    "##consequences of using different methods to handle missing data?\n",
    "\n",
    "## discarding the any case withe the missing data acorss the variable\n",
    "## llm is used to handle the missing data \n",
    "## the potentian conqsequencees that imputation can be defind the missing value characteristics"
   ]
  },
  {
   "cell_type": "code",
   "execution_count": 1,
   "id": "ee2d84ad-dd4a-4823-921f-369dae9a7787",
   "metadata": {},
   "outputs": [],
   "source": [
    "## Q8. What are some common post-hoc tests used after ANOVA, and when would you use each one? Provide\n",
    "##an example of a situation where a post-hoc test might be necessary.\n",
    "\n",
    "## the anova reavls that plant growth among the fertilizer result a post hoc like correction would be neccasry the growth"
   ]
  },
  {
   "cell_type": "code",
   "execution_count": 5,
   "id": "2b269c0f-6c02-4dc0-abf9-38c71d02b58b",
   "metadata": {},
   "outputs": [
    {
     "name": "stdout",
     "output_type": "stream",
     "text": [
      "The difference in test scores between the groups is significant.\n",
      "T-statistic: -4.754695943505281, p-value: 3.819135262679478e-06\n",
      "  Multiple Comparison of Means - Tukey HSD, FWER=0.05   \n",
      "========================================================\n",
      " group1    group2    meandiff p-adj lower  upper  reject\n",
      "--------------------------------------------------------\n",
      "Control Experimental   6.2615   0.0 3.6645 8.8585   True\n",
      "--------------------------------------------------------\n"
     ]
    }
   ],
   "source": [
    "## Q11. An educational researcher is interested in whether a new teaching method improves student test\n",
    "##scores. They randomly assign 100 students to either the control group (traditional teaching method) or the\n",
    "#experimental group (new teaching method) and administer a test at the end of the semester. Conduct a\n",
    "#two-sample t-test using Python to determine if there are any significant differences in test scores\n",
    "#between the two groups. If the results are significant, follow up with a post-hoc test to determine which\n",
    "#group(s) differ significantly from each other.\n",
    "\n",
    "\n",
    "import numpy as np\n",
    "from scipy import stats\n",
    "import statsmodels.stats.multicomp as mc\n",
    "\n",
    "np.random.seed(42)  # For reproducibility\n",
    "control_group = np.random.normal(loc=70, scale=10, size=100)\n",
    "experimental_group = np.random.normal(loc=75, scale=10, size=100)\n",
    "\n",
    "\n",
    "t_stat, p_value = stats.ttest_ind(control_group, experimental_group)\n",
    "alpha = 0.05  \n",
    "\n",
    "if p_value < alpha:\n",
    "    print(\"The difference in test scores between the groups is significant.\")\n",
    "    print(f\"T-statistic: {t_stat}, p-value: {p_value}\")\n",
    "    \n",
    "    data = np.concatenate([control_group, experimental_group])\n",
    "    group_labels = ['Control'] * len(control_group) + ['Experimental'] * len(experimental_group)\n",
    "    \n",
    "    tukey_results = mc.MultiComparison(data, group_labels).tukeyhsd()\n",
    "    print(tukey_results)\n",
    "else:\n",
    "    print(\"No significant difference found between the groups.\")"
   ]
  },
  {
   "cell_type": "code",
   "execution_count": 4,
   "id": "33f9a126-2557-428e-bbf1-bb6e659f6da4",
   "metadata": {},
   "outputs": [
    {
     "name": "stdout",
     "output_type": "stream",
     "text": [
      "                               sum_sq    df         F    PR(>F)\n",
      "C(Software)                 22.066667   2.0  0.759174  0.478965\n",
      "C(Experience)               12.033333   1.0  0.827982  0.371905\n",
      "C(Software):C(Experience)   14.066667   2.0  0.483945  0.622233\n",
      "Residual                   348.800000  24.0       NaN       NaN\n"
     ]
    }
   ],
   "source": [
    "#Q10. A company wants to know if there are any significant differences in the average time it takes to\n",
    "#complete a task using three different software programs: Program A, Program B, and Program C. They\n",
    "#randomly assign 30 employees to one of the programs and record the time it takes each employee to\n",
    "#complete the task. Conduct a two-way ANOVA using Python to determine if there are any main effects or\n",
    "#interaction effects between the software programs and employee experience level (novice vs.\n",
    "#experienced). Report the F-statistics and p-values, and interpret the results.\n",
    "\n",
    "import pandas as pd\n",
    "import statsmodels.api as sm\n",
    "from statsmodels.formula.api import ols\n",
    "\n",
    "data = {\n",
    "    'Software': ['A', 'B', 'C'] * 10,  \n",
    "    'Experience': ['Novice'] * 15 + ['Experienced'] * 15, \n",
    "    'Time': [20, 18, 22, 25, 24, 26, 28, 27, 29, 30, 22, 23, 25, 24, 26, 21, 19, 20, 18, 17, 28, 27, 29, 30, 22, 23, 25, 24, 26, 21]\n",
    "}\n",
    "\n",
    "df = pd.DataFrame(data)\n",
    "\n",
    "\n",
    "model = ols('Time ~ C(Software) * C(Experience)', data=df).fit()\n",
    "anova_table = sm.stats.anova_lm(model, typ=2)\n",
    "\n",
    "print(anova_table)"
   ]
  },
  {
   "cell_type": "code",
   "execution_count": null,
   "id": "74e9ce90-4113-4768-9e47-8e17c703b0cd",
   "metadata": {},
   "outputs": [],
   "source": []
  }
 ],
 "metadata": {
  "kernelspec": {
   "display_name": "Python 3 (ipykernel)",
   "language": "python",
   "name": "python3"
  },
  "language_info": {
   "codemirror_mode": {
    "name": "ipython",
    "version": 3
   },
   "file_extension": ".py",
   "mimetype": "text/x-python",
   "name": "python",
   "nbconvert_exporter": "python",
   "pygments_lexer": "ipython3",
   "version": "3.10.8"
  }
 },
 "nbformat": 4,
 "nbformat_minor": 5
}
